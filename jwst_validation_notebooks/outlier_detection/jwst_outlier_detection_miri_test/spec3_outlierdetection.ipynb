{
 "cells": [
  {
   "cell_type": "code",
   "execution_count": 1,
   "metadata": {},
   "outputs": [],
   "source": [
    "import pytest\n",
    "import numpy as np\n",
    "import glob\n",
    "import json\n",
    "import jwst\n",
    "from jwst import datamodels\n",
    "from astropy.io import fits, ascii\n",
    "from jwst.associations.asn_from_list import asn_from_list\n",
    "from jwst.associations.lib.rules_level2_base import DMSLevel2bBase\n",
    "from jwst.associations.lib.rules_level3_base import DMS_Level3_Base\n",
    "from jwst.pipeline import Detector1Pipeline, Spec2Pipeline, Spec3Pipeline, collect_pipeline_cfgs\n",
    "from astropy.coordinates import Angle\n",
    "from astropy.table import Table, vstack, unique\n",
    "from astropy.stats import sigma_clip\n",
    "from jwst.pipeline import calwebb_spec3\n",
    "from jwst.associations.asn_from_list import asn_from_list\n",
    "import matplotlib.pyplot as plt\n",
    "import random\n",
    "from jwst.associations.lib.rules_level3_base import DMS_Level3_Base\n",
    "from jwst.outlier_detection import outlier_detection\n",
    "from ci_watson.artifactory_helpers import get_bigdata"
   ]
  },
  {
   "cell_type": "code",
   "execution_count": 2,
   "metadata": {},
   "outputs": [],
   "source": [
    "Slitfile1 = get_bigdata('jwst_validation_notebooks',\n",
    "                                     'validation_data',\n",
    "                                     'calwebb_spec2',\n",
    "                                    'spec2_miri_test',\n",
    "                                    'miri_lrs_slit_pt_nod1_v2.3.fits')\n",
    " \n",
    "Slitfile2 = get_bigdata('jwst_validation_notebooks',\n",
    "                                     'validation_data',\n",
    "                                     'calwebb_spec2',\n",
    "                                    'spec2_miri_test',\n",
    "                                    'miri_lrs_slit_pt_nod2_v2.3.fits')"
   ]
  },
  {
   "cell_type": "code",
   "execution_count": 3,
   "metadata": {},
   "outputs": [
    {
     "name": "stderr",
     "output_type": "stream",
     "text": [
      "2021-07-27 16:07:47,665 - stpipe - INFO - PARS-DETECTOR1PIPELINE parameters found: /grp/crds/cache/references/jwst/jwst_miri_pars-detector1pipeline_0001.asdf\n",
      "2021-07-27 16:07:47,743 - stpipe.Detector1Pipeline - INFO - Detector1Pipeline instance created.\n",
      "2021-07-27 16:07:47,744 - stpipe.Detector1Pipeline.group_scale - INFO - GroupScaleStep instance created.\n",
      "2021-07-27 16:07:47,746 - stpipe.Detector1Pipeline.dq_init - INFO - DQInitStep instance created.\n",
      "2021-07-27 16:07:47,747 - stpipe.Detector1Pipeline.saturation - INFO - SaturationStep instance created.\n",
      "2021-07-27 16:07:47,749 - stpipe.Detector1Pipeline.ipc - INFO - IPCStep instance created.\n",
      "2021-07-27 16:07:47,750 - stpipe.Detector1Pipeline.superbias - INFO - SuperBiasStep instance created.\n",
      "2021-07-27 16:07:47,751 - stpipe.Detector1Pipeline.refpix - INFO - RefPixStep instance created.\n",
      "2021-07-27 16:07:47,753 - stpipe.Detector1Pipeline.rscd - INFO - RscdStep instance created.\n",
      "2021-07-27 16:07:47,754 - stpipe.Detector1Pipeline.firstframe - INFO - FirstFrameStep instance created.\n",
      "2021-07-27 16:07:47,756 - stpipe.Detector1Pipeline.lastframe - INFO - LastFrameStep instance created.\n",
      "2021-07-27 16:07:47,757 - stpipe.Detector1Pipeline.linearity - INFO - LinearityStep instance created.\n",
      "2021-07-27 16:07:47,758 - stpipe.Detector1Pipeline.dark_current - INFO - DarkCurrentStep instance created.\n",
      "2021-07-27 16:07:47,760 - stpipe.Detector1Pipeline.reset - INFO - ResetStep instance created.\n",
      "2021-07-27 16:07:47,761 - stpipe.Detector1Pipeline.persistence - INFO - PersistenceStep instance created.\n",
      "2021-07-27 16:07:47,762 - stpipe.Detector1Pipeline.jump - INFO - JumpStep instance created.\n",
      "2021-07-27 16:07:47,765 - stpipe.Detector1Pipeline.ramp_fit - INFO - RampFitStep instance created.\n",
      "2021-07-27 16:07:47,766 - stpipe.Detector1Pipeline.gain_scale - INFO - GainScaleStep instance created.\n",
      "2021-07-27 16:07:47,830 - stpipe.Detector1Pipeline - INFO - Step Detector1Pipeline running with args ('/Users/kmurray/lrs_nOPS7-OTB-20191216_simulation/miri_lrs_slit_pt_nod1_v2.3.fits',).\n",
      "2021-07-27 16:07:47,842 - stpipe.Detector1Pipeline - INFO - Step Detector1Pipeline parameters are: {'pre_hooks': [], 'post_hooks': [], 'output_file': None, 'output_dir': 'mirisimv2.3sim_correctdither/detector1/', 'output_ext': '.fits', 'output_use_model': False, 'output_use_index': True, 'save_results': False, 'skip': False, 'suffix': None, 'search_output_file': True, 'input_dir': '', 'save_calibrated_ramp': True, 'steps': {'group_scale': {'pre_hooks': [], 'post_hooks': [], 'output_file': None, 'output_dir': None, 'output_ext': '.fits', 'output_use_model': False, 'output_use_index': True, 'save_results': True, 'skip': False, 'suffix': None, 'search_output_file': True, 'input_dir': ''}, 'dq_init': {'pre_hooks': [], 'post_hooks': [], 'output_file': None, 'output_dir': None, 'output_ext': '.fits', 'output_use_model': False, 'output_use_index': True, 'save_results': True, 'skip': False, 'suffix': None, 'search_output_file': True, 'input_dir': ''}, 'saturation': {'pre_hooks': [], 'post_hooks': [], 'output_file': None, 'output_dir': None, 'output_ext': '.fits', 'output_use_model': False, 'output_use_index': True, 'save_results': True, 'skip': False, 'suffix': None, 'search_output_file': True, 'input_dir': ''}, 'ipc': {'pre_hooks': [], 'post_hooks': [], 'output_file': None, 'output_dir': None, 'output_ext': '.fits', 'output_use_model': False, 'output_use_index': True, 'save_results': True, 'skip': True, 'suffix': None, 'search_output_file': True, 'input_dir': ''}, 'superbias': {'pre_hooks': [], 'post_hooks': [], 'output_file': None, 'output_dir': None, 'output_ext': '.fits', 'output_use_model': False, 'output_use_index': True, 'save_results': True, 'skip': False, 'suffix': None, 'search_output_file': True, 'input_dir': ''}, 'refpix': {'pre_hooks': [], 'post_hooks': [], 'output_file': None, 'output_dir': None, 'output_ext': '.fits', 'output_use_model': False, 'output_use_index': True, 'save_results': True, 'skip': False, 'suffix': None, 'search_output_file': True, 'input_dir': '', 'odd_even_columns': True, 'use_side_ref_pixels': True, 'side_smoothing_length': 11, 'side_gain': 1.0, 'odd_even_rows': True}, 'rscd': {'pre_hooks': [], 'post_hooks': [], 'output_file': None, 'output_dir': None, 'output_ext': '.fits', 'output_use_model': False, 'output_use_index': True, 'save_results': True, 'skip': False, 'suffix': None, 'search_output_file': True, 'input_dir': '', 'type': 'baseline'}, 'firstframe': {'pre_hooks': [], 'post_hooks': [], 'output_file': None, 'output_dir': None, 'output_ext': '.fits', 'output_use_model': False, 'output_use_index': True, 'save_results': True, 'skip': False, 'suffix': None, 'search_output_file': True, 'input_dir': ''}, 'lastframe': {'pre_hooks': [], 'post_hooks': [], 'output_file': None, 'output_dir': None, 'output_ext': '.fits', 'output_use_model': False, 'output_use_index': True, 'save_results': True, 'skip': False, 'suffix': None, 'search_output_file': True, 'input_dir': ''}, 'linearity': {'pre_hooks': [], 'post_hooks': [], 'output_file': None, 'output_dir': None, 'output_ext': '.fits', 'output_use_model': False, 'output_use_index': True, 'save_results': True, 'skip': False, 'suffix': None, 'search_output_file': True, 'input_dir': ''}, 'dark_current': {'pre_hooks': [], 'post_hooks': [], 'output_file': None, 'output_dir': None, 'output_ext': '.fits', 'output_use_model': False, 'output_use_index': True, 'save_results': True, 'skip': False, 'suffix': None, 'search_output_file': True, 'input_dir': '', 'dark_output': None}, 'reset': {'pre_hooks': [], 'post_hooks': [], 'output_file': None, 'output_dir': None, 'output_ext': '.fits', 'output_use_model': False, 'output_use_index': True, 'save_results': False, 'skip': False, 'suffix': None, 'search_output_file': True, 'input_dir': ''}, 'persistence': {'pre_hooks': [], 'post_hooks': [], 'output_file': None, 'output_dir': None, 'output_ext': '.fits', 'output_use_model': False, 'output_use_index': True, 'save_results': True, 'skip': False, 'suffix': None, 'search_output_file': True, 'input_dir': '', 'input_trapsfilled': '', 'flag_pers_cutoff': 40.0, 'save_persistence': False, 'save_trapsfilled': True}, 'jump': {'pre_hooks': [], 'post_hooks': [], 'output_file': None, 'output_dir': None, 'output_ext': '.fits', 'output_use_model': False, 'output_use_index': True, 'save_results': True, 'skip': False, 'suffix': None, 'search_output_file': True, 'input_dir': '', 'rejection_threshold': 4.0, 'three_group_rejection_threshold': 6.0, 'four_group_rejection_threshold': 5.0, 'maximum_cores': 'none', 'flag_4_neighbors': True, 'max_jump_to_flag_neighbors': 1000.0, 'min_jump_to_flag_neighbors': 10.0}, 'ramp_fit': {'pre_hooks': [], 'post_hooks': [], 'output_file': None, 'output_dir': None, 'output_ext': '.fits', 'output_use_model': False, 'output_use_index': True, 'save_results': True, 'skip': False, 'suffix': None, 'search_output_file': True, 'input_dir': '', 'int_name': '', 'save_opt': False, 'opt_name': '', 'maximum_cores': 'none'}, 'gain_scale': {'pre_hooks': [], 'post_hooks': [], 'output_file': None, 'output_dir': None, 'output_ext': '.fits', 'output_use_model': False, 'output_use_index': True, 'save_results': True, 'skip': False, 'suffix': None, 'search_output_file': True, 'input_dir': ''}}}\n",
      "2021-07-27 16:07:47,959 - stpipe.Detector1Pipeline - INFO - Prefetching reference files for dataset: 'miri_lrs_slit_pt_nod1_v2.3.fits' reftypes = ['dark', 'gain', 'linearity', 'mask', 'persat', 'readnoise', 'refpix', 'reset', 'rscd', 'saturation', 'superbias', 'trapdensity', 'trappars']\n",
      "2021-07-27 16:07:48,083 - stpipe.Detector1Pipeline - INFO - Prefetch for DARK reference file is '/grp/crds/cache/references/jwst/jwst_miri_dark_0058.fits'.\n",
      "2021-07-27 16:07:48,112 - stpipe.Detector1Pipeline - INFO - Prefetch for GAIN reference file is '/grp/crds/cache/references/jwst/jwst_miri_gain_0008.fits'.\n",
      "2021-07-27 16:07:48,139 - stpipe.Detector1Pipeline - INFO - Prefetch for LINEARITY reference file is '/grp/crds/cache/references/jwst/jwst_miri_linearity_0024.fits'.\n",
      "2021-07-27 16:07:48,171 - stpipe.Detector1Pipeline - INFO - Prefetch for MASK reference file is '/grp/crds/cache/references/jwst/jwst_miri_mask_0023.fits'.\n",
      "2021-07-27 16:07:48,199 - stpipe.Detector1Pipeline - INFO - Prefetch for PERSAT reference file is 'N/A'.\n"
     ]
    },
    {
     "name": "stderr",
     "output_type": "stream",
     "text": [
      "2021-07-27 16:07:48,200 - stpipe.Detector1Pipeline - INFO - Prefetch for READNOISE reference file is '/grp/crds/cache/references/jwst/jwst_miri_readnoise_0057.fits'.\n",
      "2021-07-27 16:07:48,231 - stpipe.Detector1Pipeline - INFO - Prefetch for REFPIX reference file is 'N/A'.\n",
      "2021-07-27 16:07:48,232 - stpipe.Detector1Pipeline - INFO - Prefetch for RESET reference file is '/grp/crds/cache/references/jwst/jwst_miri_reset_0047.fits'.\n",
      "2021-07-27 16:07:48,265 - stpipe.Detector1Pipeline - INFO - Prefetch for RSCD reference file is '/grp/crds/cache/references/jwst/jwst_miri_rscd_0010.fits'.\n",
      "2021-07-27 16:07:48,295 - stpipe.Detector1Pipeline - INFO - Prefetch for SATURATION reference file is '/grp/crds/cache/references/jwst/jwst_miri_saturation_0026.fits'.\n",
      "2021-07-27 16:07:48,324 - stpipe.Detector1Pipeline - INFO - Prefetch for SUPERBIAS reference file is 'N/A'.\n",
      "2021-07-27 16:07:48,324 - stpipe.Detector1Pipeline - INFO - Prefetch for TRAPDENSITY reference file is 'N/A'.\n",
      "2021-07-27 16:07:48,325 - stpipe.Detector1Pipeline - INFO - Prefetch for TRAPPARS reference file is 'N/A'.\n",
      "2021-07-27 16:07:48,326 - stpipe.Detector1Pipeline - INFO - Starting calwebb_detector1 ...\n",
      "2021-07-27 16:07:48,551 - stpipe.Detector1Pipeline.group_scale - INFO - Step group_scale running with args (<RampModel(2, 10, 1024, 1032) from miri_lrs_slit_pt_nod1_v2.3.fits>,).\n",
      "2021-07-27 16:07:48,553 - stpipe.Detector1Pipeline.group_scale - INFO - Step group_scale parameters are: {'pre_hooks': [], 'post_hooks': [], 'output_file': None, 'output_dir': None, 'output_ext': '.fits', 'output_use_model': False, 'output_use_index': True, 'save_results': True, 'skip': False, 'suffix': None, 'search_output_file': True, 'input_dir': '/Users/kmurray/lrs_nOPS7-OTB-20191216_simulation'}\n",
      "2021-07-27 16:07:48,627 - stpipe.Detector1Pipeline.group_scale - INFO - NFRAMES=1 is a power of 2; correction not needed\n",
      "2021-07-27 16:07:48,628 - stpipe.Detector1Pipeline.group_scale - INFO - Step will be skipped\n",
      "2021-07-27 16:07:49,274 - stpipe.Detector1Pipeline.group_scale - INFO - Saved model in mirisimv2.3sim_correctdither/detector1/miri_lrs_slit_pt_nod1_v2.3_group_scale.fits\n",
      "2021-07-27 16:07:49,275 - stpipe.Detector1Pipeline.group_scale - INFO - Step group_scale done\n",
      "2021-07-27 16:07:49,328 - stpipe.Detector1Pipeline.dq_init - INFO - Step dq_init running with args (<RampModel(2, 10, 1024, 1032) from miri_lrs_slit_pt_nod1_v2.3_group_scale.fits>,).\n",
      "2021-07-27 16:07:49,330 - stpipe.Detector1Pipeline.dq_init - INFO - Step dq_init parameters are: {'pre_hooks': [], 'post_hooks': [], 'output_file': None, 'output_dir': None, 'output_ext': '.fits', 'output_use_model': False, 'output_use_index': True, 'save_results': True, 'skip': False, 'suffix': None, 'search_output_file': True, 'input_dir': '/Users/kmurray/lrs_nOPS7-OTB-20191216_simulation'}\n",
      "2021-07-27 16:07:49,379 - stpipe.Detector1Pipeline.dq_init - INFO - Using MASK reference file /grp/crds/cache/references/jwst/jwst_miri_mask_0023.fits\n",
      "2021-07-27 16:07:50,860 - stpipe.Detector1Pipeline.dq_init - INFO - Saved model in mirisimv2.3sim_correctdither/detector1/miri_lrs_slit_pt_nod1_v2.3_dq_init.fits\n",
      "2021-07-27 16:07:50,861 - stpipe.Detector1Pipeline.dq_init - INFO - Step dq_init done\n",
      "2021-07-27 16:07:50,929 - stpipe.Detector1Pipeline.saturation - INFO - Step saturation running with args (<RampModel(2, 10, 1024, 1032) from miri_lrs_slit_pt_nod1_v2.3_dq_init.fits>,).\n",
      "2021-07-27 16:07:50,931 - stpipe.Detector1Pipeline.saturation - INFO - Step saturation parameters are: {'pre_hooks': [], 'post_hooks': [], 'output_file': None, 'output_dir': None, 'output_ext': '.fits', 'output_use_model': False, 'output_use_index': True, 'save_results': True, 'skip': False, 'suffix': None, 'search_output_file': True, 'input_dir': '/Users/kmurray/lrs_nOPS7-OTB-20191216_simulation'}\n",
      "2021-07-27 16:07:50,984 - stpipe.Detector1Pipeline.saturation - INFO - Using SATURATION reference file /grp/crds/cache/references/jwst/jwst_miri_saturation_0026.fits\n",
      "2021-07-27 16:07:53,161 - stpipe.Detector1Pipeline.saturation - INFO - Detected 0 saturated pixels\n",
      "2021-07-27 16:07:53,171 - stpipe.Detector1Pipeline.saturation - INFO - Detected 0 A/D floor pixels\n",
      "2021-07-27 16:07:53,707 - stpipe.Detector1Pipeline.saturation - INFO - Saved model in mirisimv2.3sim_correctdither/detector1/miri_lrs_slit_pt_nod1_v2.3_saturation.fits\n",
      "2021-07-27 16:07:53,708 - stpipe.Detector1Pipeline.saturation - INFO - Step saturation done\n",
      "2021-07-27 16:07:53,778 - stpipe.Detector1Pipeline.ipc - INFO - Step ipc running with args (<RampModel(2, 10, 1024, 1032) from miri_lrs_slit_pt_nod1_v2.3_saturation.fits>,).\n",
      "2021-07-27 16:07:53,780 - stpipe.Detector1Pipeline.ipc - INFO - Step ipc parameters are: {'pre_hooks': [], 'post_hooks': [], 'output_file': None, 'output_dir': None, 'output_ext': '.fits', 'output_use_model': False, 'output_use_index': True, 'save_results': True, 'skip': True, 'suffix': None, 'search_output_file': True, 'input_dir': '/Users/kmurray/lrs_nOPS7-OTB-20191216_simulation'}\n",
      "2021-07-27 16:07:53,781 - stpipe.Detector1Pipeline.ipc - INFO - Step skipped.\n",
      "2021-07-27 16:07:53,782 - stpipe.Detector1Pipeline.ipc - INFO - Step ipc done\n",
      "2021-07-27 16:07:53,835 - stpipe.Detector1Pipeline.firstframe - INFO - Step firstframe running with args (<RampModel(2, 10, 1024, 1032) from miri_lrs_slit_pt_nod1_v2.3_saturation.fits>,).\n",
      "2021-07-27 16:07:53,837 - stpipe.Detector1Pipeline.firstframe - INFO - Step firstframe parameters are: {'pre_hooks': [], 'post_hooks': [], 'output_file': None, 'output_dir': None, 'output_ext': '.fits', 'output_use_model': False, 'output_use_index': True, 'save_results': True, 'skip': False, 'suffix': None, 'search_output_file': True, 'input_dir': '/Users/kmurray/lrs_nOPS7-OTB-20191216_simulation'}\n",
      "2021-07-27 16:07:54,494 - stpipe.Detector1Pipeline.firstframe - INFO - Saved model in mirisimv2.3sim_correctdither/detector1/miri_lrs_slit_pt_nod1_v2.3_firstframe.fits\n",
      "2021-07-27 16:07:54,495 - stpipe.Detector1Pipeline.firstframe - INFO - Step firstframe done\n",
      "2021-07-27 16:07:54,559 - stpipe.Detector1Pipeline.lastframe - INFO - Step lastframe running with args (<RampModel(2, 10, 1024, 1032) from miri_lrs_slit_pt_nod1_v2.3_firstframe.fits>,).\n",
      "2021-07-27 16:07:54,561 - stpipe.Detector1Pipeline.lastframe - INFO - Step lastframe parameters are: {'pre_hooks': [], 'post_hooks': [], 'output_file': None, 'output_dir': None, 'output_ext': '.fits', 'output_use_model': False, 'output_use_index': True, 'save_results': True, 'skip': False, 'suffix': None, 'search_output_file': True, 'input_dir': '/Users/kmurray/lrs_nOPS7-OTB-20191216_simulation'}\n",
      "2021-07-27 16:07:55,206 - stpipe.Detector1Pipeline.lastframe - INFO - Saved model in mirisimv2.3sim_correctdither/detector1/miri_lrs_slit_pt_nod1_v2.3_lastframe.fits\n",
      "2021-07-27 16:07:55,207 - stpipe.Detector1Pipeline.lastframe - INFO - Step lastframe done\n",
      "2021-07-27 16:07:55,268 - stpipe.Detector1Pipeline.reset - INFO - Step reset running with args (<RampModel(2, 10, 1024, 1032) from miri_lrs_slit_pt_nod1_v2.3_lastframe.fits>,).\n",
      "2021-07-27 16:07:55,269 - stpipe.Detector1Pipeline.reset - INFO - Step reset parameters are: {'pre_hooks': [], 'post_hooks': [], 'output_file': None, 'output_dir': None, 'output_ext': '.fits', 'output_use_model': False, 'output_use_index': True, 'save_results': False, 'skip': False, 'suffix': None, 'search_output_file': True, 'input_dir': '/Users/kmurray/lrs_nOPS7-OTB-20191216_simulation'}\n",
      "2021-07-27 16:07:55,309 - stpipe.Detector1Pipeline.reset - INFO - Using RESET reference file /grp/crds/cache/references/jwst/jwst_miri_reset_0047.fits\n",
      "2021-07-27 16:08:44,661 - stpipe.Detector1Pipeline.reset - INFO - Step reset done\n",
      "2021-07-27 16:08:44,749 - stpipe.Detector1Pipeline.linearity - INFO - Step linearity running with args (<RampModel(2, 10, 1024, 1032) from miri_lrs_slit_pt_nod1_v2.3_lastframe.fits>,).\n",
      "2021-07-27 16:08:44,751 - stpipe.Detector1Pipeline.linearity - INFO - Step linearity parameters are: {'pre_hooks': [], 'post_hooks': [], 'output_file': None, 'output_dir': None, 'output_ext': '.fits', 'output_use_model': False, 'output_use_index': True, 'save_results': True, 'skip': False, 'suffix': None, 'search_output_file': True, 'input_dir': '/Users/kmurray/lrs_nOPS7-OTB-20191216_simulation'}\n"
     ]
    },
    {
     "name": "stderr",
     "output_type": "stream",
     "text": [
      "2021-07-27 16:08:44,853 - stpipe.Detector1Pipeline.linearity - INFO - Using Linearity reference file /grp/crds/cache/references/jwst/jwst_miri_linearity_0024.fits\n",
      "2021-07-27 16:08:54,340 - stpipe.Detector1Pipeline.linearity - INFO - Saved model in mirisimv2.3sim_correctdither/detector1/miri_lrs_slit_pt_nod1_v2.3_linearity.fits\n",
      "2021-07-27 16:08:54,341 - stpipe.Detector1Pipeline.linearity - INFO - Step linearity done\n",
      "2021-07-27 16:08:54,408 - stpipe.Detector1Pipeline.rscd - INFO - Step rscd running with args (<RampModel(2, 10, 1024, 1032) from miri_lrs_slit_pt_nod1_v2.3_linearity.fits>,).\n",
      "2021-07-27 16:08:54,409 - stpipe.Detector1Pipeline.rscd - INFO - Step rscd parameters are: {'pre_hooks': [], 'post_hooks': [], 'output_file': None, 'output_dir': None, 'output_ext': '.fits', 'output_use_model': False, 'output_use_index': True, 'save_results': True, 'skip': False, 'suffix': None, 'search_output_file': True, 'input_dir': '/Users/kmurray/lrs_nOPS7-OTB-20191216_simulation', 'type': 'baseline'}\n",
      "2021-07-27 16:08:54,548 - stpipe.Detector1Pipeline.rscd - INFO - Using RSCD reference file /grp/crds/cache/references/jwst/jwst_miri_rscd_0010.fits\n",
      "2021-07-27 16:08:55,263 - stpipe.Detector1Pipeline.rscd - INFO - Saved model in mirisimv2.3sim_correctdither/detector1/miri_lrs_slit_pt_nod1_v2.3_rscd.fits\n",
      "2021-07-27 16:08:55,264 - stpipe.Detector1Pipeline.rscd - INFO - Step rscd done\n",
      "2021-07-27 16:08:55,332 - stpipe.Detector1Pipeline.dark_current - INFO - Step dark_current running with args (<RampModel(2, 10, 1024, 1032) from miri_lrs_slit_pt_nod1_v2.3_rscd.fits>,).\n",
      "2021-07-27 16:08:55,334 - stpipe.Detector1Pipeline.dark_current - INFO - Step dark_current parameters are: {'pre_hooks': [], 'post_hooks': [], 'output_file': None, 'output_dir': 'mirisimv2.3sim_correctdither/detector1/', 'output_ext': '.fits', 'output_use_model': False, 'output_use_index': True, 'save_results': True, 'skip': False, 'suffix': None, 'search_output_file': True, 'input_dir': '/Users/kmurray/lrs_nOPS7-OTB-20191216_simulation', 'dark_output': None}\n",
      "2021-07-27 16:08:55,416 - stpipe.Detector1Pipeline.dark_current - INFO - Using DARK reference file /grp/crds/cache/references/jwst/jwst_miri_dark_0058.fits\n",
      "2021-07-27 16:08:58,147 - stpipe.Detector1Pipeline.dark_current - INFO - Science data nints=2, ngroups=10, nframes=1, groupgap=0\n",
      "2021-07-27 16:08:58,148 - stpipe.Detector1Pipeline.dark_current - INFO - Dark data nints=2, ngroups=200, nframes=1, groupgap=0\n",
      "2021-07-27 16:08:59,281 - stpipe.Detector1Pipeline.dark_current - INFO - Saved model in mirisimv2.3sim_correctdither/detector1/miri_lrs_slit_pt_nod1_v2.3_dark_current.fits\n",
      "2021-07-27 16:08:59,282 - stpipe.Detector1Pipeline.dark_current - INFO - Step dark_current done\n",
      "2021-07-27 16:08:59,560 - stpipe.Detector1Pipeline.refpix - INFO - Step refpix running with args (<RampModel(2, 10, 1024, 1032) from miri_lrs_slit_pt_nod1_v2.3_dark_current.fits>,).\n",
      "2021-07-27 16:08:59,562 - stpipe.Detector1Pipeline.refpix - INFO - Step refpix parameters are: {'pre_hooks': [], 'post_hooks': [], 'output_file': None, 'output_dir': None, 'output_ext': '.fits', 'output_use_model': False, 'output_use_index': True, 'save_results': True, 'skip': False, 'suffix': None, 'search_output_file': True, 'input_dir': '/Users/kmurray/lrs_nOPS7-OTB-20191216_simulation', 'odd_even_columns': True, 'use_side_ref_pixels': True, 'side_smoothing_length': 11, 'side_gain': 1.0, 'odd_even_rows': True}\n",
      "2021-07-27 16:08:59,573 - stpipe.Detector1Pipeline.refpix - INFO - use_side_ref_pixels = True\n",
      "2021-07-27 16:08:59,574 - stpipe.Detector1Pipeline.refpix - INFO - odd_even_columns = True\n",
      "2021-07-27 16:08:59,575 - stpipe.Detector1Pipeline.refpix - INFO - side_smoothing_length = 11\n",
      "2021-07-27 16:08:59,576 - stpipe.Detector1Pipeline.refpix - INFO - side_gain = 1.000000\n",
      "2021-07-27 16:08:59,576 - stpipe.Detector1Pipeline.refpix - INFO - odd_even_rows = True\n",
      "2021-07-27 16:08:59,641 - stpipe.Detector1Pipeline.refpix - INFO - Subtracting initial read from each integration\n",
      "2021-07-27 16:08:59,831 - stpipe.Detector1Pipeline.refpix - INFO - Adding initial read back in\n",
      "2021-07-27 16:09:00,394 - stpipe.Detector1Pipeline.refpix - INFO - Saved model in mirisimv2.3sim_correctdither/detector1/miri_lrs_slit_pt_nod1_v2.3_refpix.fits\n",
      "2021-07-27 16:09:00,396 - stpipe.Detector1Pipeline.refpix - INFO - Step refpix done\n",
      "2021-07-27 16:09:00,461 - stpipe.Detector1Pipeline.jump - INFO - Step jump running with args (<RampModel(2, 10, 1024, 1032) from miri_lrs_slit_pt_nod1_v2.3_refpix.fits>,).\n",
      "2021-07-27 16:09:00,463 - stpipe.Detector1Pipeline.jump - INFO - Step jump parameters are: {'pre_hooks': [], 'post_hooks': [], 'output_file': None, 'output_dir': None, 'output_ext': '.fits', 'output_use_model': False, 'output_use_index': True, 'save_results': True, 'skip': False, 'suffix': None, 'search_output_file': True, 'input_dir': '/Users/kmurray/lrs_nOPS7-OTB-20191216_simulation', 'rejection_threshold': 4.0, 'three_group_rejection_threshold': 6.0, 'four_group_rejection_threshold': 5.0, 'maximum_cores': 'none', 'flag_4_neighbors': True, 'max_jump_to_flag_neighbors': 1000.0, 'min_jump_to_flag_neighbors': 10.0}\n",
      "2021-07-27 16:09:00,476 - stpipe.Detector1Pipeline.jump - INFO - CR rejection threshold = 4 sigma\n",
      "2021-07-27 16:09:00,549 - stpipe.Detector1Pipeline.jump - INFO - Using GAIN reference file: /grp/crds/cache/references/jwst/jwst_miri_gain_0008.fits\n",
      "2021-07-27 16:09:01,323 - stpipe.Detector1Pipeline.jump - INFO - Using READNOISE reference file: /grp/crds/cache/references/jwst/jwst_miri_readnoise_0057.fits\n",
      "2021-07-27 16:09:02,569 - stpipe.Detector1Pipeline.jump - INFO - Using 1 core for jump detection \n",
      "2021-07-27 16:09:02,657 - stpipe.Detector1Pipeline.jump - INFO - Executing two-point difference method\n",
      "2021-07-27 16:09:02,977 - stpipe.Detector1Pipeline.jump - INFO - Working on integration 1:\n",
      "2021-07-27 16:09:03,370 - stpipe.Detector1Pipeline.jump - INFO - From highest outlier Two-point found 81556 pixels with at least one CR and at least four groups\n",
      "2021-07-27 16:09:03,371 - stpipe.Detector1Pipeline.jump - INFO - From highest outlier Two-point found 0 pixels with at least one CR and three groups\n",
      "2021-07-27 16:09:03,371 - stpipe.Detector1Pipeline.jump - INFO - From highest outlier Two-point found 0 pixels with at least one CR and two groups\n",
      "2021-07-27 16:09:05,208 - stpipe.Detector1Pipeline.jump - INFO - Working on integration 2:\n",
      "2021-07-27 16:09:05,592 - stpipe.Detector1Pipeline.jump - INFO - From highest outlier Two-point found 12188 pixels with at least one CR and at least four groups\n",
      "2021-07-27 16:09:05,593 - stpipe.Detector1Pipeline.jump - INFO - From highest outlier Two-point found 0 pixels with at least one CR and three groups\n",
      "2021-07-27 16:09:05,594 - stpipe.Detector1Pipeline.jump - INFO - From highest outlier Two-point found 0 pixels with at least one CR and two groups\n",
      "2021-07-27 16:09:05,936 - stpipe.Detector1Pipeline.jump - INFO - Total elapsed time = 3.27833 sec\n",
      "2021-07-27 16:09:05,939 - stpipe.Detector1Pipeline.jump - INFO - The execution time in seconds: 5.463059\n",
      "2021-07-27 16:09:06,467 - stpipe.Detector1Pipeline.jump - INFO - Saved model in mirisimv2.3sim_correctdither/detector1/miri_lrs_slit_pt_nod1_v2.3_jump.fits\n",
      "2021-07-27 16:09:06,468 - stpipe.Detector1Pipeline.jump - INFO - Step jump done\n",
      "2021-07-27 16:09:06,535 - stpipe.Detector1Pipeline.ramp_fit - INFO - Step ramp_fit running with args (<RampModel(2, 10, 1024, 1032) from miri_lrs_slit_pt_nod1_v2.3_jump.fits>,).\n",
      "2021-07-27 16:09:06,537 - stpipe.Detector1Pipeline.ramp_fit - INFO - Step ramp_fit parameters are: {'pre_hooks': [], 'post_hooks': [], 'output_file': None, 'output_dir': 'mirisimv2.3sim_correctdither/detector1/', 'output_ext': '.fits', 'output_use_model': False, 'output_use_index': True, 'save_results': True, 'skip': False, 'suffix': None, 'search_output_file': True, 'input_dir': '/Users/kmurray/lrs_nOPS7-OTB-20191216_simulation', 'int_name': '', 'save_opt': False, 'opt_name': '', 'maximum_cores': 'none'}\n",
      "2021-07-27 16:09:06,608 - stpipe.Detector1Pipeline.ramp_fit - INFO - Using READNOISE reference file: /grp/crds/cache/references/jwst/jwst_miri_readnoise_0057.fits\n",
      "2021-07-27 16:09:06,660 - stpipe.Detector1Pipeline.ramp_fit - INFO - Using GAIN reference file: /grp/crds/cache/references/jwst/jwst_miri_gain_0008.fits\n"
     ]
    },
    {
     "name": "stderr",
     "output_type": "stream",
     "text": [
      "2021-07-27 16:09:06,711 - stpipe.Detector1Pipeline.ramp_fit - INFO - Using algorithm = ols\n",
      "2021-07-27 16:09:06,712 - stpipe.Detector1Pipeline.ramp_fit - INFO - Using weighting = optimal\n",
      "2021-07-27 16:09:06,727 - stpipe.Detector1Pipeline.ramp_fit - INFO - Number of leading groups that are flagged as DO_NOT_USE: 1\n",
      "2021-07-27 16:09:06,728 - stpipe.Detector1Pipeline.ramp_fit - INFO - MIRI dataset has all pixels in the final group flagged as DO_NOT_USE.\n",
      "2021-07-27 16:09:22,994 - stpipe.Detector1Pipeline.ramp_fit - INFO - Number of groups per integration: 8\n",
      "2021-07-27 16:09:22,995 - stpipe.Detector1Pipeline.ramp_fit - INFO - Number of integrations: 2\n",
      "2021-07-27 16:09:23,183 - stpipe.Detector1Pipeline.ramp_fit - INFO - Saved model in mirisimv2.3sim_correctdither/detector1/miri_lrs_slit_pt_nod1_v2.3_0_ramp_fit.fits\n",
      "2021-07-27 16:09:23,346 - stpipe.Detector1Pipeline.ramp_fit - INFO - Saved model in mirisimv2.3sim_correctdither/detector1/miri_lrs_slit_pt_nod1_v2.3_1_ramp_fit.fits\n",
      "2021-07-27 16:09:23,347 - stpipe.Detector1Pipeline.ramp_fit - INFO - Step ramp_fit done\n",
      "2021-07-27 16:09:23,416 - stpipe.Detector1Pipeline.gain_scale - INFO - Step gain_scale running with args (<ImageModel(1024, 1032) from miri_lrs_slit_pt_nod1_v2.3_0_ramp_fit.fits>,).\n",
      "2021-07-27 16:09:23,418 - stpipe.Detector1Pipeline.gain_scale - INFO - Step gain_scale parameters are: {'pre_hooks': [], 'post_hooks': [], 'output_file': None, 'output_dir': None, 'output_ext': '.fits', 'output_use_model': False, 'output_use_index': True, 'save_results': True, 'skip': False, 'suffix': 'gain_scale', 'search_output_file': True, 'input_dir': '/Users/kmurray/lrs_nOPS7-OTB-20191216_simulation'}\n",
      "2021-07-27 16:09:23,517 - stpipe.Detector1Pipeline.gain_scale - INFO - GAINFACT not found in gain reference file\n",
      "2021-07-27 16:09:23,518 - stpipe.Detector1Pipeline.gain_scale - INFO - Step will be skipped\n",
      "2021-07-27 16:09:23,632 - stpipe.Detector1Pipeline.gain_scale - INFO - Saved model in mirisimv2.3sim_correctdither/detector1/miri_lrs_slit_pt_nod1_v2.3_gain_scale.fits\n",
      "2021-07-27 16:09:23,633 - stpipe.Detector1Pipeline.gain_scale - INFO - Step gain_scale done\n",
      "2021-07-27 16:09:23,691 - stpipe.Detector1Pipeline.gain_scale - INFO - Step gain_scale running with args (<CubeModel(2, 1024, 1032) from miri_lrs_slit_pt_nod1_v2.3_1_ramp_fit.fits>,).\n",
      "2021-07-27 16:09:23,693 - stpipe.Detector1Pipeline.gain_scale - INFO - Step gain_scale parameters are: {'pre_hooks': [], 'post_hooks': [], 'output_file': None, 'output_dir': None, 'output_ext': '.fits', 'output_use_model': False, 'output_use_index': True, 'save_results': True, 'skip': False, 'suffix': 'gain_scaleints', 'search_output_file': True, 'input_dir': '/Users/kmurray/lrs_nOPS7-OTB-20191216_simulation'}\n",
      "2021-07-27 16:09:23,790 - stpipe.Detector1Pipeline.gain_scale - INFO - GAINFACT not found in gain reference file\n",
      "2021-07-27 16:09:23,791 - stpipe.Detector1Pipeline.gain_scale - INFO - Step will be skipped\n",
      "2021-07-27 16:09:23,946 - stpipe.Detector1Pipeline.gain_scale - INFO - Saved model in mirisimv2.3sim_correctdither/detector1/miri_lrs_slit_pt_nod1_v2.3_gain_scaleints.fits\n",
      "2021-07-27 16:09:23,947 - stpipe.Detector1Pipeline.gain_scale - INFO - Step gain_scale done\n",
      "2021-07-27 16:09:23,949 - stpipe.Detector1Pipeline - INFO - ... ending calwebb_detector1\n",
      "2021-07-27 16:09:23,951 - stpipe.Detector1Pipeline - INFO - Step Detector1Pipeline done\n",
      "2021-07-27 16:09:24,222 - stpipe - INFO - PARS-DETECTOR1PIPELINE parameters found: /grp/crds/cache/references/jwst/jwst_miri_pars-detector1pipeline_0001.asdf\n",
      "2021-07-27 16:09:24,285 - stpipe - WARNING - /Users/kmurray/anaconda3/envs/jwst7.8_4th/lib/python3.8/site-packages/stpipe/config_parser.py:118: ResourceWarning: unclosed file <_io.BufferedReader name='configfiles/calwebb_detector1.cfg'>\n",
      "  return ConfigObj(config_file, raise_errors=True)\n",
      "\n",
      "2021-07-27 16:09:24,293 - stpipe - WARNING - /Users/kmurray/anaconda3/envs/jwst7.8_4th/lib/python3.8/site-packages/stpipe/config_parser.py:118: ResourceWarning: unclosed file <_io.BufferedReader name='configfiles/group_scale.cfg'>\n",
      "  return ConfigObj(config_file, raise_errors=True)\n",
      "\n",
      "2021-07-27 16:09:24,296 - stpipe - WARNING - /Users/kmurray/anaconda3/envs/jwst7.8_4th/lib/python3.8/site-packages/stpipe/config_parser.py:118: ResourceWarning: unclosed file <_io.BufferedReader name='configfiles/dq_init.cfg'>\n",
      "  return ConfigObj(config_file, raise_errors=True)\n",
      "\n",
      "2021-07-27 16:09:24,298 - stpipe - WARNING - /Users/kmurray/anaconda3/envs/jwst7.8_4th/lib/python3.8/site-packages/stpipe/config_parser.py:118: ResourceWarning: unclosed file <_io.BufferedReader name='configfiles/saturation.cfg'>\n",
      "  return ConfigObj(config_file, raise_errors=True)\n",
      "\n",
      "2021-07-27 16:09:24,300 - stpipe - WARNING - /Users/kmurray/anaconda3/envs/jwst7.8_4th/lib/python3.8/site-packages/stpipe/config_parser.py:118: ResourceWarning: unclosed file <_io.BufferedReader name='configfiles/superbias.cfg'>\n",
      "  return ConfigObj(config_file, raise_errors=True)\n",
      "\n",
      "2021-07-27 16:09:24,301 - stpipe - WARNING - /Users/kmurray/anaconda3/envs/jwst7.8_4th/lib/python3.8/site-packages/stpipe/config_parser.py:118: ResourceWarning: unclosed file <_io.BufferedReader name='configfiles/refpix.cfg'>\n",
      "  return ConfigObj(config_file, raise_errors=True)\n",
      "\n",
      "2021-07-27 16:09:24,303 - stpipe - WARNING - /Users/kmurray/anaconda3/envs/jwst7.8_4th/lib/python3.8/site-packages/stpipe/config_parser.py:118: ResourceWarning: unclosed file <_io.BufferedReader name='configfiles/rscd.cfg'>\n",
      "  return ConfigObj(config_file, raise_errors=True)\n",
      "\n",
      "2021-07-27 16:09:24,305 - stpipe - WARNING - /Users/kmurray/anaconda3/envs/jwst7.8_4th/lib/python3.8/site-packages/stpipe/config_parser.py:118: ResourceWarning: unclosed file <_io.BufferedReader name='configfiles/firstframe.cfg'>\n",
      "  return ConfigObj(config_file, raise_errors=True)\n",
      "\n",
      "2021-07-27 16:09:24,306 - stpipe - WARNING - /Users/kmurray/anaconda3/envs/jwst7.8_4th/lib/python3.8/site-packages/stpipe/config_parser.py:118: ResourceWarning: unclosed file <_io.BufferedReader name='configfiles/lastframe.cfg'>\n",
      "  return ConfigObj(config_file, raise_errors=True)\n",
      "\n",
      "2021-07-27 16:09:24,308 - stpipe - WARNING - /Users/kmurray/anaconda3/envs/jwst7.8_4th/lib/python3.8/site-packages/stpipe/config_parser.py:118: ResourceWarning: unclosed file <_io.BufferedReader name='configfiles/linearity.cfg'>\n",
      "  return ConfigObj(config_file, raise_errors=True)\n",
      "\n",
      "2021-07-27 16:09:24,309 - stpipe - WARNING - /Users/kmurray/anaconda3/envs/jwst7.8_4th/lib/python3.8/site-packages/stpipe/config_parser.py:118: ResourceWarning: unclosed file <_io.BufferedReader name='configfiles/dark_current.cfg'>\n",
      "  return ConfigObj(config_file, raise_errors=True)\n",
      "\n",
      "2021-07-27 16:09:24,311 - stpipe - WARNING - /Users/kmurray/anaconda3/envs/jwst7.8_4th/lib/python3.8/site-packages/stpipe/config_parser.py:118: ResourceWarning: unclosed file <_io.BufferedReader name='configfiles/persistence.cfg'>\n",
      "  return ConfigObj(config_file, raise_errors=True)\n",
      "\n",
      "2021-07-27 16:09:24,312 - stpipe - WARNING - /Users/kmurray/anaconda3/envs/jwst7.8_4th/lib/python3.8/site-packages/stpipe/config_parser.py:118: ResourceWarning: unclosed file <_io.BufferedReader name='configfiles/jump.cfg'>\n",
      "  return ConfigObj(config_file, raise_errors=True)\n",
      "\n",
      "2021-07-27 16:09:24,314 - stpipe - WARNING - /Users/kmurray/anaconda3/envs/jwst7.8_4th/lib/python3.8/site-packages/stpipe/config_parser.py:118: ResourceWarning: unclosed file <_io.BufferedReader name='configfiles/ramp_fit.cfg'>\n",
      "  return ConfigObj(config_file, raise_errors=True)\n",
      "\n",
      "2021-07-27 16:09:24,315 - stpipe - WARNING - /Users/kmurray/anaconda3/envs/jwst7.8_4th/lib/python3.8/site-packages/stpipe/config_parser.py:118: ResourceWarning: unclosed file <_io.BufferedReader name='configfiles/gain_scale.cfg'>\n",
      "  return ConfigObj(config_file, raise_errors=True)\n",
      "\n",
      "2021-07-27 16:09:24,319 - stpipe.Detector1Pipeline - INFO - Detector1Pipeline instance created.\n",
      "2021-07-27 16:09:24,320 - stpipe.Detector1Pipeline.group_scale - INFO - GroupScaleStep instance created.\n",
      "2021-07-27 16:09:24,321 - stpipe.Detector1Pipeline.dq_init - INFO - DQInitStep instance created.\n",
      "2021-07-27 16:09:24,323 - stpipe.Detector1Pipeline.saturation - INFO - SaturationStep instance created.\n",
      "2021-07-27 16:09:24,324 - stpipe.Detector1Pipeline.ipc - INFO - IPCStep instance created.\n"
     ]
    },
    {
     "name": "stderr",
     "output_type": "stream",
     "text": [
      "2021-07-27 16:09:24,325 - stpipe.Detector1Pipeline.superbias - INFO - SuperBiasStep instance created.\n",
      "2021-07-27 16:09:24,327 - stpipe.Detector1Pipeline.refpix - INFO - RefPixStep instance created.\n",
      "2021-07-27 16:09:24,328 - stpipe.Detector1Pipeline.rscd - INFO - RscdStep instance created.\n",
      "2021-07-27 16:09:24,329 - stpipe.Detector1Pipeline.firstframe - INFO - FirstFrameStep instance created.\n",
      "2021-07-27 16:09:24,331 - stpipe.Detector1Pipeline.lastframe - INFO - LastFrameStep instance created.\n",
      "2021-07-27 16:09:24,332 - stpipe.Detector1Pipeline.linearity - INFO - LinearityStep instance created.\n",
      "2021-07-27 16:09:24,333 - stpipe.Detector1Pipeline.dark_current - INFO - DarkCurrentStep instance created.\n",
      "2021-07-27 16:09:24,334 - stpipe.Detector1Pipeline.reset - INFO - ResetStep instance created.\n",
      "2021-07-27 16:09:24,336 - stpipe.Detector1Pipeline.persistence - INFO - PersistenceStep instance created.\n",
      "2021-07-27 16:09:24,337 - stpipe.Detector1Pipeline.jump - INFO - JumpStep instance created.\n",
      "2021-07-27 16:09:24,339 - stpipe.Detector1Pipeline.ramp_fit - INFO - RampFitStep instance created.\n",
      "2021-07-27 16:09:24,340 - stpipe.Detector1Pipeline.gain_scale - INFO - GainScaleStep instance created.\n",
      "2021-07-27 16:09:24,400 - stpipe - WARNING - /Users/kmurray/anaconda3/envs/jwst7.8_4th/lib/python3.8/site-packages/stpipe/step.py:359: ResourceWarning: unclosed file <_io.FileIO name='/Users/kmurray/lrs_nOPS7-OTB-20191216_simulation/miri_lrs_slit_pt_nod2_v2.3.fits' mode='rb' closefd=True>\n",
      "  gc.collect()\n",
      "\n",
      "2021-07-27 16:09:24,427 - stpipe.Detector1Pipeline - INFO - Step Detector1Pipeline running with args ('/Users/kmurray/lrs_nOPS7-OTB-20191216_simulation/miri_lrs_slit_pt_nod2_v2.3.fits',).\n",
      "2021-07-27 16:09:24,440 - stpipe.Detector1Pipeline - INFO - Step Detector1Pipeline parameters are: {'pre_hooks': [], 'post_hooks': [], 'output_file': None, 'output_dir': 'mirisimv2.3sim_correctdither/detector1/', 'output_ext': '.fits', 'output_use_model': False, 'output_use_index': True, 'save_results': False, 'skip': False, 'suffix': None, 'search_output_file': True, 'input_dir': '', 'save_calibrated_ramp': True, 'steps': {'group_scale': {'pre_hooks': [], 'post_hooks': [], 'output_file': None, 'output_dir': None, 'output_ext': '.fits', 'output_use_model': False, 'output_use_index': True, 'save_results': True, 'skip': False, 'suffix': None, 'search_output_file': True, 'input_dir': ''}, 'dq_init': {'pre_hooks': [], 'post_hooks': [], 'output_file': None, 'output_dir': None, 'output_ext': '.fits', 'output_use_model': False, 'output_use_index': True, 'save_results': True, 'skip': False, 'suffix': None, 'search_output_file': True, 'input_dir': ''}, 'saturation': {'pre_hooks': [], 'post_hooks': [], 'output_file': None, 'output_dir': None, 'output_ext': '.fits', 'output_use_model': False, 'output_use_index': True, 'save_results': True, 'skip': False, 'suffix': None, 'search_output_file': True, 'input_dir': ''}, 'ipc': {'pre_hooks': [], 'post_hooks': [], 'output_file': None, 'output_dir': None, 'output_ext': '.fits', 'output_use_model': False, 'output_use_index': True, 'save_results': True, 'skip': True, 'suffix': None, 'search_output_file': True, 'input_dir': ''}, 'superbias': {'pre_hooks': [], 'post_hooks': [], 'output_file': None, 'output_dir': None, 'output_ext': '.fits', 'output_use_model': False, 'output_use_index': True, 'save_results': True, 'skip': False, 'suffix': None, 'search_output_file': True, 'input_dir': ''}, 'refpix': {'pre_hooks': [], 'post_hooks': [], 'output_file': None, 'output_dir': None, 'output_ext': '.fits', 'output_use_model': False, 'output_use_index': True, 'save_results': True, 'skip': False, 'suffix': None, 'search_output_file': True, 'input_dir': '', 'odd_even_columns': True, 'use_side_ref_pixels': True, 'side_smoothing_length': 11, 'side_gain': 1.0, 'odd_even_rows': True}, 'rscd': {'pre_hooks': [], 'post_hooks': [], 'output_file': None, 'output_dir': None, 'output_ext': '.fits', 'output_use_model': False, 'output_use_index': True, 'save_results': True, 'skip': False, 'suffix': None, 'search_output_file': True, 'input_dir': '', 'type': 'baseline'}, 'firstframe': {'pre_hooks': [], 'post_hooks': [], 'output_file': None, 'output_dir': None, 'output_ext': '.fits', 'output_use_model': False, 'output_use_index': True, 'save_results': True, 'skip': False, 'suffix': None, 'search_output_file': True, 'input_dir': ''}, 'lastframe': {'pre_hooks': [], 'post_hooks': [], 'output_file': None, 'output_dir': None, 'output_ext': '.fits', 'output_use_model': False, 'output_use_index': True, 'save_results': True, 'skip': False, 'suffix': None, 'search_output_file': True, 'input_dir': ''}, 'linearity': {'pre_hooks': [], 'post_hooks': [], 'output_file': None, 'output_dir': None, 'output_ext': '.fits', 'output_use_model': False, 'output_use_index': True, 'save_results': True, 'skip': False, 'suffix': None, 'search_output_file': True, 'input_dir': ''}, 'dark_current': {'pre_hooks': [], 'post_hooks': [], 'output_file': None, 'output_dir': None, 'output_ext': '.fits', 'output_use_model': False, 'output_use_index': True, 'save_results': True, 'skip': False, 'suffix': None, 'search_output_file': True, 'input_dir': '', 'dark_output': None}, 'reset': {'pre_hooks': [], 'post_hooks': [], 'output_file': None, 'output_dir': None, 'output_ext': '.fits', 'output_use_model': False, 'output_use_index': True, 'save_results': False, 'skip': False, 'suffix': None, 'search_output_file': True, 'input_dir': ''}, 'persistence': {'pre_hooks': [], 'post_hooks': [], 'output_file': None, 'output_dir': None, 'output_ext': '.fits', 'output_use_model': False, 'output_use_index': True, 'save_results': True, 'skip': False, 'suffix': None, 'search_output_file': True, 'input_dir': '', 'input_trapsfilled': '', 'flag_pers_cutoff': 40.0, 'save_persistence': False, 'save_trapsfilled': True}, 'jump': {'pre_hooks': [], 'post_hooks': [], 'output_file': None, 'output_dir': None, 'output_ext': '.fits', 'output_use_model': False, 'output_use_index': True, 'save_results': True, 'skip': False, 'suffix': None, 'search_output_file': True, 'input_dir': '', 'rejection_threshold': 4.0, 'three_group_rejection_threshold': 6.0, 'four_group_rejection_threshold': 5.0, 'maximum_cores': 'none', 'flag_4_neighbors': True, 'max_jump_to_flag_neighbors': 1000.0, 'min_jump_to_flag_neighbors': 10.0}, 'ramp_fit': {'pre_hooks': [], 'post_hooks': [], 'output_file': None, 'output_dir': None, 'output_ext': '.fits', 'output_use_model': False, 'output_use_index': True, 'save_results': True, 'skip': False, 'suffix': None, 'search_output_file': True, 'input_dir': '', 'int_name': '', 'save_opt': False, 'opt_name': '', 'maximum_cores': 'none'}, 'gain_scale': {'pre_hooks': [], 'post_hooks': [], 'output_file': None, 'output_dir': None, 'output_ext': '.fits', 'output_use_model': False, 'output_use_index': True, 'save_results': True, 'skip': False, 'suffix': None, 'search_output_file': True, 'input_dir': ''}}}\n",
      "2021-07-27 16:09:24,564 - stpipe.Detector1Pipeline - INFO - Prefetching reference files for dataset: 'miri_lrs_slit_pt_nod2_v2.3.fits' reftypes = ['dark', 'gain', 'linearity', 'mask', 'persat', 'readnoise', 'refpix', 'reset', 'rscd', 'saturation', 'superbias', 'trapdensity', 'trappars']\n",
      "2021-07-27 16:09:24,635 - stpipe.Detector1Pipeline - INFO - Prefetch for DARK reference file is '/grp/crds/cache/references/jwst/jwst_miri_dark_0058.fits'.\n",
      "2021-07-27 16:09:24,652 - stpipe.Detector1Pipeline - INFO - Prefetch for GAIN reference file is '/grp/crds/cache/references/jwst/jwst_miri_gain_0008.fits'.\n",
      "2021-07-27 16:09:24,668 - stpipe.Detector1Pipeline - INFO - Prefetch for LINEARITY reference file is '/grp/crds/cache/references/jwst/jwst_miri_linearity_0024.fits'.\n",
      "2021-07-27 16:09:24,719 - stpipe.Detector1Pipeline - INFO - Prefetch for MASK reference file is '/grp/crds/cache/references/jwst/jwst_miri_mask_0023.fits'.\n",
      "2021-07-27 16:09:24,751 - stpipe.Detector1Pipeline - INFO - Prefetch for PERSAT reference file is 'N/A'.\n",
      "2021-07-27 16:09:24,753 - stpipe.Detector1Pipeline - INFO - Prefetch for READNOISE reference file is '/grp/crds/cache/references/jwst/jwst_miri_readnoise_0057.fits'.\n",
      "2021-07-27 16:09:24,770 - stpipe.Detector1Pipeline - INFO - Prefetch for REFPIX reference file is 'N/A'.\n"
     ]
    },
    {
     "name": "stderr",
     "output_type": "stream",
     "text": [
      "2021-07-27 16:09:24,771 - stpipe.Detector1Pipeline - INFO - Prefetch for RESET reference file is '/grp/crds/cache/references/jwst/jwst_miri_reset_0047.fits'.\n",
      "2021-07-27 16:09:24,803 - stpipe.Detector1Pipeline - INFO - Prefetch for RSCD reference file is '/grp/crds/cache/references/jwst/jwst_miri_rscd_0010.fits'.\n",
      "2021-07-27 16:09:24,822 - stpipe.Detector1Pipeline - INFO - Prefetch for SATURATION reference file is '/grp/crds/cache/references/jwst/jwst_miri_saturation_0026.fits'.\n",
      "2021-07-27 16:09:24,855 - stpipe.Detector1Pipeline - INFO - Prefetch for SUPERBIAS reference file is 'N/A'.\n",
      "2021-07-27 16:09:24,856 - stpipe.Detector1Pipeline - INFO - Prefetch for TRAPDENSITY reference file is 'N/A'.\n",
      "2021-07-27 16:09:24,858 - stpipe.Detector1Pipeline - INFO - Prefetch for TRAPPARS reference file is 'N/A'.\n",
      "2021-07-27 16:09:24,859 - stpipe.Detector1Pipeline - INFO - Starting calwebb_detector1 ...\n",
      "2021-07-27 16:09:25,031 - stpipe.Detector1Pipeline.group_scale - INFO - Step group_scale running with args (<RampModel(2, 10, 1024, 1032) from miri_lrs_slit_pt_nod2_v2.3.fits>,).\n",
      "2021-07-27 16:09:25,032 - stpipe.Detector1Pipeline.group_scale - INFO - Step group_scale parameters are: {'pre_hooks': [], 'post_hooks': [], 'output_file': None, 'output_dir': None, 'output_ext': '.fits', 'output_use_model': False, 'output_use_index': True, 'save_results': True, 'skip': False, 'suffix': None, 'search_output_file': True, 'input_dir': '/Users/kmurray/lrs_nOPS7-OTB-20191216_simulation'}\n",
      "2021-07-27 16:09:25,105 - stpipe.Detector1Pipeline.group_scale - INFO - NFRAMES=1 is a power of 2; correction not needed\n",
      "2021-07-27 16:09:25,106 - stpipe.Detector1Pipeline.group_scale - INFO - Step will be skipped\n",
      "2021-07-27 16:09:25,649 - stpipe.Detector1Pipeline.group_scale - INFO - Saved model in mirisimv2.3sim_correctdither/detector1/miri_lrs_slit_pt_nod2_v2.3_group_scale.fits\n",
      "2021-07-27 16:09:25,650 - stpipe.Detector1Pipeline.group_scale - INFO - Step group_scale done\n",
      "2021-07-27 16:09:25,702 - stpipe.Detector1Pipeline.dq_init - INFO - Step dq_init running with args (<RampModel(2, 10, 1024, 1032) from miri_lrs_slit_pt_nod2_v2.3_group_scale.fits>,).\n",
      "2021-07-27 16:09:25,703 - stpipe.Detector1Pipeline.dq_init - INFO - Step dq_init parameters are: {'pre_hooks': [], 'post_hooks': [], 'output_file': None, 'output_dir': None, 'output_ext': '.fits', 'output_use_model': False, 'output_use_index': True, 'save_results': True, 'skip': False, 'suffix': None, 'search_output_file': True, 'input_dir': '/Users/kmurray/lrs_nOPS7-OTB-20191216_simulation'}\n",
      "2021-07-27 16:09:25,763 - stpipe.Detector1Pipeline.dq_init - INFO - Using MASK reference file /grp/crds/cache/references/jwst/jwst_miri_mask_0023.fits\n",
      "2021-07-27 16:09:27,648 - stpipe.Detector1Pipeline.dq_init - INFO - Saved model in mirisimv2.3sim_correctdither/detector1/miri_lrs_slit_pt_nod2_v2.3_dq_init.fits\n",
      "2021-07-27 16:09:27,649 - stpipe.Detector1Pipeline.dq_init - INFO - Step dq_init done\n",
      "2021-07-27 16:09:27,714 - stpipe.Detector1Pipeline.saturation - INFO - Step saturation running with args (<RampModel(2, 10, 1024, 1032) from miri_lrs_slit_pt_nod2_v2.3_dq_init.fits>,).\n",
      "2021-07-27 16:09:27,716 - stpipe.Detector1Pipeline.saturation - INFO - Step saturation parameters are: {'pre_hooks': [], 'post_hooks': [], 'output_file': None, 'output_dir': None, 'output_ext': '.fits', 'output_use_model': False, 'output_use_index': True, 'save_results': True, 'skip': False, 'suffix': None, 'search_output_file': True, 'input_dir': '/Users/kmurray/lrs_nOPS7-OTB-20191216_simulation'}\n",
      "2021-07-27 16:09:27,759 - stpipe.Detector1Pipeline.saturation - INFO - Using SATURATION reference file /grp/crds/cache/references/jwst/jwst_miri_saturation_0026.fits\n",
      "2021-07-27 16:09:30,657 - stpipe.Detector1Pipeline.saturation - INFO - Detected 0 saturated pixels\n",
      "2021-07-27 16:09:30,670 - stpipe.Detector1Pipeline.saturation - INFO - Detected 0 A/D floor pixels\n",
      "2021-07-27 16:09:31,229 - stpipe.Detector1Pipeline.saturation - INFO - Saved model in mirisimv2.3sim_correctdither/detector1/miri_lrs_slit_pt_nod2_v2.3_saturation.fits\n",
      "2021-07-27 16:09:31,230 - stpipe.Detector1Pipeline.saturation - INFO - Step saturation done\n",
      "2021-07-27 16:09:31,297 - stpipe.Detector1Pipeline.ipc - INFO - Step ipc running with args (<RampModel(2, 10, 1024, 1032) from miri_lrs_slit_pt_nod2_v2.3_saturation.fits>,).\n",
      "2021-07-27 16:09:31,299 - stpipe.Detector1Pipeline.ipc - INFO - Step ipc parameters are: {'pre_hooks': [], 'post_hooks': [], 'output_file': None, 'output_dir': None, 'output_ext': '.fits', 'output_use_model': False, 'output_use_index': True, 'save_results': True, 'skip': True, 'suffix': None, 'search_output_file': True, 'input_dir': '/Users/kmurray/lrs_nOPS7-OTB-20191216_simulation'}\n",
      "2021-07-27 16:09:31,300 - stpipe.Detector1Pipeline.ipc - INFO - Step skipped.\n",
      "2021-07-27 16:09:31,302 - stpipe.Detector1Pipeline.ipc - INFO - Step ipc done\n",
      "2021-07-27 16:09:31,356 - stpipe.Detector1Pipeline.firstframe - INFO - Step firstframe running with args (<RampModel(2, 10, 1024, 1032) from miri_lrs_slit_pt_nod2_v2.3_saturation.fits>,).\n",
      "2021-07-27 16:09:31,359 - stpipe.Detector1Pipeline.firstframe - INFO - Step firstframe parameters are: {'pre_hooks': [], 'post_hooks': [], 'output_file': None, 'output_dir': None, 'output_ext': '.fits', 'output_use_model': False, 'output_use_index': True, 'save_results': True, 'skip': False, 'suffix': None, 'search_output_file': True, 'input_dir': '/Users/kmurray/lrs_nOPS7-OTB-20191216_simulation'}\n",
      "2021-07-27 16:09:31,996 - stpipe.Detector1Pipeline.firstframe - INFO - Saved model in mirisimv2.3sim_correctdither/detector1/miri_lrs_slit_pt_nod2_v2.3_firstframe.fits\n",
      "2021-07-27 16:09:31,997 - stpipe.Detector1Pipeline.firstframe - INFO - Step firstframe done\n",
      "2021-07-27 16:09:32,064 - stpipe.Detector1Pipeline.lastframe - INFO - Step lastframe running with args (<RampModel(2, 10, 1024, 1032) from miri_lrs_slit_pt_nod2_v2.3_firstframe.fits>,).\n",
      "2021-07-27 16:09:32,066 - stpipe.Detector1Pipeline.lastframe - INFO - Step lastframe parameters are: {'pre_hooks': [], 'post_hooks': [], 'output_file': None, 'output_dir': None, 'output_ext': '.fits', 'output_use_model': False, 'output_use_index': True, 'save_results': True, 'skip': False, 'suffix': None, 'search_output_file': True, 'input_dir': '/Users/kmurray/lrs_nOPS7-OTB-20191216_simulation'}\n",
      "2021-07-27 16:09:32,665 - stpipe.Detector1Pipeline.lastframe - INFO - Saved model in mirisimv2.3sim_correctdither/detector1/miri_lrs_slit_pt_nod2_v2.3_lastframe.fits\n",
      "2021-07-27 16:09:32,666 - stpipe.Detector1Pipeline.lastframe - INFO - Step lastframe done\n",
      "2021-07-27 16:09:32,731 - stpipe.Detector1Pipeline.reset - INFO - Step reset running with args (<RampModel(2, 10, 1024, 1032) from miri_lrs_slit_pt_nod2_v2.3_lastframe.fits>,).\n",
      "2021-07-27 16:09:32,733 - stpipe.Detector1Pipeline.reset - INFO - Step reset parameters are: {'pre_hooks': [], 'post_hooks': [], 'output_file': None, 'output_dir': None, 'output_ext': '.fits', 'output_use_model': False, 'output_use_index': True, 'save_results': False, 'skip': False, 'suffix': None, 'search_output_file': True, 'input_dir': '/Users/kmurray/lrs_nOPS7-OTB-20191216_simulation'}\n",
      "2021-07-27 16:09:32,770 - stpipe.Detector1Pipeline.reset - INFO - Using RESET reference file /grp/crds/cache/references/jwst/jwst_miri_reset_0047.fits\n",
      "2021-07-27 16:10:34,969 - stpipe.Detector1Pipeline.reset - INFO - Step reset done\n",
      "2021-07-27 16:10:35,051 - stpipe.Detector1Pipeline.linearity - INFO - Step linearity running with args (<RampModel(2, 10, 1024, 1032) from miri_lrs_slit_pt_nod2_v2.3_lastframe.fits>,).\n",
      "2021-07-27 16:10:35,053 - stpipe.Detector1Pipeline.linearity - INFO - Step linearity parameters are: {'pre_hooks': [], 'post_hooks': [], 'output_file': None, 'output_dir': None, 'output_ext': '.fits', 'output_use_model': False, 'output_use_index': True, 'save_results': True, 'skip': False, 'suffix': None, 'search_output_file': True, 'input_dir': '/Users/kmurray/lrs_nOPS7-OTB-20191216_simulation'}\n",
      "2021-07-27 16:10:35,260 - stpipe.Detector1Pipeline.linearity - INFO - Using Linearity reference file /grp/crds/cache/references/jwst/jwst_miri_linearity_0024.fits\n",
      "2021-07-27 16:10:36,117 - stpipe.Detector1Pipeline.linearity - INFO - Saved model in mirisimv2.3sim_correctdither/detector1/miri_lrs_slit_pt_nod2_v2.3_linearity.fits\n"
     ]
    },
    {
     "name": "stderr",
     "output_type": "stream",
     "text": [
      "2021-07-27 16:10:36,117 - stpipe.Detector1Pipeline.linearity - INFO - Step linearity done\n",
      "2021-07-27 16:10:36,192 - stpipe.Detector1Pipeline.rscd - INFO - Step rscd running with args (<RampModel(2, 10, 1024, 1032) from miri_lrs_slit_pt_nod2_v2.3_linearity.fits>,).\n",
      "2021-07-27 16:10:36,194 - stpipe.Detector1Pipeline.rscd - INFO - Step rscd parameters are: {'pre_hooks': [], 'post_hooks': [], 'output_file': None, 'output_dir': None, 'output_ext': '.fits', 'output_use_model': False, 'output_use_index': True, 'save_results': True, 'skip': False, 'suffix': None, 'search_output_file': True, 'input_dir': '/Users/kmurray/lrs_nOPS7-OTB-20191216_simulation', 'type': 'baseline'}\n",
      "2021-07-27 16:10:36,285 - stpipe.Detector1Pipeline.rscd - INFO - Using RSCD reference file /grp/crds/cache/references/jwst/jwst_miri_rscd_0010.fits\n",
      "2021-07-27 16:10:36,980 - stpipe.Detector1Pipeline.rscd - INFO - Saved model in mirisimv2.3sim_correctdither/detector1/miri_lrs_slit_pt_nod2_v2.3_rscd.fits\n",
      "2021-07-27 16:10:36,981 - stpipe.Detector1Pipeline.rscd - INFO - Step rscd done\n",
      "2021-07-27 16:10:37,046 - stpipe.Detector1Pipeline.dark_current - INFO - Step dark_current running with args (<RampModel(2, 10, 1024, 1032) from miri_lrs_slit_pt_nod2_v2.3_rscd.fits>,).\n",
      "2021-07-27 16:10:37,047 - stpipe.Detector1Pipeline.dark_current - INFO - Step dark_current parameters are: {'pre_hooks': [], 'post_hooks': [], 'output_file': None, 'output_dir': 'mirisimv2.3sim_correctdither/detector1/', 'output_ext': '.fits', 'output_use_model': False, 'output_use_index': True, 'save_results': True, 'skip': False, 'suffix': None, 'search_output_file': True, 'input_dir': '/Users/kmurray/lrs_nOPS7-OTB-20191216_simulation', 'dark_output': None}\n",
      "2021-07-27 16:10:37,132 - stpipe.Detector1Pipeline.dark_current - INFO - Using DARK reference file /grp/crds/cache/references/jwst/jwst_miri_dark_0058.fits\n",
      "2021-07-27 16:10:38,943 - stpipe.Detector1Pipeline.dark_current - INFO - Science data nints=2, ngroups=10, nframes=1, groupgap=0\n",
      "2021-07-27 16:10:38,944 - stpipe.Detector1Pipeline.dark_current - INFO - Dark data nints=2, ngroups=200, nframes=1, groupgap=0\n",
      "2021-07-27 16:10:40,765 - stpipe.Detector1Pipeline.dark_current - INFO - Saved model in mirisimv2.3sim_correctdither/detector1/miri_lrs_slit_pt_nod2_v2.3_dark_current.fits\n",
      "2021-07-27 16:10:40,766 - stpipe.Detector1Pipeline.dark_current - INFO - Step dark_current done\n",
      "2021-07-27 16:10:41,106 - stpipe.Detector1Pipeline.refpix - INFO - Step refpix running with args (<RampModel(2, 10, 1024, 1032) from miri_lrs_slit_pt_nod2_v2.3_dark_current.fits>,).\n",
      "2021-07-27 16:10:41,108 - stpipe.Detector1Pipeline.refpix - INFO - Step refpix parameters are: {'pre_hooks': [], 'post_hooks': [], 'output_file': None, 'output_dir': None, 'output_ext': '.fits', 'output_use_model': False, 'output_use_index': True, 'save_results': True, 'skip': False, 'suffix': None, 'search_output_file': True, 'input_dir': '/Users/kmurray/lrs_nOPS7-OTB-20191216_simulation', 'odd_even_columns': True, 'use_side_ref_pixels': True, 'side_smoothing_length': 11, 'side_gain': 1.0, 'odd_even_rows': True}\n",
      "2021-07-27 16:10:41,120 - stpipe.Detector1Pipeline.refpix - INFO - use_side_ref_pixels = True\n",
      "2021-07-27 16:10:41,120 - stpipe.Detector1Pipeline.refpix - INFO - odd_even_columns = True\n",
      "2021-07-27 16:10:41,121 - stpipe.Detector1Pipeline.refpix - INFO - side_smoothing_length = 11\n",
      "2021-07-27 16:10:41,122 - stpipe.Detector1Pipeline.refpix - INFO - side_gain = 1.000000\n",
      "2021-07-27 16:10:41,122 - stpipe.Detector1Pipeline.refpix - INFO - odd_even_rows = True\n",
      "2021-07-27 16:10:41,185 - stpipe.Detector1Pipeline.refpix - INFO - Subtracting initial read from each integration\n",
      "2021-07-27 16:10:41,422 - stpipe.Detector1Pipeline.refpix - INFO - Adding initial read back in\n",
      "2021-07-27 16:10:41,995 - stpipe.Detector1Pipeline.refpix - INFO - Saved model in mirisimv2.3sim_correctdither/detector1/miri_lrs_slit_pt_nod2_v2.3_refpix.fits\n",
      "2021-07-27 16:10:41,996 - stpipe.Detector1Pipeline.refpix - INFO - Step refpix done\n",
      "2021-07-27 16:10:42,064 - stpipe.Detector1Pipeline.jump - INFO - Step jump running with args (<RampModel(2, 10, 1024, 1032) from miri_lrs_slit_pt_nod2_v2.3_refpix.fits>,).\n",
      "2021-07-27 16:10:42,066 - stpipe.Detector1Pipeline.jump - INFO - Step jump parameters are: {'pre_hooks': [], 'post_hooks': [], 'output_file': None, 'output_dir': None, 'output_ext': '.fits', 'output_use_model': False, 'output_use_index': True, 'save_results': True, 'skip': False, 'suffix': None, 'search_output_file': True, 'input_dir': '/Users/kmurray/lrs_nOPS7-OTB-20191216_simulation', 'rejection_threshold': 4.0, 'three_group_rejection_threshold': 6.0, 'four_group_rejection_threshold': 5.0, 'maximum_cores': 'none', 'flag_4_neighbors': True, 'max_jump_to_flag_neighbors': 1000.0, 'min_jump_to_flag_neighbors': 10.0}\n",
      "2021-07-27 16:10:42,078 - stpipe.Detector1Pipeline.jump - INFO - CR rejection threshold = 4 sigma\n",
      "2021-07-27 16:10:42,145 - stpipe.Detector1Pipeline.jump - INFO - Using GAIN reference file: /grp/crds/cache/references/jwst/jwst_miri_gain_0008.fits\n",
      "2021-07-27 16:10:43,075 - stpipe.Detector1Pipeline.jump - INFO - Using READNOISE reference file: /grp/crds/cache/references/jwst/jwst_miri_readnoise_0057.fits\n",
      "2021-07-27 16:10:44,019 - stpipe.Detector1Pipeline.jump - INFO - Using 1 core for jump detection \n",
      "2021-07-27 16:10:44,112 - stpipe.Detector1Pipeline.jump - INFO - Executing two-point difference method\n",
      "2021-07-27 16:10:44,444 - stpipe.Detector1Pipeline.jump - INFO - Working on integration 1:\n",
      "2021-07-27 16:10:44,800 - stpipe.Detector1Pipeline.jump - INFO - From highest outlier Two-point found 82114 pixels with at least one CR and at least four groups\n",
      "2021-07-27 16:10:44,801 - stpipe.Detector1Pipeline.jump - INFO - From highest outlier Two-point found 0 pixels with at least one CR and three groups\n",
      "2021-07-27 16:10:44,802 - stpipe.Detector1Pipeline.jump - INFO - From highest outlier Two-point found 0 pixels with at least one CR and two groups\n",
      "2021-07-27 16:10:46,631 - stpipe.Detector1Pipeline.jump - INFO - Working on integration 2:\n",
      "2021-07-27 16:10:46,969 - stpipe.Detector1Pipeline.jump - INFO - From highest outlier Two-point found 12385 pixels with at least one CR and at least four groups\n",
      "2021-07-27 16:10:46,970 - stpipe.Detector1Pipeline.jump - INFO - From highest outlier Two-point found 0 pixels with at least one CR and three groups\n",
      "2021-07-27 16:10:46,970 - stpipe.Detector1Pipeline.jump - INFO - From highest outlier Two-point found 0 pixels with at least one CR and two groups\n",
      "2021-07-27 16:10:47,318 - stpipe.Detector1Pipeline.jump - INFO - Total elapsed time = 3.20522 sec\n",
      "2021-07-27 16:10:47,321 - stpipe.Detector1Pipeline.jump - INFO - The execution time in seconds: 5.243097\n",
      "2021-07-27 16:10:47,905 - stpipe.Detector1Pipeline.jump - INFO - Saved model in mirisimv2.3sim_correctdither/detector1/miri_lrs_slit_pt_nod2_v2.3_jump.fits\n",
      "2021-07-27 16:10:47,905 - stpipe.Detector1Pipeline.jump - INFO - Step jump done\n",
      "2021-07-27 16:10:47,970 - stpipe.Detector1Pipeline.ramp_fit - INFO - Step ramp_fit running with args (<RampModel(2, 10, 1024, 1032) from miri_lrs_slit_pt_nod2_v2.3_jump.fits>,).\n",
      "2021-07-27 16:10:47,972 - stpipe.Detector1Pipeline.ramp_fit - INFO - Step ramp_fit parameters are: {'pre_hooks': [], 'post_hooks': [], 'output_file': None, 'output_dir': 'mirisimv2.3sim_correctdither/detector1/', 'output_ext': '.fits', 'output_use_model': False, 'output_use_index': True, 'save_results': True, 'skip': False, 'suffix': None, 'search_output_file': True, 'input_dir': '/Users/kmurray/lrs_nOPS7-OTB-20191216_simulation', 'int_name': '', 'save_opt': False, 'opt_name': '', 'maximum_cores': 'none'}\n",
      "2021-07-27 16:10:48,054 - stpipe.Detector1Pipeline.ramp_fit - INFO - Using READNOISE reference file: /grp/crds/cache/references/jwst/jwst_miri_readnoise_0057.fits\n",
      "2021-07-27 16:10:48,113 - stpipe.Detector1Pipeline.ramp_fit - INFO - Using GAIN reference file: /grp/crds/cache/references/jwst/jwst_miri_gain_0008.fits\n",
      "2021-07-27 16:10:48,160 - stpipe.Detector1Pipeline.ramp_fit - INFO - Using algorithm = ols\n",
      "2021-07-27 16:10:48,161 - stpipe.Detector1Pipeline.ramp_fit - INFO - Using weighting = optimal\n",
      "2021-07-27 16:10:48,175 - stpipe.Detector1Pipeline.ramp_fit - INFO - Number of leading groups that are flagged as DO_NOT_USE: 1\n"
     ]
    },
    {
     "name": "stderr",
     "output_type": "stream",
     "text": [
      "2021-07-27 16:10:48,177 - stpipe.Detector1Pipeline.ramp_fit - INFO - MIRI dataset has all pixels in the final group flagged as DO_NOT_USE.\n",
      "2021-07-27 16:11:04,285 - stpipe.Detector1Pipeline.ramp_fit - INFO - Number of groups per integration: 8\n",
      "2021-07-27 16:11:04,286 - stpipe.Detector1Pipeline.ramp_fit - INFO - Number of integrations: 2\n",
      "2021-07-27 16:11:04,490 - stpipe.Detector1Pipeline.ramp_fit - INFO - Saved model in mirisimv2.3sim_correctdither/detector1/miri_lrs_slit_pt_nod2_v2.3_0_ramp_fit.fits\n",
      "2021-07-27 16:11:04,647 - stpipe.Detector1Pipeline.ramp_fit - INFO - Saved model in mirisimv2.3sim_correctdither/detector1/miri_lrs_slit_pt_nod2_v2.3_1_ramp_fit.fits\n",
      "2021-07-27 16:11:04,648 - stpipe.Detector1Pipeline.ramp_fit - INFO - Step ramp_fit done\n",
      "2021-07-27 16:11:04,722 - stpipe.Detector1Pipeline.gain_scale - INFO - Step gain_scale running with args (<ImageModel(1024, 1032) from miri_lrs_slit_pt_nod2_v2.3_0_ramp_fit.fits>,).\n",
      "2021-07-27 16:11:04,723 - stpipe.Detector1Pipeline.gain_scale - INFO - Step gain_scale parameters are: {'pre_hooks': [], 'post_hooks': [], 'output_file': None, 'output_dir': None, 'output_ext': '.fits', 'output_use_model': False, 'output_use_index': True, 'save_results': True, 'skip': False, 'suffix': 'gain_scale', 'search_output_file': True, 'input_dir': '/Users/kmurray/lrs_nOPS7-OTB-20191216_simulation'}\n",
      "2021-07-27 16:11:04,834 - stpipe.Detector1Pipeline.gain_scale - INFO - GAINFACT not found in gain reference file\n",
      "2021-07-27 16:11:04,835 - stpipe.Detector1Pipeline.gain_scale - INFO - Step will be skipped\n",
      "2021-07-27 16:11:04,951 - stpipe.Detector1Pipeline.gain_scale - INFO - Saved model in mirisimv2.3sim_correctdither/detector1/miri_lrs_slit_pt_nod2_v2.3_gain_scale.fits\n",
      "2021-07-27 16:11:04,952 - stpipe.Detector1Pipeline.gain_scale - INFO - Step gain_scale done\n",
      "2021-07-27 16:11:05,007 - stpipe.Detector1Pipeline.gain_scale - INFO - Step gain_scale running with args (<CubeModel(2, 1024, 1032) from miri_lrs_slit_pt_nod2_v2.3_1_ramp_fit.fits>,).\n",
      "2021-07-27 16:11:05,009 - stpipe.Detector1Pipeline.gain_scale - INFO - Step gain_scale parameters are: {'pre_hooks': [], 'post_hooks': [], 'output_file': None, 'output_dir': None, 'output_ext': '.fits', 'output_use_model': False, 'output_use_index': True, 'save_results': True, 'skip': False, 'suffix': 'gain_scaleints', 'search_output_file': True, 'input_dir': '/Users/kmurray/lrs_nOPS7-OTB-20191216_simulation'}\n",
      "2021-07-27 16:11:05,102 - stpipe.Detector1Pipeline.gain_scale - INFO - GAINFACT not found in gain reference file\n",
      "2021-07-27 16:11:05,103 - stpipe.Detector1Pipeline.gain_scale - INFO - Step will be skipped\n",
      "2021-07-27 16:11:05,264 - stpipe.Detector1Pipeline.gain_scale - INFO - Saved model in mirisimv2.3sim_correctdither/detector1/miri_lrs_slit_pt_nod2_v2.3_gain_scaleints.fits\n",
      "2021-07-27 16:11:05,265 - stpipe.Detector1Pipeline.gain_scale - INFO - Step gain_scale done\n",
      "2021-07-27 16:11:05,267 - stpipe.Detector1Pipeline - INFO - ... ending calwebb_detector1\n",
      "2021-07-27 16:11:05,269 - stpipe.Detector1Pipeline - INFO - Step Detector1Pipeline done\n"
     ]
    }
   ],
   "source": [
    "det_nod1 = Detector1Pipeline.call(Slitfile1, config_file='configfiles/calwebb_detector1.cfg', output_dir='mirisimv2.3sim_correctdither/detector1/')\n",
    "det_nod2 = Detector1Pipeline.call(Slitfile2, config_file='configfiles/calwebb_detector1.cfg', output_dir='mirisimv2.3sim_correctdither/detector1/')"
   ]
  },
  {
   "cell_type": "code",
   "execution_count": 4,
   "metadata": {},
   "outputs": [
    {
     "name": "stderr",
     "output_type": "stream",
     "text": [
      "2021-07-27 16:11:05,428 - stpipe.Spec2Pipeline - INFO - Spec2Pipeline instance created.\n",
      "2021-07-27 16:11:05,430 - stpipe.Spec2Pipeline.bkg_subtract - INFO - BackgroundStep instance created.\n",
      "2021-07-27 16:11:05,433 - stpipe.Spec2Pipeline.assign_wcs - INFO - AssignWcsStep instance created.\n",
      "2021-07-27 16:11:05,435 - stpipe.Spec2Pipeline.imprint_subtract - INFO - ImprintStep instance created.\n",
      "2021-07-27 16:11:05,436 - stpipe.Spec2Pipeline.msa_flagging - INFO - MSAFlagOpenStep instance created.\n",
      "2021-07-27 16:11:05,438 - stpipe.Spec2Pipeline.extract_2d - INFO - Extract2dStep instance created.\n",
      "2021-07-27 16:11:05,442 - stpipe.Spec2Pipeline.master_background - INFO - MasterBackgroundNrsSlitsStep instance created.\n",
      "2021-07-27 16:11:05,445 - stpipe.Spec2Pipeline.master_background.flat_field - INFO - FlatFieldStep instance created.\n",
      "2021-07-27 16:11:05,446 - stpipe.Spec2Pipeline.master_background.pathloss - INFO - PathLossStep instance created.\n",
      "2021-07-27 16:11:05,448 - stpipe.Spec2Pipeline.master_background.barshadow - INFO - BarShadowStep instance created.\n",
      "2021-07-27 16:11:05,449 - stpipe.Spec2Pipeline.master_background.photom - INFO - PhotomStep instance created.\n",
      "2021-07-27 16:11:05,451 - stpipe.Spec2Pipeline.wavecorr - INFO - WavecorrStep instance created.\n",
      "2021-07-27 16:11:05,453 - stpipe.Spec2Pipeline.flat_field - INFO - FlatFieldStep instance created.\n",
      "2021-07-27 16:11:05,454 - stpipe.Spec2Pipeline.srctype - INFO - SourceTypeStep instance created.\n",
      "2021-07-27 16:11:05,456 - stpipe.Spec2Pipeline.straylight - INFO - StraylightStep instance created.\n",
      "2021-07-27 16:11:05,457 - stpipe.Spec2Pipeline.fringe - INFO - FringeStep instance created.\n",
      "2021-07-27 16:11:05,458 - stpipe.Spec2Pipeline.pathloss - INFO - PathLossStep instance created.\n",
      "2021-07-27 16:11:05,460 - stpipe.Spec2Pipeline.barshadow - INFO - BarShadowStep instance created.\n",
      "2021-07-27 16:11:05,461 - stpipe.Spec2Pipeline.photom - INFO - PhotomStep instance created.\n",
      "2021-07-27 16:11:05,463 - stpipe.Spec2Pipeline.resample_spec - INFO - ResampleSpecStep instance created.\n",
      "2021-07-27 16:11:05,466 - stpipe.Spec2Pipeline.cube_build - INFO - CubeBuildStep instance created.\n",
      "2021-07-27 16:11:05,467 - stpipe.Spec2Pipeline.extract_1d - INFO - Extract1dStep instance created.\n",
      "2021-07-27 16:11:05,542 - stpipe.Spec2Pipeline - INFO - Step Spec2Pipeline running with args (<ImageModel(1024, 1032) from miri_lrs_slit_pt_nod1_v2.3_gain_scale.fits>,).\n",
      "2021-07-27 16:11:05,558 - stpipe.Spec2Pipeline - INFO - Step Spec2Pipeline parameters are: {'pre_hooks': [], 'post_hooks': [], 'output_file': None, 'output_dir': None, 'output_ext': '.fits', 'output_use_model': False, 'output_use_index': True, 'save_results': True, 'skip': False, 'suffix': None, 'search_output_file': True, 'input_dir': '', 'save_bsub': False, 'fail_on_exception': True, 'steps': {'bkg_subtract': {'pre_hooks': [], 'post_hooks': [], 'output_file': None, 'output_dir': None, 'output_ext': '.fits', 'output_use_model': False, 'output_use_index': True, 'save_results': False, 'skip': False, 'suffix': None, 'search_output_file': True, 'input_dir': '', 'save_combined_background': False, 'sigma': 3.0, 'maxiters': None}, 'assign_wcs': {'pre_hooks': [], 'post_hooks': [], 'output_file': None, 'output_dir': None, 'output_ext': '.fits', 'output_use_model': False, 'output_use_index': True, 'save_results': False, 'skip': False, 'suffix': None, 'search_output_file': True, 'input_dir': '', 'sip_approx': True, 'sip_max_pix_error': 0.25, 'sip_degree': None, 'sip_max_inv_pix_error': 0.25, 'sip_inv_degree': None, 'sip_npoints': 32, 'slit_y_low': -0.55, 'slit_y_high': 0.55}, 'imprint_subtract': {'pre_hooks': [], 'post_hooks': [], 'output_file': None, 'output_dir': None, 'output_ext': '.fits', 'output_use_model': False, 'output_use_index': True, 'save_results': False, 'skip': False, 'suffix': None, 'search_output_file': True, 'input_dir': ''}, 'msa_flagging': {'pre_hooks': [], 'post_hooks': [], 'output_file': None, 'output_dir': None, 'output_ext': '.fits', 'output_use_model': False, 'output_use_index': True, 'save_results': False, 'skip': False, 'suffix': None, 'search_output_file': True, 'input_dir': ''}, 'extract_2d': {'pre_hooks': [], 'post_hooks': [], 'output_file': None, 'output_dir': None, 'output_ext': '.fits', 'output_use_model': False, 'output_use_index': True, 'save_results': False, 'skip': False, 'suffix': None, 'search_output_file': True, 'input_dir': '', 'slit_name': None, 'extract_orders': None, 'tsgrism_extract_height': None, 'wfss_extract_half_height': 5, 'grism_objects': None, 'mmag_extract': 99.0}, 'master_background': {'pre_hooks': [], 'post_hooks': [], 'output_file': None, 'output_dir': None, 'output_ext': '.fits', 'output_use_model': True, 'output_use_index': True, 'save_results': False, 'skip': False, 'suffix': None, 'search_output_file': True, 'input_dir': '', 'force_subtract': False, 'save_background': False, 'user_background': None, 'inverse': False, 'steps': {'flat_field': {'pre_hooks': [], 'post_hooks': [], 'output_file': None, 'output_dir': None, 'output_ext': '.fits', 'output_use_model': False, 'output_use_index': True, 'save_results': False, 'skip': False, 'suffix': None, 'search_output_file': True, 'input_dir': '', 'save_interpolated_flat': False, 'user_supplied_flat': None, 'inverse': False}, 'pathloss': {'pre_hooks': [], 'post_hooks': [], 'output_file': None, 'output_dir': None, 'output_ext': '.fits', 'output_use_model': False, 'output_use_index': True, 'save_results': False, 'skip': False, 'suffix': None, 'search_output_file': True, 'input_dir': '', 'inverse': False, 'source_type': None}, 'barshadow': {'pre_hooks': [], 'post_hooks': [], 'output_file': None, 'output_dir': None, 'output_ext': '.fits', 'output_use_model': False, 'output_use_index': True, 'save_results': False, 'skip': False, 'suffix': None, 'search_output_file': True, 'input_dir': '', 'inverse': False, 'source_type': None}, 'photom': {'pre_hooks': [], 'post_hooks': [], 'output_file': None, 'output_dir': None, 'output_ext': '.fits', 'output_use_model': False, 'output_use_index': True, 'save_results': False, 'skip': False, 'suffix': None, 'search_output_file': True, 'input_dir': '', 'inverse': False, 'source_type': None}}}, 'wavecorr': {'pre_hooks': [], 'post_hooks': [], 'output_file': None, 'output_dir': None, 'output_ext': '.fits', 'output_use_model': False, 'output_use_index': True, 'save_results': False, 'skip': False, 'suffix': None, 'search_output_file': True, 'input_dir': ''}, 'flat_field': {'pre_hooks': [], 'post_hooks': [], 'output_file': None, 'output_dir': None, 'output_ext': '.fits', 'output_use_model': False, 'output_use_index': True, 'save_results': False, 'skip': False, 'suffix': None, 'search_output_file': True, 'input_dir': '', 'save_interpolated_flat': False, 'user_supplied_flat': None, 'inverse': False}, 'srctype': {'pre_hooks': [], 'post_hooks': [], 'output_file': None, 'output_dir': None, 'output_ext': '.fits', 'output_use_model': False, 'output_use_index': True, 'save_results': False, 'skip': False, 'suffix': None, 'search_output_file': True, 'input_dir': ''}, 'straylight': {'pre_hooks': [], 'post_hooks': [], 'output_file': None, 'output_dir': None, 'output_ext': '.fits', 'output_use_model': False, 'output_use_index': True, 'save_results': False, 'skip': False, 'suffix': None, 'search_output_file': True, 'input_dir': '', 'method': 'ModShepard', 'roi': 50, 'power': 1.0}, 'fringe': {'pre_hooks': [], 'post_hooks': [], 'output_file': None, 'output_dir': None, 'output_ext': '.fits', 'output_use_model': False, 'output_use_index': True, 'save_results': False, 'skip': False, 'suffix': None, 'search_output_file': True, 'input_dir': ''}, 'pathloss': {'pre_hooks': [], 'post_hooks': [], 'output_file': None, 'output_dir': None, 'output_ext': '.fits', 'output_use_model': False, 'output_use_index': True, 'save_results': False, 'skip': False, 'suffix': None, 'search_output_file': True, 'input_dir': '', 'inverse': False, 'source_type': None}, 'barshadow': {'pre_hooks': [], 'post_hooks': [], 'output_file': None, 'output_dir': None, 'output_ext': '.fits', 'output_use_model': False, 'output_use_index': True, 'save_results': False, 'skip': False, 'suffix': None, 'search_output_file': True, 'input_dir': '', 'inverse': False, 'source_type': None}, 'photom': {'pre_hooks': [], 'post_hooks': [], 'output_file': None, 'output_dir': None, 'output_ext': '.fits', 'output_use_model': False, 'output_use_index': True, 'save_results': False, 'skip': False, 'suffix': None, 'search_output_file': True, 'input_dir': '', 'inverse': False, 'source_type': None}, 'resample_spec': {'pre_hooks': [], 'post_hooks': [], 'output_file': None, 'output_dir': None, 'output_ext': '.fits', 'output_use_model': False, 'output_use_index': True, 'save_results': False, 'skip': False, 'suffix': None, 'search_output_file': True, 'input_dir': '', 'pixfrac': 1.0, 'kernel': 'square', 'fillval': 'INDEF', 'weight_type': 'ivm', 'pixel_scale_ratio': 1.0, 'single': False, 'blendheaders': True, 'allowed_memory': None}, 'cube_build': {'pre_hooks': [], 'post_hooks': [], 'output_file': None, 'output_dir': None, 'output_ext': '.fits', 'output_use_model': True, 'output_use_index': True, 'save_results': False, 'skip': False, 'suffix': None, 'search_output_file': False, 'input_dir': '', 'channel': 'all', 'band': 'all', 'grating': 'all', 'filter': 'all', 'output_type': 'band', 'scale1': 0.0, 'scale2': 0.0, 'scalew': 0.0, 'weighting': 'emsm', 'coord_system': 'skyalign', 'rois': 0.0, 'roiw': 0.0, 'weight_power': 2.0, 'wavemin': None, 'wavemax': None, 'single': False, 'xdebug': None, 'ydebug': None, 'zdebug': None, 'skip_dqflagging': False}, 'extract_1d': {'pre_hooks': [], 'post_hooks': [], 'output_file': None, 'output_dir': None, 'output_ext': '.fits', 'output_use_model': False, 'output_use_index': True, 'save_results': False, 'skip': False, 'suffix': None, 'search_output_file': True, 'input_dir': '', 'smoothing_length': None, 'bkg_fit': 'poly', 'bkg_order': None, 'bkg_sigma_clip': 3.0, 'log_increment': 50, 'subtract_background': None, 'use_source_posn': None, 'apply_apcorr': True}}}\n"
     ]
    },
    {
     "name": "stderr",
     "output_type": "stream",
     "text": [
      "2021-07-27 16:11:05,567 - stpipe.Spec2Pipeline - INFO - Prefetching reference files for dataset: 'miri_lrs_slit_pt_nod1_v2.3_gain_scale.fits' reftypes = ['apcorr', 'area', 'barshadow', 'camera', 'collimator', 'cubepar', 'dflat', 'disperser', 'distortion', 'drizpars', 'extract1d', 'fflat', 'filteroffset', 'flat', 'fore', 'fpa', 'fringe', 'ifufore', 'ifupost', 'ifuslicer', 'msa', 'msaoper', 'ote', 'pathloss', 'photom', 'regions', 'resol', 'sflat', 'specwcs', 'wavecorr', 'wavelengthrange', 'wfssbkg']\n",
      "2021-07-27 16:11:05,688 - stpipe.Spec2Pipeline - INFO - Prefetch for APCORR reference file is '/grp/crds/cache/references/jwst/jwst_miri_apcorr_0007.fits'.\n",
      "2021-07-27 16:11:05,720 - stpipe.Spec2Pipeline - INFO - Prefetch for AREA reference file is 'N/A'.\n",
      "2021-07-27 16:11:05,722 - stpipe.Spec2Pipeline - INFO - Prefetch for BARSHADOW reference file is 'N/A'.\n",
      "2021-07-27 16:11:05,723 - stpipe.Spec2Pipeline - INFO - Prefetch for CAMERA reference file is 'N/A'.\n",
      "2021-07-27 16:11:05,723 - stpipe.Spec2Pipeline - INFO - Prefetch for COLLIMATOR reference file is 'N/A'.\n",
      "2021-07-27 16:11:05,724 - stpipe.Spec2Pipeline - INFO - Prefetch for CUBEPAR reference file is 'N/A'.\n",
      "2021-07-27 16:11:05,725 - stpipe.Spec2Pipeline - INFO - Prefetch for DFLAT reference file is 'N/A'.\n",
      "2021-07-27 16:11:05,726 - stpipe.Spec2Pipeline - INFO - Prefetch for DISPERSER reference file is 'N/A'.\n",
      "2021-07-27 16:11:05,726 - stpipe.Spec2Pipeline - INFO - Prefetch for DISTORTION reference file is '/grp/crds/cache/references/jwst/jwst_miri_distortion_0028.asdf'.\n",
      "2021-07-27 16:11:05,755 - stpipe.Spec2Pipeline - INFO - Prefetch for DRIZPARS reference file is '/grp/crds/cache/references/jwst/jwst_miri_drizpars_0001.fits'.\n",
      "2021-07-27 16:11:05,788 - stpipe.Spec2Pipeline - INFO - Prefetch for EXTRACT1D reference file is '/grp/crds/cache/references/jwst/jwst_miri_extract1d_0004.json'.\n",
      "2021-07-27 16:11:05,819 - stpipe.Spec2Pipeline - INFO - Prefetch for FFLAT reference file is 'N/A'.\n",
      "2021-07-27 16:11:05,821 - stpipe.Spec2Pipeline - INFO - Prefetch for FILTEROFFSET reference file is 'N/A'.\n",
      "2021-07-27 16:11:05,822 - stpipe.Spec2Pipeline - INFO - Prefetch for FLAT reference file is '/grp/crds/cache/references/jwst/jwst_miri_flat_0472.fits'.\n",
      "2021-07-27 16:11:05,852 - stpipe.Spec2Pipeline - INFO - Prefetch for FORE reference file is 'N/A'.\n",
      "2021-07-27 16:11:05,853 - stpipe.Spec2Pipeline - INFO - Prefetch for FPA reference file is 'N/A'.\n",
      "2021-07-27 16:11:05,854 - stpipe.Spec2Pipeline - INFO - Prefetch for FRINGE reference file is 'N/A'.\n",
      "2021-07-27 16:11:05,855 - stpipe.Spec2Pipeline - INFO - Prefetch for IFUFORE reference file is 'N/A'.\n",
      "2021-07-27 16:11:05,856 - stpipe.Spec2Pipeline - INFO - Prefetch for IFUPOST reference file is 'N/A'.\n",
      "2021-07-27 16:11:05,856 - stpipe.Spec2Pipeline - INFO - Prefetch for IFUSLICER reference file is 'N/A'.\n",
      "2021-07-27 16:11:05,857 - stpipe.Spec2Pipeline - INFO - Prefetch for MSA reference file is 'N/A'.\n",
      "2021-07-27 16:11:05,858 - stpipe.Spec2Pipeline - INFO - Prefetch for MSAOPER reference file is 'N/A'.\n",
      "2021-07-27 16:11:05,858 - stpipe.Spec2Pipeline - INFO - Prefetch for OTE reference file is 'N/A'.\n",
      "2021-07-27 16:11:05,859 - stpipe.Spec2Pipeline - INFO - Prefetch for PATHLOSS reference file is 'N/A'.\n",
      "2021-07-27 16:11:05,860 - stpipe.Spec2Pipeline - INFO - Prefetch for PHOTOM reference file is '/grp/crds/cache/references/jwst/jwst_miri_photom_0072.fits'.\n",
      "2021-07-27 16:11:05,888 - stpipe.Spec2Pipeline - INFO - Prefetch for REGIONS reference file is 'N/A'.\n",
      "2021-07-27 16:11:05,890 - stpipe.Spec2Pipeline - INFO - Prefetch for RESOL reference file is 'N/A'.\n",
      "2021-07-27 16:11:05,891 - stpipe.Spec2Pipeline - INFO - Prefetch for SFLAT reference file is 'N/A'.\n",
      "2021-07-27 16:11:05,892 - stpipe.Spec2Pipeline - INFO - Prefetch for SPECWCS reference file is '/grp/crds/cache/references/jwst/jwst_miri_specwcs_0003.fits'.\n",
      "2021-07-27 16:11:05,922 - stpipe.Spec2Pipeline - INFO - Prefetch for WAVECORR reference file is 'N/A'.\n",
      "2021-07-27 16:11:05,924 - stpipe.Spec2Pipeline - INFO - Prefetch for WAVELENGTHRANGE reference file is 'N/A'.\n",
      "2021-07-27 16:11:05,925 - stpipe.Spec2Pipeline - INFO - Prefetch for WFSSBKG reference file is 'N/A'.\n",
      "2021-07-27 16:11:05,926 - stpipe.Spec2Pipeline - INFO - Starting calwebb_spec2 ...\n",
      "2021-07-27 16:11:05,958 - stpipe.Spec2Pipeline - INFO - Processing product miri_lrs_slit_pt_nod1_v2.3_gain_scale\n",
      "2021-07-27 16:11:05,958 - stpipe.Spec2Pipeline - INFO - Working on input <ImageModel(1024, 1032) from miri_lrs_slit_pt_nod1_v2.3_gain_scale.fits> ...\n",
      "2021-07-27 16:11:06,019 - stpipe.Spec2Pipeline.assign_wcs - INFO - Step assign_wcs running with args (<ImageModel(1024, 1032) from miri_lrs_slit_pt_nod1_v2.3_gain_scale.fits>,).\n",
      "2021-07-27 16:11:06,021 - stpipe.Spec2Pipeline.assign_wcs - INFO - Step assign_wcs parameters are: {'pre_hooks': [], 'post_hooks': [], 'output_file': None, 'output_dir': None, 'output_ext': '.fits', 'output_use_model': False, 'output_use_index': True, 'save_results': False, 'skip': False, 'suffix': None, 'search_output_file': True, 'input_dir': '', 'sip_approx': True, 'sip_max_pix_error': 0.25, 'sip_degree': None, 'sip_max_inv_pix_error': 0.25, 'sip_inv_degree': None, 'sip_npoints': 32, 'slit_y_low': -0.55, 'slit_y_high': 0.55}\n",
      "2021-07-27 16:11:07,357 - stpipe.Spec2Pipeline.assign_wcs - INFO - Created a MIRI mir_lrs-fixedslit pipeline with references {'distortion': '/grp/crds/cache/references/jwst/jwst_miri_distortion_0028.asdf', 'filteroffset': None, 'specwcs': '/grp/crds/cache/references/jwst/jwst_miri_specwcs_0003.fits', 'regions': None, 'wavelengthrange': None, 'camera': None, 'collimator': None, 'disperser': None, 'fore': None, 'fpa': None, 'msa': None, 'ote': None, 'ifupost': None, 'ifufore': None, 'ifuslicer': None}\n",
      "2021-07-27 16:11:07,434 - stpipe.Spec2Pipeline.assign_wcs - WARNING - /Users/kmurray/anaconda3/envs/jwst7.8_4th/lib/python3.8/site-packages/gwcs/utils.py:72: DeprecationWarning: `np.int` is a deprecated alias for the builtin `int`. To silence this warning, use `int` by itself. Doing this will not modify any behavior and is safe. When replacing `np.int`, you may wish to use e.g. `np.int64` or `np.int32` to specify the precision. If you wish to review your current use, check the release note link for additional information.\n",
      "Deprecated in NumPy 1.20; for more details and guidance: https://numpy.org/devdocs/release/1.20.0-notes.html#deprecations\n",
      "  indx = np.asarray(np.floor(np.asarray(value) + 0.5), dtype=np.int)\n",
      "\n",
      "2021-07-27 16:11:07,440 - stpipe.Spec2Pipeline.assign_wcs - INFO - Update S_REGION to POLYGON ICRS  0.000379612 -0.000035778 0.000379612 0.000080412 359.999082432 0.000080412 359.999082432 -0.000035778\n",
      "2021-07-27 16:11:07,441 - stpipe.Spec2Pipeline.assign_wcs - INFO - assign_wcs updated S_REGION to POLYGON ICRS  0.000379612 -0.000035778 0.000379612 0.000080412 359.999082432 0.000080412 359.999082432 -0.000035778\n",
      "2021-07-27 16:11:07,442 - stpipe.Spec2Pipeline.assign_wcs - INFO - COMPLETED assign_wcs\n",
      "2021-07-27 16:11:07,450 - stpipe.Spec2Pipeline.assign_wcs - INFO - Step assign_wcs done\n",
      "2021-07-27 16:11:07,509 - stpipe.Spec2Pipeline.bkg_subtract - INFO - Step bkg_subtract running with args (<ImageModel(1024, 1032) from miri_lrs_slit_pt_nod1_v2.3_gain_scale.fits>, []).\n",
      "2021-07-27 16:11:07,511 - stpipe.Spec2Pipeline.bkg_subtract - INFO - Step bkg_subtract parameters are: {'pre_hooks': [], 'post_hooks': [], 'output_file': None, 'output_dir': None, 'output_ext': '.fits', 'output_use_model': False, 'output_use_index': True, 'save_results': False, 'skip': True, 'suffix': None, 'search_output_file': True, 'input_dir': '', 'save_combined_background': False, 'sigma': 3.0, 'maxiters': None}\n",
      "2021-07-27 16:11:07,512 - stpipe.Spec2Pipeline.bkg_subtract - INFO - Step skipped.\n",
      "2021-07-27 16:11:07,514 - stpipe.Spec2Pipeline.bkg_subtract - INFO - Step bkg_subtract done\n",
      "2021-07-27 16:11:07,573 - stpipe.Spec2Pipeline.imprint_subtract - INFO - Step imprint_subtract running with args (<ImageModel(1024, 1032) from miri_lrs_slit_pt_nod1_v2.3_gain_scale.fits>, []).\n",
      "2021-07-27 16:11:07,574 - stpipe.Spec2Pipeline.imprint_subtract - INFO - Step imprint_subtract parameters are: {'pre_hooks': [], 'post_hooks': [], 'output_file': None, 'output_dir': None, 'output_ext': '.fits', 'output_use_model': False, 'output_use_index': True, 'save_results': False, 'skip': True, 'suffix': None, 'search_output_file': True, 'input_dir': ''}\n"
     ]
    },
    {
     "name": "stderr",
     "output_type": "stream",
     "text": [
      "2021-07-27 16:11:07,576 - stpipe.Spec2Pipeline.imprint_subtract - INFO - Step skipped.\n",
      "2021-07-27 16:11:07,577 - stpipe.Spec2Pipeline.imprint_subtract - INFO - Step imprint_subtract done\n",
      "2021-07-27 16:11:07,642 - stpipe.Spec2Pipeline.msa_flagging - INFO - Step msa_flagging running with args (<ImageModel(1024, 1032) from miri_lrs_slit_pt_nod1_v2.3_gain_scale.fits>,).\n",
      "2021-07-27 16:11:07,644 - stpipe.Spec2Pipeline.msa_flagging - INFO - Step msa_flagging parameters are: {'pre_hooks': [], 'post_hooks': [], 'output_file': None, 'output_dir': None, 'output_ext': '.fits', 'output_use_model': False, 'output_use_index': True, 'save_results': False, 'skip': True, 'suffix': None, 'search_output_file': True, 'input_dir': ''}\n",
      "2021-07-27 16:11:07,646 - stpipe.Spec2Pipeline.msa_flagging - INFO - Step skipped.\n",
      "2021-07-27 16:11:07,648 - stpipe.Spec2Pipeline.msa_flagging - INFO - Step msa_flagging done\n",
      "2021-07-27 16:11:07,708 - stpipe.Spec2Pipeline.srctype - INFO - Step srctype running with args (<ImageModel(1024, 1032) from miri_lrs_slit_pt_nod1_v2.3_gain_scale.fits>,).\n",
      "2021-07-27 16:11:07,710 - stpipe.Spec2Pipeline.srctype - INFO - Step srctype parameters are: {'pre_hooks': [], 'post_hooks': [], 'output_file': None, 'output_dir': None, 'output_ext': '.fits', 'output_use_model': False, 'output_use_index': True, 'save_results': False, 'skip': False, 'suffix': None, 'search_output_file': True, 'input_dir': ''}\n",
      "2021-07-27 16:11:07,721 - stpipe.Spec2Pipeline.srctype - INFO - Input EXP_TYPE is MIR_LRS-FIXEDSLIT\n",
      "2021-07-27 16:11:07,722 - stpipe.Spec2Pipeline.srctype - INFO - Input SRCTYAPT = None\n",
      "2021-07-27 16:11:07,723 - stpipe.Spec2Pipeline.srctype - WARNING - SRCTYAPT keyword not found in input; using SRCTYPE instead\n",
      "2021-07-27 16:11:07,724 - stpipe.Spec2Pipeline.srctype - INFO - Input source type is unknown; setting default SRCTYPE = POINT\n",
      "2021-07-27 16:11:07,727 - stpipe.Spec2Pipeline.srctype - INFO - Step srctype done\n",
      "2021-07-27 16:11:07,785 - stpipe.Spec2Pipeline.flat_field - INFO - Step flat_field running with args (<ImageModel(1024, 1032) from miri_lrs_slit_pt_nod1_v2.3_gain_scale.fits>,).\n",
      "2021-07-27 16:11:07,788 - stpipe.Spec2Pipeline.flat_field - INFO - Step flat_field parameters are: {'pre_hooks': [], 'post_hooks': [], 'output_file': None, 'output_dir': None, 'output_ext': '.fits', 'output_use_model': False, 'output_use_index': True, 'save_results': False, 'skip': False, 'suffix': None, 'search_output_file': True, 'input_dir': '', 'save_interpolated_flat': False, 'user_supplied_flat': None, 'inverse': False}\n",
      "2021-07-27 16:11:09,993 - stpipe.Spec2Pipeline.flat_field - WARNING - Keyword CDP_PARTIAL_DATA does not correspond to an existing DQ mnemonic, so will be ignored\n",
      "2021-07-27 16:11:09,994 - stpipe.Spec2Pipeline.flat_field - WARNING - Keyword CDP_LOW_QUAL does not correspond to an existing DQ mnemonic, so will be ignored\n",
      "2021-07-27 16:11:09,995 - stpipe.Spec2Pipeline.flat_field - WARNING - Keyword CDP_UNRELIABLE_ERROR does not correspond to an existing DQ mnemonic, so will be ignored\n",
      "2021-07-27 16:11:10,014 - stpipe.Spec2Pipeline.flat_field - WARNING - Keyword DIFF_PATTERN does not correspond to an existing DQ mnemonic, so will be ignored\n",
      "2021-07-27 16:11:10,138 - stpipe.Spec2Pipeline.flat_field - INFO - Step flat_field done\n",
      "2021-07-27 16:11:10,195 - stpipe.Spec2Pipeline.straylight - INFO - Step straylight running with args (<ImageModel(1024, 1032) from miri_lrs_slit_pt_nod1_v2.3_gain_scale.fits>,).\n",
      "2021-07-27 16:11:10,197 - stpipe.Spec2Pipeline.straylight - INFO - Step straylight parameters are: {'pre_hooks': [], 'post_hooks': [], 'output_file': None, 'output_dir': None, 'output_ext': '.fits', 'output_use_model': False, 'output_use_index': True, 'save_results': False, 'skip': True, 'suffix': None, 'search_output_file': True, 'input_dir': '', 'method': 'ModShepard', 'roi': 50, 'power': 1.0}\n",
      "2021-07-27 16:11:10,198 - stpipe.Spec2Pipeline.straylight - INFO - Step skipped.\n",
      "2021-07-27 16:11:10,201 - stpipe.Spec2Pipeline.straylight - INFO - Step straylight done\n",
      "2021-07-27 16:11:10,263 - stpipe.Spec2Pipeline.fringe - INFO - Step fringe running with args (<ImageModel(1024, 1032) from miri_lrs_slit_pt_nod1_v2.3_gain_scale.fits>,).\n",
      "2021-07-27 16:11:10,266 - stpipe.Spec2Pipeline.fringe - INFO - Step fringe parameters are: {'pre_hooks': [], 'post_hooks': [], 'output_file': None, 'output_dir': None, 'output_ext': '.fits', 'output_use_model': False, 'output_use_index': True, 'save_results': False, 'skip': True, 'suffix': None, 'search_output_file': True, 'input_dir': ''}\n",
      "2021-07-27 16:11:10,267 - stpipe.Spec2Pipeline.fringe - INFO - Step skipped.\n",
      "2021-07-27 16:11:10,269 - stpipe.Spec2Pipeline.fringe - INFO - Step fringe done\n",
      "2021-07-27 16:11:10,330 - stpipe.Spec2Pipeline.pathloss - INFO - Step pathloss running with args (<ImageModel(1024, 1032) from miri_lrs_slit_pt_nod1_v2.3_gain_scale.fits>,).\n",
      "2021-07-27 16:11:10,332 - stpipe.Spec2Pipeline.pathloss - INFO - Step pathloss parameters are: {'pre_hooks': [], 'post_hooks': [], 'output_file': None, 'output_dir': None, 'output_ext': '.fits', 'output_use_model': False, 'output_use_index': True, 'save_results': False, 'skip': True, 'suffix': None, 'search_output_file': True, 'input_dir': '', 'inverse': False, 'source_type': None}\n",
      "2021-07-27 16:11:10,333 - stpipe.Spec2Pipeline.pathloss - INFO - Step skipped.\n",
      "2021-07-27 16:11:10,335 - stpipe.Spec2Pipeline.pathloss - INFO - Step pathloss done\n",
      "2021-07-27 16:11:10,394 - stpipe.Spec2Pipeline.barshadow - INFO - Step barshadow running with args (<ImageModel(1024, 1032) from miri_lrs_slit_pt_nod1_v2.3_gain_scale.fits>,).\n",
      "2021-07-27 16:11:10,397 - stpipe.Spec2Pipeline.barshadow - INFO - Step barshadow parameters are: {'pre_hooks': [], 'post_hooks': [], 'output_file': None, 'output_dir': None, 'output_ext': '.fits', 'output_use_model': False, 'output_use_index': True, 'save_results': False, 'skip': True, 'suffix': None, 'search_output_file': True, 'input_dir': '', 'inverse': False, 'source_type': None}\n",
      "2021-07-27 16:11:10,398 - stpipe.Spec2Pipeline.barshadow - INFO - Step skipped.\n",
      "2021-07-27 16:11:10,400 - stpipe.Spec2Pipeline.barshadow - INFO - Step barshadow done\n",
      "2021-07-27 16:11:10,461 - stpipe.Spec2Pipeline.photom - INFO - Step photom running with args (<ImageModel(1024, 1032) from miri_lrs_slit_pt_nod1_v2.3_gain_scale.fits>,).\n",
      "2021-07-27 16:11:10,463 - stpipe.Spec2Pipeline.photom - INFO - Step photom parameters are: {'pre_hooks': [], 'post_hooks': [], 'output_file': None, 'output_dir': None, 'output_ext': '.fits', 'output_use_model': False, 'output_use_index': True, 'save_results': False, 'skip': False, 'suffix': None, 'search_output_file': True, 'input_dir': '', 'inverse': False, 'source_type': None}\n",
      "2021-07-27 16:11:10,530 - stpipe.Spec2Pipeline.photom - INFO - Using photom reference file: /grp/crds/cache/references/jwst/jwst_miri_photom_0072.fits\n",
      "2021-07-27 16:11:10,531 - stpipe.Spec2Pipeline.photom - INFO - Using area reference file: N/A\n",
      "2021-07-27 16:11:10,612 - stpipe.Spec2Pipeline.photom - INFO - Using instrument: MIRI\n",
      "2021-07-27 16:11:10,613 - stpipe.Spec2Pipeline.photom - INFO -  detector: MIRIMAGE\n",
      "2021-07-27 16:11:10,613 - stpipe.Spec2Pipeline.photom - INFO -  exp_type: MIR_LRS-FIXEDSLIT\n",
      "2021-07-27 16:11:10,614 - stpipe.Spec2Pipeline.photom - INFO -  filter: P750L\n",
      "2021-07-27 16:11:10,729 - stpipe.Spec2Pipeline.photom - INFO -  subarray: FULL\n",
      "2021-07-27 16:11:10,730 - stpipe.Spec2Pipeline.photom - INFO - PHOTMJSR value: 60.567\n",
      "2021-07-27 16:11:10,806 - stpipe.Spec2Pipeline.photom - INFO - Step photom done\n",
      "2021-07-27 16:11:10,875 - stpipe.Spec2Pipeline.resample_spec - INFO - Step resample_spec running with args (<ImageModel(1024, 1032) from miri_lrs_slit_pt_nod1_v2_cal.fits>,).\n",
      "2021-07-27 16:11:10,877 - stpipe.Spec2Pipeline.resample_spec - INFO - Step resample_spec parameters are: {'pre_hooks': [], 'post_hooks': [], 'output_file': None, 'output_dir': None, 'output_ext': '.fits', 'output_use_model': False, 'output_use_index': True, 'save_results': True, 'skip': False, 'suffix': 's2d', 'search_output_file': True, 'input_dir': '', 'pixfrac': 1.0, 'kernel': 'square', 'fillval': 'INDEF', 'weight_type': 'ivm', 'pixel_scale_ratio': 1.0, 'single': False, 'blendheaders': True, 'allowed_memory': None}\n"
     ]
    },
    {
     "name": "stderr",
     "output_type": "stream",
     "text": [
      "2021-07-27 16:11:11,069 - stpipe.Spec2Pipeline.resample_spec - INFO - Drizpars reference file: /grp/crds/cache/references/jwst/jwst_miri_drizpars_0001.fits\n",
      "2021-07-27 16:11:11,310 - stpipe.Spec2Pipeline.resample_spec - INFO - Resampling science data\n",
      "2021-07-27 16:11:11,798 - stpipe.Spec2Pipeline.resample_spec - INFO - Drizzling (1024, 1032) --> (387, 44)\n",
      "2021-07-27 16:11:11,807 - stpipe.Spec2Pipeline.resample_spec - INFO - Resampling var_rnoise\n",
      "2021-07-27 16:11:12,286 - stpipe.Spec2Pipeline.resample_spec - INFO - Drizzling (1024, 1032) --> (387, 44)\n",
      "2021-07-27 16:11:12,295 - stpipe.Spec2Pipeline.resample_spec - INFO - Resampling var_poisson\n",
      "2021-07-27 16:11:12,781 - stpipe.Spec2Pipeline.resample_spec - INFO - Drizzling (1024, 1032) --> (387, 44)\n",
      "2021-07-27 16:11:12,790 - stpipe.Spec2Pipeline.resample_spec - INFO - Resampling var_flat\n",
      "2021-07-27 16:11:13,276 - stpipe.Spec2Pipeline.resample_spec - INFO - Drizzling (1024, 1032) --> (387, 44)\n",
      "2021-07-27 16:11:13,298 - stpipe.Spec2Pipeline.resample_spec - INFO - Update S_REGION to POLYGON ICRS  359.999087898 -0.000033657 0.000404806 -0.000033657 0.000404806 0.000075807 359.999087898 0.000075807\n",
      "2021-07-27 16:11:13,389 - stpipe.Spec2Pipeline.resample_spec - INFO - Saved model in miri_lrs_slit_pt_nod1_v2_s2d.fits\n",
      "2021-07-27 16:11:13,389 - stpipe.Spec2Pipeline.resample_spec - INFO - Step resample_spec done\n",
      "2021-07-27 16:11:13,452 - stpipe.Spec2Pipeline.extract_1d - INFO - Step extract_1d running with args (<SlitModel(387, 44) from miri_lrs_slit_pt_nod1_v2_s2d.fits>,).\n",
      "2021-07-27 16:11:13,454 - stpipe.Spec2Pipeline.extract_1d - INFO - Step extract_1d parameters are: {'pre_hooks': [], 'post_hooks': [], 'output_file': None, 'output_dir': None, 'output_ext': '.fits', 'output_use_model': False, 'output_use_index': True, 'save_results': True, 'skip': False, 'suffix': 'x1d', 'search_output_file': True, 'input_dir': '', 'smoothing_length': None, 'bkg_fit': 'poly', 'bkg_order': None, 'bkg_sigma_clip': 3.0, 'log_increment': 50, 'subtract_background': None, 'use_source_posn': None, 'apply_apcorr': True}\n",
      "2021-07-27 16:11:13,564 - stpipe.Spec2Pipeline.extract_1d - INFO - Using EXTRACT1D reference file /grp/crds/cache/references/jwst/jwst_miri_extract1d_0004.json\n",
      "2021-07-27 16:11:13,618 - stpipe.Spec2Pipeline.extract_1d - INFO - Using APCORR file /grp/crds/cache/references/jwst/jwst_miri_apcorr_0007.fits\n",
      "2021-07-27 16:11:13,769 - stpipe.Spec2Pipeline.extract_1d - INFO - Turning on source position correction for exp_type = MIR_LRS-FIXEDSLIT\n",
      "2021-07-27 16:11:13,770 - stpipe.Spec2Pipeline.extract_1d - WARNING - spectral_order is None; using 1\n",
      "2021-07-27 16:11:13,770 - stpipe.Spec2Pipeline.extract_1d - INFO - Processing spectral order 1\n",
      "2021-07-27 16:11:13,779 - stpipe.Spec2Pipeline.extract_1d - INFO - Applying position offset of -8.28 to xstart and xstop\n",
      "2021-07-27 16:11:13,781 - stpipe.Spec2Pipeline.extract_1d - INFO - Using extraction limits: \n",
      "2021-07-27 16:11:13,781 - stpipe.Spec2Pipeline.extract_1d - INFO - xstart=8.217824041501943, xstop=18.21782404150194, ystart=0, ystop=386\n",
      "2021-07-27 16:11:13,879 - stpipe.Spec2Pipeline.extract_1d - INFO - Applying Aperture correction.\n",
      "2021-07-27 16:11:14,216 - stpipe.Spec2Pipeline.extract_1d - INFO - Saved model in miri_lrs_slit_pt_nod1_v2_x1d.fits\n",
      "2021-07-27 16:11:14,216 - stpipe.Spec2Pipeline.extract_1d - INFO - Step extract_1d done\n",
      "2021-07-27 16:11:14,217 - stpipe.Spec2Pipeline - INFO - Finished processing product miri_lrs_slit_pt_nod1_v2.3_gain_scale\n",
      "2021-07-27 16:11:14,218 - stpipe.Spec2Pipeline - INFO - Ending calwebb_spec2\n",
      "2021-07-27 16:11:14,417 - stpipe.Spec2Pipeline - INFO - Saved model in miri_lrs_slit_pt_nod1_v2_cal.fits\n",
      "2021-07-27 16:11:14,418 - stpipe.Spec2Pipeline - INFO - Step Spec2Pipeline done\n",
      "2021-07-27 16:11:14,578 - stpipe.Spec2Pipeline - INFO - Spec2Pipeline instance created.\n",
      "2021-07-27 16:11:14,580 - stpipe.Spec2Pipeline.bkg_subtract - INFO - BackgroundStep instance created.\n",
      "2021-07-27 16:11:14,582 - stpipe.Spec2Pipeline.assign_wcs - INFO - AssignWcsStep instance created.\n",
      "2021-07-27 16:11:14,583 - stpipe.Spec2Pipeline.imprint_subtract - INFO - ImprintStep instance created.\n",
      "2021-07-27 16:11:14,585 - stpipe.Spec2Pipeline.msa_flagging - INFO - MSAFlagOpenStep instance created.\n",
      "2021-07-27 16:11:14,586 - stpipe.Spec2Pipeline.extract_2d - INFO - Extract2dStep instance created.\n",
      "2021-07-27 16:11:14,590 - stpipe.Spec2Pipeline.master_background - INFO - MasterBackgroundNrsSlitsStep instance created.\n",
      "2021-07-27 16:11:14,592 - stpipe.Spec2Pipeline.master_background.flat_field - INFO - FlatFieldStep instance created.\n",
      "2021-07-27 16:11:14,593 - stpipe.Spec2Pipeline.master_background.pathloss - INFO - PathLossStep instance created.\n",
      "2021-07-27 16:11:14,595 - stpipe.Spec2Pipeline.master_background.barshadow - INFO - BarShadowStep instance created.\n",
      "2021-07-27 16:11:14,596 - stpipe.Spec2Pipeline.master_background.photom - INFO - PhotomStep instance created.\n",
      "2021-07-27 16:11:14,597 - stpipe.Spec2Pipeline.wavecorr - INFO - WavecorrStep instance created.\n",
      "2021-07-27 16:11:14,599 - stpipe.Spec2Pipeline.flat_field - INFO - FlatFieldStep instance created.\n",
      "2021-07-27 16:11:14,600 - stpipe.Spec2Pipeline.srctype - INFO - SourceTypeStep instance created.\n",
      "2021-07-27 16:11:14,601 - stpipe.Spec2Pipeline.straylight - INFO - StraylightStep instance created.\n",
      "2021-07-27 16:11:14,602 - stpipe.Spec2Pipeline.fringe - INFO - FringeStep instance created.\n",
      "2021-07-27 16:11:14,603 - stpipe.Spec2Pipeline.pathloss - INFO - PathLossStep instance created.\n",
      "2021-07-27 16:11:14,605 - stpipe.Spec2Pipeline.barshadow - INFO - BarShadowStep instance created.\n",
      "2021-07-27 16:11:14,606 - stpipe.Spec2Pipeline.photom - INFO - PhotomStep instance created.\n",
      "2021-07-27 16:11:14,609 - stpipe.Spec2Pipeline.resample_spec - INFO - ResampleSpecStep instance created.\n",
      "2021-07-27 16:11:14,611 - stpipe.Spec2Pipeline.cube_build - INFO - CubeBuildStep instance created.\n",
      "2021-07-27 16:11:14,612 - stpipe.Spec2Pipeline.extract_1d - INFO - Extract1dStep instance created.\n",
      "2021-07-27 16:11:14,683 - stpipe.Spec2Pipeline - INFO - Step Spec2Pipeline running with args (<ImageModel(1024, 1032) from miri_lrs_slit_pt_nod2_v2.3_gain_scale.fits>,).\n",
      "2021-07-27 16:11:14,699 - stpipe.Spec2Pipeline - INFO - Step Spec2Pipeline parameters are: {'pre_hooks': [], 'post_hooks': [], 'output_file': None, 'output_dir': None, 'output_ext': '.fits', 'output_use_model': False, 'output_use_index': True, 'save_results': True, 'skip': False, 'suffix': None, 'search_output_file': True, 'input_dir': '', 'save_bsub': False, 'fail_on_exception': True, 'steps': {'bkg_subtract': {'pre_hooks': [], 'post_hooks': [], 'output_file': None, 'output_dir': None, 'output_ext': '.fits', 'output_use_model': False, 'output_use_index': True, 'save_results': False, 'skip': False, 'suffix': None, 'search_output_file': True, 'input_dir': '', 'save_combined_background': False, 'sigma': 3.0, 'maxiters': None}, 'assign_wcs': {'pre_hooks': [], 'post_hooks': [], 'output_file': None, 'output_dir': None, 'output_ext': '.fits', 'output_use_model': False, 'output_use_index': True, 'save_results': False, 'skip': False, 'suffix': None, 'search_output_file': True, 'input_dir': '', 'sip_approx': True, 'sip_max_pix_error': 0.25, 'sip_degree': None, 'sip_max_inv_pix_error': 0.25, 'sip_inv_degree': None, 'sip_npoints': 32, 'slit_y_low': -0.55, 'slit_y_high': 0.55}, 'imprint_subtract': {'pre_hooks': [], 'post_hooks': [], 'output_file': None, 'output_dir': None, 'output_ext': '.fits', 'output_use_model': False, 'output_use_index': True, 'save_results': False, 'skip': False, 'suffix': None, 'search_output_file': True, 'input_dir': ''}, 'msa_flagging': {'pre_hooks': [], 'post_hooks': [], 'output_file': None, 'output_dir': None, 'output_ext': '.fits', 'output_use_model': False, 'output_use_index': True, 'save_results': False, 'skip': False, 'suffix': None, 'search_output_file': True, 'input_dir': ''}, 'extract_2d': {'pre_hooks': [], 'post_hooks': [], 'output_file': None, 'output_dir': None, 'output_ext': '.fits', 'output_use_model': False, 'output_use_index': True, 'save_results': False, 'skip': False, 'suffix': None, 'search_output_file': True, 'input_dir': '', 'slit_name': None, 'extract_orders': None, 'tsgrism_extract_height': None, 'wfss_extract_half_height': 5, 'grism_objects': None, 'mmag_extract': 99.0}, 'master_background': {'pre_hooks': [], 'post_hooks': [], 'output_file': None, 'output_dir': None, 'output_ext': '.fits', 'output_use_model': True, 'output_use_index': True, 'save_results': False, 'skip': False, 'suffix': None, 'search_output_file': True, 'input_dir': '', 'force_subtract': False, 'save_background': False, 'user_background': None, 'inverse': False, 'steps': {'flat_field': {'pre_hooks': [], 'post_hooks': [], 'output_file': None, 'output_dir': None, 'output_ext': '.fits', 'output_use_model': False, 'output_use_index': True, 'save_results': False, 'skip': False, 'suffix': None, 'search_output_file': True, 'input_dir': '', 'save_interpolated_flat': False, 'user_supplied_flat': None, 'inverse': False}, 'pathloss': {'pre_hooks': [], 'post_hooks': [], 'output_file': None, 'output_dir': None, 'output_ext': '.fits', 'output_use_model': False, 'output_use_index': True, 'save_results': False, 'skip': False, 'suffix': None, 'search_output_file': True, 'input_dir': '', 'inverse': False, 'source_type': None}, 'barshadow': {'pre_hooks': [], 'post_hooks': [], 'output_file': None, 'output_dir': None, 'output_ext': '.fits', 'output_use_model': False, 'output_use_index': True, 'save_results': False, 'skip': False, 'suffix': None, 'search_output_file': True, 'input_dir': '', 'inverse': False, 'source_type': None}, 'photom': {'pre_hooks': [], 'post_hooks': [], 'output_file': None, 'output_dir': None, 'output_ext': '.fits', 'output_use_model': False, 'output_use_index': True, 'save_results': False, 'skip': False, 'suffix': None, 'search_output_file': True, 'input_dir': '', 'inverse': False, 'source_type': None}}}, 'wavecorr': {'pre_hooks': [], 'post_hooks': [], 'output_file': None, 'output_dir': None, 'output_ext': '.fits', 'output_use_model': False, 'output_use_index': True, 'save_results': False, 'skip': False, 'suffix': None, 'search_output_file': True, 'input_dir': ''}, 'flat_field': {'pre_hooks': [], 'post_hooks': [], 'output_file': None, 'output_dir': None, 'output_ext': '.fits', 'output_use_model': False, 'output_use_index': True, 'save_results': False, 'skip': False, 'suffix': None, 'search_output_file': True, 'input_dir': '', 'save_interpolated_flat': False, 'user_supplied_flat': None, 'inverse': False}, 'srctype': {'pre_hooks': [], 'post_hooks': [], 'output_file': None, 'output_dir': None, 'output_ext': '.fits', 'output_use_model': False, 'output_use_index': True, 'save_results': False, 'skip': False, 'suffix': None, 'search_output_file': True, 'input_dir': ''}, 'straylight': {'pre_hooks': [], 'post_hooks': [], 'output_file': None, 'output_dir': None, 'output_ext': '.fits', 'output_use_model': False, 'output_use_index': True, 'save_results': False, 'skip': False, 'suffix': None, 'search_output_file': True, 'input_dir': '', 'method': 'ModShepard', 'roi': 50, 'power': 1.0}, 'fringe': {'pre_hooks': [], 'post_hooks': [], 'output_file': None, 'output_dir': None, 'output_ext': '.fits', 'output_use_model': False, 'output_use_index': True, 'save_results': False, 'skip': False, 'suffix': None, 'search_output_file': True, 'input_dir': ''}, 'pathloss': {'pre_hooks': [], 'post_hooks': [], 'output_file': None, 'output_dir': None, 'output_ext': '.fits', 'output_use_model': False, 'output_use_index': True, 'save_results': False, 'skip': False, 'suffix': None, 'search_output_file': True, 'input_dir': '', 'inverse': False, 'source_type': None}, 'barshadow': {'pre_hooks': [], 'post_hooks': [], 'output_file': None, 'output_dir': None, 'output_ext': '.fits', 'output_use_model': False, 'output_use_index': True, 'save_results': False, 'skip': False, 'suffix': None, 'search_output_file': True, 'input_dir': '', 'inverse': False, 'source_type': None}, 'photom': {'pre_hooks': [], 'post_hooks': [], 'output_file': None, 'output_dir': None, 'output_ext': '.fits', 'output_use_model': False, 'output_use_index': True, 'save_results': False, 'skip': False, 'suffix': None, 'search_output_file': True, 'input_dir': '', 'inverse': False, 'source_type': None}, 'resample_spec': {'pre_hooks': [], 'post_hooks': [], 'output_file': None, 'output_dir': None, 'output_ext': '.fits', 'output_use_model': False, 'output_use_index': True, 'save_results': False, 'skip': False, 'suffix': None, 'search_output_file': True, 'input_dir': '', 'pixfrac': 1.0, 'kernel': 'square', 'fillval': 'INDEF', 'weight_type': 'ivm', 'pixel_scale_ratio': 1.0, 'single': False, 'blendheaders': True, 'allowed_memory': None}, 'cube_build': {'pre_hooks': [], 'post_hooks': [], 'output_file': None, 'output_dir': None, 'output_ext': '.fits', 'output_use_model': True, 'output_use_index': True, 'save_results': False, 'skip': False, 'suffix': None, 'search_output_file': False, 'input_dir': '', 'channel': 'all', 'band': 'all', 'grating': 'all', 'filter': 'all', 'output_type': 'band', 'scale1': 0.0, 'scale2': 0.0, 'scalew': 0.0, 'weighting': 'emsm', 'coord_system': 'skyalign', 'rois': 0.0, 'roiw': 0.0, 'weight_power': 2.0, 'wavemin': None, 'wavemax': None, 'single': False, 'xdebug': None, 'ydebug': None, 'zdebug': None, 'skip_dqflagging': False}, 'extract_1d': {'pre_hooks': [], 'post_hooks': [], 'output_file': None, 'output_dir': None, 'output_ext': '.fits', 'output_use_model': False, 'output_use_index': True, 'save_results': False, 'skip': False, 'suffix': None, 'search_output_file': True, 'input_dir': '', 'smoothing_length': None, 'bkg_fit': 'poly', 'bkg_order': None, 'bkg_sigma_clip': 3.0, 'log_increment': 50, 'subtract_background': None, 'use_source_posn': None, 'apply_apcorr': True}}}\n"
     ]
    },
    {
     "name": "stderr",
     "output_type": "stream",
     "text": [
      "2021-07-27 16:11:14,709 - stpipe.Spec2Pipeline - INFO - Prefetching reference files for dataset: 'miri_lrs_slit_pt_nod2_v2.3_gain_scale.fits' reftypes = ['apcorr', 'area', 'barshadow', 'camera', 'collimator', 'cubepar', 'dflat', 'disperser', 'distortion', 'drizpars', 'extract1d', 'fflat', 'filteroffset', 'flat', 'fore', 'fpa', 'fringe', 'ifufore', 'ifupost', 'ifuslicer', 'msa', 'msaoper', 'ote', 'pathloss', 'photom', 'regions', 'resol', 'sflat', 'specwcs', 'wavecorr', 'wavelengthrange', 'wfssbkg']\n",
      "2021-07-27 16:11:14,745 - stpipe.Spec2Pipeline - INFO - Prefetch for APCORR reference file is '/grp/crds/cache/references/jwst/jwst_miri_apcorr_0007.fits'.\n",
      "2021-07-27 16:11:14,760 - stpipe.Spec2Pipeline - INFO - Prefetch for AREA reference file is 'N/A'.\n",
      "2021-07-27 16:11:14,761 - stpipe.Spec2Pipeline - INFO - Prefetch for BARSHADOW reference file is 'N/A'.\n",
      "2021-07-27 16:11:14,761 - stpipe.Spec2Pipeline - INFO - Prefetch for CAMERA reference file is 'N/A'.\n",
      "2021-07-27 16:11:14,762 - stpipe.Spec2Pipeline - INFO - Prefetch for COLLIMATOR reference file is 'N/A'.\n",
      "2021-07-27 16:11:14,762 - stpipe.Spec2Pipeline - INFO - Prefetch for CUBEPAR reference file is 'N/A'.\n",
      "2021-07-27 16:11:14,763 - stpipe.Spec2Pipeline - INFO - Prefetch for DFLAT reference file is 'N/A'.\n",
      "2021-07-27 16:11:14,764 - stpipe.Spec2Pipeline - INFO - Prefetch for DISPERSER reference file is 'N/A'.\n",
      "2021-07-27 16:11:14,764 - stpipe.Spec2Pipeline - INFO - Prefetch for DISTORTION reference file is '/grp/crds/cache/references/jwst/jwst_miri_distortion_0028.asdf'.\n",
      "2021-07-27 16:11:14,779 - stpipe.Spec2Pipeline - INFO - Prefetch for DRIZPARS reference file is '/grp/crds/cache/references/jwst/jwst_miri_drizpars_0001.fits'.\n",
      "2021-07-27 16:11:14,795 - stpipe.Spec2Pipeline - INFO - Prefetch for EXTRACT1D reference file is '/grp/crds/cache/references/jwst/jwst_miri_extract1d_0004.json'.\n",
      "2021-07-27 16:11:14,815 - stpipe.Spec2Pipeline - INFO - Prefetch for FFLAT reference file is 'N/A'.\n",
      "2021-07-27 16:11:14,816 - stpipe.Spec2Pipeline - INFO - Prefetch for FILTEROFFSET reference file is 'N/A'.\n",
      "2021-07-27 16:11:14,817 - stpipe.Spec2Pipeline - INFO - Prefetch for FLAT reference file is '/grp/crds/cache/references/jwst/jwst_miri_flat_0472.fits'.\n",
      "2021-07-27 16:11:14,835 - stpipe.Spec2Pipeline - INFO - Prefetch for FORE reference file is 'N/A'.\n",
      "2021-07-27 16:11:14,836 - stpipe.Spec2Pipeline - INFO - Prefetch for FPA reference file is 'N/A'.\n",
      "2021-07-27 16:11:14,836 - stpipe.Spec2Pipeline - INFO - Prefetch for FRINGE reference file is 'N/A'.\n",
      "2021-07-27 16:11:14,837 - stpipe.Spec2Pipeline - INFO - Prefetch for IFUFORE reference file is 'N/A'.\n",
      "2021-07-27 16:11:14,838 - stpipe.Spec2Pipeline - INFO - Prefetch for IFUPOST reference file is 'N/A'.\n",
      "2021-07-27 16:11:14,838 - stpipe.Spec2Pipeline - INFO - Prefetch for IFUSLICER reference file is 'N/A'.\n",
      "2021-07-27 16:11:14,839 - stpipe.Spec2Pipeline - INFO - Prefetch for MSA reference file is 'N/A'.\n",
      "2021-07-27 16:11:14,839 - stpipe.Spec2Pipeline - INFO - Prefetch for MSAOPER reference file is 'N/A'.\n",
      "2021-07-27 16:11:14,840 - stpipe.Spec2Pipeline - INFO - Prefetch for OTE reference file is 'N/A'.\n",
      "2021-07-27 16:11:14,840 - stpipe.Spec2Pipeline - INFO - Prefetch for PATHLOSS reference file is 'N/A'.\n",
      "2021-07-27 16:11:14,841 - stpipe.Spec2Pipeline - INFO - Prefetch for PHOTOM reference file is '/grp/crds/cache/references/jwst/jwst_miri_photom_0072.fits'.\n",
      "2021-07-27 16:11:14,855 - stpipe.Spec2Pipeline - INFO - Prefetch for REGIONS reference file is 'N/A'.\n",
      "2021-07-27 16:11:14,856 - stpipe.Spec2Pipeline - INFO - Prefetch for RESOL reference file is 'N/A'.\n",
      "2021-07-27 16:11:14,856 - stpipe.Spec2Pipeline - INFO - Prefetch for SFLAT reference file is 'N/A'.\n",
      "2021-07-27 16:11:14,857 - stpipe.Spec2Pipeline - INFO - Prefetch for SPECWCS reference file is '/grp/crds/cache/references/jwst/jwst_miri_specwcs_0003.fits'.\n",
      "2021-07-27 16:11:14,875 - stpipe.Spec2Pipeline - INFO - Prefetch for WAVECORR reference file is 'N/A'.\n",
      "2021-07-27 16:11:14,875 - stpipe.Spec2Pipeline - INFO - Prefetch for WAVELENGTHRANGE reference file is 'N/A'.\n",
      "2021-07-27 16:11:14,876 - stpipe.Spec2Pipeline - INFO - Prefetch for WFSSBKG reference file is 'N/A'.\n",
      "2021-07-27 16:11:14,877 - stpipe.Spec2Pipeline - INFO - Starting calwebb_spec2 ...\n",
      "2021-07-27 16:11:14,905 - stpipe.Spec2Pipeline - INFO - Processing product miri_lrs_slit_pt_nod2_v2.3_gain_scale\n",
      "2021-07-27 16:11:14,906 - stpipe.Spec2Pipeline - INFO - Working on input <ImageModel(1024, 1032) from miri_lrs_slit_pt_nod2_v2.3_gain_scale.fits> ...\n",
      "2021-07-27 16:11:14,970 - stpipe.Spec2Pipeline.assign_wcs - INFO - Step assign_wcs running with args (<ImageModel(1024, 1032) from miri_lrs_slit_pt_nod2_v2.3_gain_scale.fits>,).\n",
      "2021-07-27 16:11:14,972 - stpipe.Spec2Pipeline.assign_wcs - INFO - Step assign_wcs parameters are: {'pre_hooks': [], 'post_hooks': [], 'output_file': None, 'output_dir': None, 'output_ext': '.fits', 'output_use_model': False, 'output_use_index': True, 'save_results': False, 'skip': False, 'suffix': None, 'search_output_file': True, 'input_dir': '', 'sip_approx': True, 'sip_max_pix_error': 0.25, 'sip_degree': None, 'sip_max_inv_pix_error': 0.25, 'sip_inv_degree': None, 'sip_npoints': 32, 'slit_y_low': -0.55, 'slit_y_high': 0.55}\n",
      "2021-07-27 16:11:16,157 - stpipe.Spec2Pipeline.assign_wcs - INFO - Created a MIRI mir_lrs-fixedslit pipeline with references {'distortion': '/grp/crds/cache/references/jwst/jwst_miri_distortion_0028.asdf', 'filteroffset': None, 'specwcs': '/grp/crds/cache/references/jwst/jwst_miri_specwcs_0003.fits', 'regions': None, 'wavelengthrange': None, 'camera': None, 'collimator': None, 'disperser': None, 'fore': None, 'fpa': None, 'msa': None, 'ote': None, 'ifupost': None, 'ifufore': None, 'ifuslicer': None}\n",
      "2021-07-27 16:11:16,216 - stpipe.Spec2Pipeline.assign_wcs - WARNING - /Users/kmurray/anaconda3/envs/jwst7.8_4th/lib/python3.8/site-packages/gwcs/utils.py:72: DeprecationWarning: `np.int` is a deprecated alias for the builtin `int`. To silence this warning, use `int` by itself. Doing this will not modify any behavior and is safe. When replacing `np.int`, you may wish to use e.g. `np.int64` or `np.int32` to specify the precision. If you wish to review your current use, check the release note link for additional information.\n",
      "Deprecated in NumPy 1.20; for more details and guidance: https://numpy.org/devdocs/release/1.20.0-notes.html#deprecations\n",
      "  indx = np.asarray(np.floor(np.asarray(value) + 0.5), dtype=np.int)\n",
      "\n",
      "2021-07-27 16:11:16,221 - stpipe.Spec2Pipeline.assign_wcs - INFO - Update S_REGION to POLYGON ICRS  0.000903013 -0.000079284 0.000903013 0.000036907 359.999605833 0.000036907 359.999605833 -0.000079284\n",
      "2021-07-27 16:11:16,222 - stpipe.Spec2Pipeline.assign_wcs - INFO - assign_wcs updated S_REGION to POLYGON ICRS  0.000903013 -0.000079284 0.000903013 0.000036907 359.999605833 0.000036907 359.999605833 -0.000079284\n",
      "2021-07-27 16:11:16,222 - stpipe.Spec2Pipeline.assign_wcs - INFO - COMPLETED assign_wcs\n",
      "2021-07-27 16:11:16,229 - stpipe.Spec2Pipeline.assign_wcs - INFO - Step assign_wcs done\n",
      "2021-07-27 16:11:16,288 - stpipe.Spec2Pipeline.bkg_subtract - INFO - Step bkg_subtract running with args (<ImageModel(1024, 1032) from miri_lrs_slit_pt_nod2_v2.3_gain_scale.fits>, []).\n",
      "2021-07-27 16:11:16,290 - stpipe.Spec2Pipeline.bkg_subtract - INFO - Step bkg_subtract parameters are: {'pre_hooks': [], 'post_hooks': [], 'output_file': None, 'output_dir': None, 'output_ext': '.fits', 'output_use_model': False, 'output_use_index': True, 'save_results': False, 'skip': True, 'suffix': None, 'search_output_file': True, 'input_dir': '', 'save_combined_background': False, 'sigma': 3.0, 'maxiters': None}\n",
      "2021-07-27 16:11:16,291 - stpipe.Spec2Pipeline.bkg_subtract - INFO - Step skipped.\n",
      "2021-07-27 16:11:16,293 - stpipe.Spec2Pipeline.bkg_subtract - INFO - Step bkg_subtract done\n",
      "2021-07-27 16:11:16,355 - stpipe.Spec2Pipeline.imprint_subtract - INFO - Step imprint_subtract running with args (<ImageModel(1024, 1032) from miri_lrs_slit_pt_nod2_v2.3_gain_scale.fits>, []).\n",
      "2021-07-27 16:11:16,357 - stpipe.Spec2Pipeline.imprint_subtract - INFO - Step imprint_subtract parameters are: {'pre_hooks': [], 'post_hooks': [], 'output_file': None, 'output_dir': None, 'output_ext': '.fits', 'output_use_model': False, 'output_use_index': True, 'save_results': False, 'skip': True, 'suffix': None, 'search_output_file': True, 'input_dir': ''}\n"
     ]
    },
    {
     "name": "stderr",
     "output_type": "stream",
     "text": [
      "2021-07-27 16:11:16,358 - stpipe.Spec2Pipeline.imprint_subtract - INFO - Step skipped.\n",
      "2021-07-27 16:11:16,360 - stpipe.Spec2Pipeline.imprint_subtract - INFO - Step imprint_subtract done\n",
      "2021-07-27 16:11:16,423 - stpipe.Spec2Pipeline.msa_flagging - INFO - Step msa_flagging running with args (<ImageModel(1024, 1032) from miri_lrs_slit_pt_nod2_v2.3_gain_scale.fits>,).\n",
      "2021-07-27 16:11:16,425 - stpipe.Spec2Pipeline.msa_flagging - INFO - Step msa_flagging parameters are: {'pre_hooks': [], 'post_hooks': [], 'output_file': None, 'output_dir': None, 'output_ext': '.fits', 'output_use_model': False, 'output_use_index': True, 'save_results': False, 'skip': True, 'suffix': None, 'search_output_file': True, 'input_dir': ''}\n",
      "2021-07-27 16:11:16,426 - stpipe.Spec2Pipeline.msa_flagging - INFO - Step skipped.\n",
      "2021-07-27 16:11:16,427 - stpipe.Spec2Pipeline.msa_flagging - INFO - Step msa_flagging done\n",
      "2021-07-27 16:11:16,487 - stpipe.Spec2Pipeline.srctype - INFO - Step srctype running with args (<ImageModel(1024, 1032) from miri_lrs_slit_pt_nod2_v2.3_gain_scale.fits>,).\n",
      "2021-07-27 16:11:16,489 - stpipe.Spec2Pipeline.srctype - INFO - Step srctype parameters are: {'pre_hooks': [], 'post_hooks': [], 'output_file': None, 'output_dir': None, 'output_ext': '.fits', 'output_use_model': False, 'output_use_index': True, 'save_results': False, 'skip': False, 'suffix': None, 'search_output_file': True, 'input_dir': ''}\n",
      "2021-07-27 16:11:16,500 - stpipe.Spec2Pipeline.srctype - INFO - Input EXP_TYPE is MIR_LRS-FIXEDSLIT\n",
      "2021-07-27 16:11:16,501 - stpipe.Spec2Pipeline.srctype - INFO - Input SRCTYAPT = None\n",
      "2021-07-27 16:11:16,502 - stpipe.Spec2Pipeline.srctype - WARNING - SRCTYAPT keyword not found in input; using SRCTYPE instead\n",
      "2021-07-27 16:11:16,503 - stpipe.Spec2Pipeline.srctype - INFO - Input source type is unknown; setting default SRCTYPE = POINT\n",
      "2021-07-27 16:11:16,506 - stpipe.Spec2Pipeline.srctype - INFO - Step srctype done\n",
      "2021-07-27 16:11:16,567 - stpipe.Spec2Pipeline.flat_field - INFO - Step flat_field running with args (<ImageModel(1024, 1032) from miri_lrs_slit_pt_nod2_v2.3_gain_scale.fits>,).\n",
      "2021-07-27 16:11:16,569 - stpipe.Spec2Pipeline.flat_field - INFO - Step flat_field parameters are: {'pre_hooks': [], 'post_hooks': [], 'output_file': None, 'output_dir': None, 'output_ext': '.fits', 'output_use_model': False, 'output_use_index': True, 'save_results': False, 'skip': False, 'suffix': None, 'search_output_file': True, 'input_dir': '', 'save_interpolated_flat': False, 'user_supplied_flat': None, 'inverse': False}\n",
      "2021-07-27 16:11:16,713 - stpipe.Spec2Pipeline.flat_field - WARNING - Keyword CDP_PARTIAL_DATA does not correspond to an existing DQ mnemonic, so will be ignored\n",
      "2021-07-27 16:11:16,714 - stpipe.Spec2Pipeline.flat_field - WARNING - Keyword CDP_LOW_QUAL does not correspond to an existing DQ mnemonic, so will be ignored\n",
      "2021-07-27 16:11:16,715 - stpipe.Spec2Pipeline.flat_field - WARNING - Keyword CDP_UNRELIABLE_ERROR does not correspond to an existing DQ mnemonic, so will be ignored\n",
      "2021-07-27 16:11:16,734 - stpipe.Spec2Pipeline.flat_field - WARNING - Keyword DIFF_PATTERN does not correspond to an existing DQ mnemonic, so will be ignored\n",
      "2021-07-27 16:11:16,857 - stpipe.Spec2Pipeline.flat_field - INFO - Step flat_field done\n",
      "2021-07-27 16:11:16,917 - stpipe.Spec2Pipeline.straylight - INFO - Step straylight running with args (<ImageModel(1024, 1032) from miri_lrs_slit_pt_nod2_v2.3_gain_scale.fits>,).\n",
      "2021-07-27 16:11:16,919 - stpipe.Spec2Pipeline.straylight - INFO - Step straylight parameters are: {'pre_hooks': [], 'post_hooks': [], 'output_file': None, 'output_dir': None, 'output_ext': '.fits', 'output_use_model': False, 'output_use_index': True, 'save_results': False, 'skip': True, 'suffix': None, 'search_output_file': True, 'input_dir': '', 'method': 'ModShepard', 'roi': 50, 'power': 1.0}\n",
      "2021-07-27 16:11:16,920 - stpipe.Spec2Pipeline.straylight - INFO - Step skipped.\n",
      "2021-07-27 16:11:16,922 - stpipe.Spec2Pipeline.straylight - INFO - Step straylight done\n",
      "2021-07-27 16:11:16,985 - stpipe.Spec2Pipeline.fringe - INFO - Step fringe running with args (<ImageModel(1024, 1032) from miri_lrs_slit_pt_nod2_v2.3_gain_scale.fits>,).\n",
      "2021-07-27 16:11:16,987 - stpipe.Spec2Pipeline.fringe - INFO - Step fringe parameters are: {'pre_hooks': [], 'post_hooks': [], 'output_file': None, 'output_dir': None, 'output_ext': '.fits', 'output_use_model': False, 'output_use_index': True, 'save_results': False, 'skip': True, 'suffix': None, 'search_output_file': True, 'input_dir': ''}\n",
      "2021-07-27 16:11:16,988 - stpipe.Spec2Pipeline.fringe - INFO - Step skipped.\n",
      "2021-07-27 16:11:16,990 - stpipe.Spec2Pipeline.fringe - INFO - Step fringe done\n",
      "2021-07-27 16:11:17,051 - stpipe.Spec2Pipeline.pathloss - INFO - Step pathloss running with args (<ImageModel(1024, 1032) from miri_lrs_slit_pt_nod2_v2.3_gain_scale.fits>,).\n",
      "2021-07-27 16:11:17,054 - stpipe.Spec2Pipeline.pathloss - INFO - Step pathloss parameters are: {'pre_hooks': [], 'post_hooks': [], 'output_file': None, 'output_dir': None, 'output_ext': '.fits', 'output_use_model': False, 'output_use_index': True, 'save_results': False, 'skip': True, 'suffix': None, 'search_output_file': True, 'input_dir': '', 'inverse': False, 'source_type': None}\n",
      "2021-07-27 16:11:17,055 - stpipe.Spec2Pipeline.pathloss - INFO - Step skipped.\n",
      "2021-07-27 16:11:17,057 - stpipe.Spec2Pipeline.pathloss - INFO - Step pathloss done\n",
      "2021-07-27 16:11:17,120 - stpipe.Spec2Pipeline.barshadow - INFO - Step barshadow running with args (<ImageModel(1024, 1032) from miri_lrs_slit_pt_nod2_v2.3_gain_scale.fits>,).\n",
      "2021-07-27 16:11:17,122 - stpipe.Spec2Pipeline.barshadow - INFO - Step barshadow parameters are: {'pre_hooks': [], 'post_hooks': [], 'output_file': None, 'output_dir': None, 'output_ext': '.fits', 'output_use_model': False, 'output_use_index': True, 'save_results': False, 'skip': True, 'suffix': None, 'search_output_file': True, 'input_dir': '', 'inverse': False, 'source_type': None}\n",
      "2021-07-27 16:11:17,123 - stpipe.Spec2Pipeline.barshadow - INFO - Step skipped.\n",
      "2021-07-27 16:11:17,125 - stpipe.Spec2Pipeline.barshadow - INFO - Step barshadow done\n",
      "2021-07-27 16:11:17,193 - stpipe.Spec2Pipeline.photom - INFO - Step photom running with args (<ImageModel(1024, 1032) from miri_lrs_slit_pt_nod2_v2.3_gain_scale.fits>,).\n",
      "2021-07-27 16:11:17,195 - stpipe.Spec2Pipeline.photom - INFO - Step photom parameters are: {'pre_hooks': [], 'post_hooks': [], 'output_file': None, 'output_dir': None, 'output_ext': '.fits', 'output_use_model': False, 'output_use_index': True, 'save_results': False, 'skip': False, 'suffix': None, 'search_output_file': True, 'input_dir': '', 'inverse': False, 'source_type': None}\n",
      "2021-07-27 16:11:17,245 - stpipe.Spec2Pipeline.photom - INFO - Using photom reference file: /grp/crds/cache/references/jwst/jwst_miri_photom_0072.fits\n",
      "2021-07-27 16:11:17,246 - stpipe.Spec2Pipeline.photom - INFO - Using area reference file: N/A\n",
      "2021-07-27 16:11:17,327 - stpipe.Spec2Pipeline.photom - INFO - Using instrument: MIRI\n",
      "2021-07-27 16:11:17,328 - stpipe.Spec2Pipeline.photom - INFO -  detector: MIRIMAGE\n",
      "2021-07-27 16:11:17,328 - stpipe.Spec2Pipeline.photom - INFO -  exp_type: MIR_LRS-FIXEDSLIT\n",
      "2021-07-27 16:11:17,329 - stpipe.Spec2Pipeline.photom - INFO -  filter: P750L\n",
      "2021-07-27 16:11:17,380 - stpipe.Spec2Pipeline.photom - INFO -  subarray: FULL\n",
      "2021-07-27 16:11:17,381 - stpipe.Spec2Pipeline.photom - INFO - PHOTMJSR value: 60.567\n",
      "2021-07-27 16:11:17,452 - stpipe.Spec2Pipeline.photom - INFO - Step photom done\n",
      "2021-07-27 16:11:17,514 - stpipe.Spec2Pipeline.resample_spec - INFO - Step resample_spec running with args (<ImageModel(1024, 1032) from miri_lrs_slit_pt_nod2_v2_cal.fits>,).\n",
      "2021-07-27 16:11:17,515 - stpipe.Spec2Pipeline.resample_spec - INFO - Step resample_spec parameters are: {'pre_hooks': [], 'post_hooks': [], 'output_file': None, 'output_dir': None, 'output_ext': '.fits', 'output_use_model': False, 'output_use_index': True, 'save_results': True, 'skip': False, 'suffix': 's2d', 'search_output_file': True, 'input_dir': '', 'pixfrac': 1.0, 'kernel': 'square', 'fillval': 'INDEF', 'weight_type': 'ivm', 'pixel_scale_ratio': 1.0, 'single': False, 'blendheaders': True, 'allowed_memory': None}\n"
     ]
    },
    {
     "name": "stderr",
     "output_type": "stream",
     "text": [
      "2021-07-27 16:11:17,707 - stpipe.Spec2Pipeline.resample_spec - INFO - Drizpars reference file: /grp/crds/cache/references/jwst/jwst_miri_drizpars_0001.fits\n",
      "2021-07-27 16:11:17,918 - stpipe.Spec2Pipeline.resample_spec - INFO - Resampling science data\n",
      "2021-07-27 16:11:18,417 - stpipe.Spec2Pipeline.resample_spec - INFO - Drizzling (1024, 1032) --> (387, 44)\n",
      "2021-07-27 16:11:18,430 - stpipe.Spec2Pipeline.resample_spec - INFO - Resampling var_rnoise\n",
      "2021-07-27 16:11:18,927 - stpipe.Spec2Pipeline.resample_spec - INFO - Drizzling (1024, 1032) --> (387, 44)\n",
      "2021-07-27 16:11:18,939 - stpipe.Spec2Pipeline.resample_spec - INFO - Resampling var_poisson\n",
      "2021-07-27 16:11:19,428 - stpipe.Spec2Pipeline.resample_spec - INFO - Drizzling (1024, 1032) --> (387, 44)\n",
      "2021-07-27 16:11:19,437 - stpipe.Spec2Pipeline.resample_spec - INFO - Resampling var_flat\n",
      "2021-07-27 16:11:19,932 - stpipe.Spec2Pipeline.resample_spec - INFO - Drizzling (1024, 1032) --> (387, 44)\n",
      "2021-07-27 16:11:19,956 - stpipe.Spec2Pipeline.resample_spec - INFO - Update S_REGION to POLYGON ICRS  359.999611299 -0.000077162 0.000928207 -0.000077162 0.000928207 0.000032302 359.999611299 0.000032302\n",
      "2021-07-27 16:11:20,043 - stpipe.Spec2Pipeline.resample_spec - INFO - Saved model in miri_lrs_slit_pt_nod2_v2_s2d.fits\n",
      "2021-07-27 16:11:20,043 - stpipe.Spec2Pipeline.resample_spec - INFO - Step resample_spec done\n",
      "2021-07-27 16:11:20,104 - stpipe.Spec2Pipeline.extract_1d - INFO - Step extract_1d running with args (<SlitModel(387, 44) from miri_lrs_slit_pt_nod2_v2_s2d.fits>,).\n",
      "2021-07-27 16:11:20,106 - stpipe.Spec2Pipeline.extract_1d - INFO - Step extract_1d parameters are: {'pre_hooks': [], 'post_hooks': [], 'output_file': None, 'output_dir': None, 'output_ext': '.fits', 'output_use_model': False, 'output_use_index': True, 'save_results': True, 'skip': False, 'suffix': 'x1d', 'search_output_file': True, 'input_dir': '', 'smoothing_length': None, 'bkg_fit': 'poly', 'bkg_order': None, 'bkg_sigma_clip': 3.0, 'log_increment': 50, 'subtract_background': None, 'use_source_posn': None, 'apply_apcorr': True}\n",
      "2021-07-27 16:11:20,213 - stpipe.Spec2Pipeline.extract_1d - INFO - Using EXTRACT1D reference file /grp/crds/cache/references/jwst/jwst_miri_extract1d_0004.json\n",
      "2021-07-27 16:11:20,279 - stpipe.Spec2Pipeline.extract_1d - INFO - Using APCORR file /grp/crds/cache/references/jwst/jwst_miri_apcorr_0007.fits\n",
      "2021-07-27 16:11:20,375 - stpipe.Spec2Pipeline.extract_1d - INFO - Turning on source position correction for exp_type = MIR_LRS-FIXEDSLIT\n",
      "2021-07-27 16:11:20,375 - stpipe.Spec2Pipeline.extract_1d - WARNING - spectral_order is None; using 1\n",
      "2021-07-27 16:11:20,376 - stpipe.Spec2Pipeline.extract_1d - INFO - Processing spectral order 1\n",
      "2021-07-27 16:11:20,385 - stpipe.Spec2Pipeline.extract_1d - INFO - Applying position offset of 8.81 to xstart and xstop\n",
      "2021-07-27 16:11:20,387 - stpipe.Spec2Pipeline.extract_1d - INFO - Using extraction limits: \n",
      "2021-07-27 16:11:20,388 - stpipe.Spec2Pipeline.extract_1d - INFO - xstart=25.308029573578803, xstop=35.30802957357881, ystart=0, ystop=386\n",
      "2021-07-27 16:11:20,483 - stpipe.Spec2Pipeline.extract_1d - INFO - Applying Aperture correction.\n",
      "2021-07-27 16:11:20,823 - stpipe.Spec2Pipeline.extract_1d - INFO - Saved model in miri_lrs_slit_pt_nod2_v2_x1d.fits\n",
      "2021-07-27 16:11:20,824 - stpipe.Spec2Pipeline.extract_1d - INFO - Step extract_1d done\n",
      "2021-07-27 16:11:20,825 - stpipe.Spec2Pipeline - INFO - Finished processing product miri_lrs_slit_pt_nod2_v2.3_gain_scale\n",
      "2021-07-27 16:11:20,826 - stpipe.Spec2Pipeline - INFO - Ending calwebb_spec2\n",
      "2021-07-27 16:11:21,024 - stpipe.Spec2Pipeline - INFO - Saved model in miri_lrs_slit_pt_nod2_v2_cal.fits\n",
      "2021-07-27 16:11:21,025 - stpipe.Spec2Pipeline - INFO - Step Spec2Pipeline done\n"
     ]
    }
   ],
   "source": [
    "spec1 = Spec2Pipeline.call(det_nod1, save_results=True)\n",
    "spec2 = Spec2Pipeline.call(det_nod2, save_results=True)"
   ]
  },
  {
   "cell_type": "code",
   "execution_count": 32,
   "metadata": {},
   "outputs": [
    {
     "name": "stdout",
     "output_type": "stream",
     "text": [
      "['miri_lrs_slit_pt_nod2_v2_cal.fits', 'miri_lrs_slit_pt_nod1_v2_cal.fits']\n"
     ]
    }
   ],
   "source": [
    "cal_files = glob.glob('*_cal.fits')\n",
    "print(cal_files)\n",
    "\n",
    "spec1file = datamodels.open(spec1)\n",
    "#asn3 = asn_from_list(cal_files, rule=DMS_Level3_Base,product_name='combine_dithers_exposures')"
   ]
  },
  {
   "cell_type": "code",
   "execution_count": 33,
   "metadata": {},
   "outputs": [
    {
     "name": "stdout",
     "output_type": "stream",
     "text": [
      "<array (unloaded) shape: [1024, 1032] dtype: >f4>\n"
     ]
    }
   ],
   "source": [
    "#with open('sp3-lrs-slit-test_asn.json', 'w') as fp:\n",
    "    #fp.write(asn3.dump()[1])\n",
    "    \n",
    "spec2_file1 = datamodels.open(cal_files[0])\n",
    "spec2_file2 = datamodels.open(cal_files[1])\n",
    "print(spec2_file1.data)"
   ]
  },
  {
   "cell_type": "code",
   "execution_count": 34,
   "metadata": {},
   "outputs": [
    {
     "name": "stdout",
     "output_type": "stream",
     "text": [
      "346.5\n",
      "Model bbox (nod 1)= ((302.5, 346.5), (6.5, 396.5)) \n",
      "Model: Height x width of bounding box (nod 1) = 390.0 x 44.0 pixels\n",
      "302 346 6 396\n"
     ]
    }
   ],
   "source": [
    "print(spec2_file1.meta.wcs.bounding_box[0][1]), spec2_file1.meta.wcs.bounding_box[0][0], spec2_file1.meta.wcs.bounding_box[1][1], spec2_file1.meta.wcs.bounding_box[1][0]\n",
    "bbox_w = spec2_file1.meta.wcs.bounding_box[0][1] - spec2_file1.meta.wcs.bounding_box[0][0]\n",
    "bbox_ht = spec2_file1.meta.wcs.bounding_box[1][1] - spec2_file1.meta.wcs.bounding_box[1][0]\n",
    "left = int(spec2_file1.meta.wcs.bounding_box[0][0])\n",
    "right = int(spec2_file1.meta.wcs.bounding_box[0][1])\n",
    "down = int(spec2_file1.meta.wcs.bounding_box[1][0])\n",
    "up = int(spec2_file1.meta.wcs.bounding_box[1][1])\n",
    "print('Model bbox (nod 1)= {0} '.format(spec2_file1.meta.wcs.bounding_box))\n",
    "print('Model: Height x width of bounding box (nod 1) = {0} x {1} pixels'.format(bbox_ht, bbox_w))\n",
    "print(left, right, down, up)"
   ]
  },
  {
   "cell_type": "code",
   "execution_count": 35,
   "metadata": {},
   "outputs": [
    {
     "name": "stdout",
     "output_type": "stream",
     "text": [
      "[339, 133]\n"
     ]
    }
   ],
   "source": [
    "pixloc = []\n",
    "pixlocorder = []\n",
    "pixloc2 = []\n",
    "pixlocorder2 = []\n",
    "for i in range(len(cal_files)):\n",
    "    pixloc.append([random.randint(left,right),random.randint(down,up)])\n",
    "    pixloc.append([random.randint(left,right),random.randint(down,up)])\n",
    "    pixloc2.append([random.randint(left,right),random.randint(down,up)])\n",
    "    pixloc2.append([random.randint(left,right),random.randint(down,up)])\n",
    "    \n",
    "pixlocorder = np.array(pixloc)\n",
    "pixlocorder2 = np.array(pixloc2)\n",
    "print(pixloc[0])"
   ]
  },
  {
   "cell_type": "code",
   "execution_count": 36,
   "metadata": {},
   "outputs": [
    {
     "data": {
      "image/png": "[encoded data removed]",
      "text/plain": [
       "<Figure size 432x288 with 2 Axes>"
      ]
     },
     "metadata": {
      "needs_background": "light"
     },
     "output_type": "display_data"
    },
    {
     "name": "stdout",
     "output_type": "stream",
     "text": [
      "20872.355\n"
     ]
    }
   ],
   "source": [
    "#print(spec2_file1.data[0,pixloc[3]])\n",
    "plt.imshow(spec2_file1.data)\n",
    "plt.xlim(left,right)\n",
    "plt.ylim(down,up)\n",
    "x,y = pixlocorder.T\n",
    "plt.scatter(x,y)\n",
    "plt.colorbar()\n",
    "plt.show()\n",
    "print(spec2_file1.data[382, 334])"
   ]
  },
  {
   "cell_type": "code",
   "execution_count": 37,
   "metadata": {},
   "outputs": [
    {
     "name": "stdout",
     "output_type": "stream",
     "text": [
      "394558\n"
     ]
    }
   ],
   "source": [
    "maxindex = spec2_file1.data.argmax()\n",
    "print(maxindex)\n",
    "np.unravel_index(spec2_file1.data.argmax(), spec2_file1.data.shape)\n",
    "\n",
    "outliervalue = maxindex #* 10"
   ]
  },
  {
   "cell_type": "code",
   "execution_count": 38,
   "metadata": {},
   "outputs": [
    {
     "name": "stdout",
     "output_type": "stream",
     "text": [
      "-0.0\n",
      "394558.0\n",
      "20872.355\n"
     ]
    },
    {
     "data": {
      "text/plain": [
       "'./spec2_file1_outlier.fits'"
      ]
     },
     "execution_count": 38,
     "metadata": {},
     "output_type": "execute_result"
    }
   ],
   "source": [
    "print(spec2_file1.data[pixloc[3][0],pixloc[3][1]])\n",
    "spec2_file1.data[pixloc[0][0],pixloc[0][1]] = outliervalue\n",
    "spec2_file1.data[pixloc[1][0],pixloc[1][1]] = outliervalue\n",
    "spec2_file1.data[pixloc[2][0],pixloc[2][1]] = outliervalue\n",
    "spec2_file1.data[pixloc[3][0],pixloc[3][1]] = outliervalue\n",
    "print(spec2_file1.data[pixloc[3][0],pixloc[3][1]])\n",
    "print(spec2_file1.data[382, 334])\n",
    "spec2_file1.save('./spec2_file1_outlier.fits')"
   ]
  },
  {
   "cell_type": "code",
   "execution_count": 52,
   "metadata": {},
   "outputs": [
    {
     "name": "stdout",
     "output_type": "stream",
     "text": [
      "<ImageModel(1024, 1032) from spec2_file1_outlier.fits>\n",
      "394558.0\n",
      "20872.355\n"
     ]
    },
    {
     "name": "stderr",
     "output_type": "stream",
     "text": [
      "2021-07-27 16:24:25,450 - stpipe - WARNING - /var/folders/dz/41vqfd050yq8b664hsvm9hjr0001tk/T/ipykernel_45877/3912821350.py:5: RuntimeWarning: divide by zero encountered in log\n",
      "  plt.imshow(np.log(sanitycheck.data))\n",
      "\n",
      "2021-07-27 16:24:25,451 - stpipe - WARNING - /var/folders/dz/41vqfd050yq8b664hsvm9hjr0001tk/T/ipykernel_45877/3912821350.py:5: RuntimeWarning: invalid value encountered in log\n",
      "  plt.imshow(np.log(sanitycheck.data))\n",
      "\n"
     ]
    },
    {
     "data": {
      "text/plain": [
       "(6.0, 396.0)"
      ]
     },
     "execution_count": 52,
     "metadata": {},
     "output_type": "execute_result"
    },
    {
     "data": {
      "image/png": "[encoded data removed]",
      "text/plain": [
       "<Figure size 432x288 with 1 Axes>"
      ]
     },
     "metadata": {
      "needs_background": "light"
     },
     "output_type": "display_data"
    }
   ],
   "source": [
    "sanitycheck = datamodels.open('./spec2_file1_outlier.fits')\n",
    "print(sanitycheck)\n",
    "print(sanitycheck.data[pixloc[3][0],pixloc[3][1]])\n",
    "print(sanitycheck.data[382, 334])\n",
    "plt.imshow(np.log(sanitycheck.data))\n",
    "plt.xlim(left,right)\n",
    "plt.ylim(down,up)\n",
    "#plt.xlim(x[0]-5, x[0]+5)\n",
    "#plt.ylim(y[0]-5, y[0]+5)"
   ]
  },
  {
   "cell_type": "code",
   "execution_count": 40,
   "metadata": {},
   "outputs": [
    {
     "data": {
      "text/plain": [
       "(128.0, 138.0)"
      ]
     },
     "execution_count": 40,
     "metadata": {},
     "output_type": "execute_result"
    },
    {
     "data": {
      "image/png": "[encoded data removed]",
      "text/plain": [
       "<Figure size 432x288 with 1 Axes>"
      ]
     },
     "metadata": {
      "needs_background": "light"
     },
     "output_type": "display_data"
    }
   ],
   "source": [
    "plt.imshow(sanitycheck.data)\n",
    "plt.xlim(x[0]-5, x[0]+5)\n",
    "plt.ylim(y[0]-5, y[0]+5)"
   ]
  },
  {
   "cell_type": "code",
   "execution_count": 56,
   "metadata": {},
   "outputs": [
    {
     "name": "stderr",
     "output_type": "stream",
     "text": [
      "2021-07-27 16:26:29,194 - stpipe - WARNING - /var/folders/dz/41vqfd050yq8b664hsvm9hjr0001tk/T/ipykernel_45877/2650398253.py:1: RuntimeWarning: divide by zero encountered in log\n",
      "  plt.imshow(np.log(sanitycheck.dq))\n",
      "\n"
     ]
    },
    {
     "data": {
      "text/plain": [
       "18842820.623752803"
      ]
     },
     "execution_count": 56,
     "metadata": {},
     "output_type": "execute_result"
    },
    {
     "data": {
      "image/png": "[encoded data removed]",
      "text/plain": [
       "<Figure size 432x288 with 2 Axes>"
      ]
     },
     "metadata": {
      "needs_background": "light"
     },
     "output_type": "display_data"
    }
   ],
   "source": [
    "plt.imshow(np.log(sanitycheck.dq))\n",
    "plt.colorbar()\n",
    "np.mean(sanitycheck.dq)"
   ]
  },
  {
   "cell_type": "code",
   "execution_count": 41,
   "metadata": {},
   "outputs": [
    {
     "name": "stdout",
     "output_type": "stream",
     "text": [
      "-0.0\n",
      "394558.0\n",
      "-12.235362\n"
     ]
    },
    {
     "data": {
      "text/plain": [
       "'./spec2_file2_outlier.fits'"
      ]
     },
     "execution_count": 41,
     "metadata": {},
     "output_type": "execute_result"
    }
   ],
   "source": [
    "print(spec2_file2.data[pixloc[3][0],pixloc[3][1]])\n",
    "spec2_file2.data[pixloc2[0][0],pixloc2[0][1]] = outliervalue\n",
    "spec2_file2.data[pixloc2[1][0],pixloc2[1][1]] = outliervalue\n",
    "spec2_file2.data[pixloc2[2][0],pixloc2[2][1]] = outliervalue\n",
    "spec2_file2.data[pixloc2[3][0],pixloc2[3][1]] = outliervalue\n",
    "print(spec2_file2.data[pixloc2[3][0],pixloc2[3][1]])\n",
    "print(spec2_file2.data[382, 334])\n",
    "spec2_file2.save('./spec2_file2_outlier.fits')"
   ]
  },
  {
   "cell_type": "code",
   "execution_count": 42,
   "metadata": {},
   "outputs": [
    {
     "name": "stdout",
     "output_type": "stream",
     "text": [
      "['spec2_file2_outlier.fits', 'spec2_file1_outlier.fits']\n"
     ]
    }
   ],
   "source": [
    "asn3_files = glob.glob('*_outlier.fits')\n",
    "print(asn3_files)\n",
    "asn3 = asn_from_list(asn3_files, rule=DMS_Level3_Base,product_name='combine_dithers_exposures')\n",
    "with open('lrs-slit-spec3.json', 'w') as fp:\n",
    "    fp.write(asn3.dump()[1])"
   ]
  },
  {
   "cell_type": "code",
   "execution_count": 43,
   "metadata": {},
   "outputs": [
    {
     "name": "stderr",
     "output_type": "stream",
     "text": [
      "2021-07-27 16:21:53,260 - stpipe.Spec3Pipeline - INFO - Spec3Pipeline instance created.\n",
      "2021-07-27 16:21:53,261 - stpipe.Spec3Pipeline.assign_mtwcs - INFO - AssignMTWcsStep instance created.\n",
      "2021-07-27 16:21:53,264 - stpipe.Spec3Pipeline.master_background - INFO - MasterBackgroundStep instance created.\n",
      "2021-07-27 16:21:53,266 - stpipe.Spec3Pipeline.mrs_imatch - INFO - MRSIMatchStep instance created.\n",
      "2021-07-27 16:21:53,268 - stpipe.Spec3Pipeline.outlier_detection - INFO - OutlierDetectionStep instance created.\n",
      "2021-07-27 16:21:53,270 - stpipe.Spec3Pipeline.resample_spec - INFO - ResampleSpecStep instance created.\n",
      "2021-07-27 16:21:53,272 - stpipe.Spec3Pipeline.cube_build - INFO - CubeBuildStep instance created.\n",
      "2021-07-27 16:21:53,274 - stpipe.Spec3Pipeline.extract_1d - INFO - Extract1dStep instance created.\n",
      "2021-07-27 16:21:53,276 - stpipe.Spec3Pipeline.combine_1d - INFO - Combine1dStep instance created.\n",
      "2021-07-27 16:21:53,372 - stpipe.Spec3Pipeline - INFO - Step Spec3Pipeline running with args ('lrs-slit-spec3.json',).\n",
      "2021-07-27 16:21:53,382 - stpipe.Spec3Pipeline - INFO - Step Spec3Pipeline parameters are: {'pre_hooks': [], 'post_hooks': [], 'output_file': None, 'output_dir': None, 'output_ext': '.fits', 'output_use_model': False, 'output_use_index': True, 'save_results': True, 'skip': False, 'suffix': None, 'search_output_file': True, 'input_dir': '', 'steps': {'assign_mtwcs': {'pre_hooks': [], 'post_hooks': [], 'output_file': None, 'output_dir': None, 'output_ext': '.fits', 'output_use_model': True, 'output_use_index': True, 'save_results': False, 'skip': False, 'suffix': 'assign_mtwcs', 'search_output_file': True, 'input_dir': ''}, 'master_background': {'pre_hooks': [], 'post_hooks': [], 'output_file': None, 'output_dir': None, 'output_ext': '.fits', 'output_use_model': True, 'output_use_index': True, 'save_results': False, 'skip': False, 'suffix': None, 'search_output_file': True, 'input_dir': '', 'user_background': None, 'save_background': False, 'force_subtract': False}, 'mrs_imatch': {'pre_hooks': [], 'post_hooks': [], 'output_file': None, 'output_dir': None, 'output_ext': '.fits', 'output_use_model': False, 'output_use_index': True, 'save_results': False, 'skip': False, 'suffix': None, 'search_output_file': True, 'input_dir': '', 'bkg_degree': 1, 'subtract': False}, 'outlier_detection': {'pre_hooks': [], 'post_hooks': [], 'output_file': None, 'output_dir': None, 'output_ext': '.fits', 'output_use_model': False, 'output_use_index': True, 'save_results': False, 'skip': False, 'suffix': None, 'search_output_file': False, 'input_dir': '', 'weight_type': 'ivm', 'pixfrac': 1.0, 'kernel': 'square', 'fillval': 'INDEF', 'nlow': 0, 'nhigh': 0, 'maskpt': 0.7, 'grow': 1, 'snr': '5.0 4.0', 'scale': '1.2 0.7', 'backg': 0.0, 'save_intermediate_results': False, 'resample_data': True, 'good_bits': '~DO_NOT_USE', 'scale_detection': False, 'allowed_memory': None}, 'resample_spec': {'pre_hooks': [], 'post_hooks': [], 'output_file': None, 'output_dir': None, 'output_ext': '.fits', 'output_use_model': False, 'output_use_index': True, 'save_results': False, 'skip': False, 'suffix': None, 'search_output_file': True, 'input_dir': '', 'pixfrac': 1.0, 'kernel': 'square', 'fillval': 'INDEF', 'weight_type': 'ivm', 'pixel_scale_ratio': 1.0, 'single': False, 'blendheaders': True, 'allowed_memory': None}, 'cube_build': {'pre_hooks': [], 'post_hooks': [], 'output_file': None, 'output_dir': None, 'output_ext': '.fits', 'output_use_model': True, 'output_use_index': True, 'save_results': False, 'skip': False, 'suffix': None, 'search_output_file': False, 'input_dir': '', 'channel': 'all', 'band': 'all', 'grating': 'all', 'filter': 'all', 'output_type': 'band', 'scale1': 0.0, 'scale2': 0.0, 'scalew': 0.0, 'weighting': 'emsm', 'coord_system': 'skyalign', 'rois': 0.0, 'roiw': 0.0, 'weight_power': 2.0, 'wavemin': None, 'wavemax': None, 'single': False, 'xdebug': None, 'ydebug': None, 'zdebug': None, 'skip_dqflagging': False}, 'extract_1d': {'pre_hooks': [], 'post_hooks': [], 'output_file': None, 'output_dir': None, 'output_ext': '.fits', 'output_use_model': False, 'output_use_index': True, 'save_results': False, 'skip': False, 'suffix': None, 'search_output_file': True, 'input_dir': '', 'smoothing_length': None, 'bkg_fit': 'poly', 'bkg_order': None, 'bkg_sigma_clip': 3.0, 'log_increment': 50, 'subtract_background': None, 'use_source_posn': None, 'apply_apcorr': True}, 'combine_1d': {'pre_hooks': [], 'post_hooks': [], 'output_file': None, 'output_dir': None, 'output_ext': '.fits', 'output_use_model': False, 'output_use_index': True, 'save_results': False, 'skip': False, 'suffix': None, 'search_output_file': True, 'input_dir': '', 'exptime_key': 'exposure_time'}}}\n",
      "2021-07-27 16:21:53,516 - stpipe.Spec3Pipeline - INFO - Prefetching reference files for dataset: 'spec2_file2_outlier.fits' reftypes = ['apcorr', 'cubepar', 'drizpars', 'extract1d', 'resol']\n",
      "2021-07-27 16:21:53,695 - stpipe.Spec3Pipeline - INFO - Prefetch for APCORR reference file is '/grp/crds/cache/references/jwst/jwst_miri_apcorr_0007.fits'.\n",
      "2021-07-27 16:21:53,727 - stpipe.Spec3Pipeline - INFO - Prefetch for CUBEPAR reference file is 'N/A'.\n",
      "2021-07-27 16:21:53,728 - stpipe.Spec3Pipeline - INFO - Prefetch for DRIZPARS reference file is '/grp/crds/cache/references/jwst/jwst_miri_drizpars_0001.fits'.\n",
      "2021-07-27 16:21:53,759 - stpipe.Spec3Pipeline - INFO - Prefetch for EXTRACT1D reference file is '/grp/crds/cache/references/jwst/jwst_miri_extract1d_0004.json'.\n",
      "2021-07-27 16:21:53,795 - stpipe.Spec3Pipeline - INFO - Prefetch for RESOL reference file is 'N/A'.\n",
      "2021-07-27 16:21:53,797 - stpipe.Spec3Pipeline - INFO - Starting calwebb_spec3 ...\n",
      "2021-07-27 16:21:54,138 - stpipe.Spec3Pipeline.outlier_detection - INFO - Step outlier_detection running with args (<ModelContainer>,).\n",
      "2021-07-27 16:21:54,140 - stpipe.Spec3Pipeline.outlier_detection - INFO - Step outlier_detection parameters are: {'pre_hooks': [], 'post_hooks': [], 'output_file': None, 'output_dir': None, 'output_ext': '.fits', 'output_use_model': False, 'output_use_index': True, 'save_results': True, 'skip': False, 'suffix': 'crf', 'search_output_file': False, 'input_dir': '', 'weight_type': 'ivm', 'pixfrac': 1.0, 'kernel': 'square', 'fillval': 'INDEF', 'nlow': 0, 'nhigh': 0, 'maskpt': 0.7, 'grow': 1, 'snr': '5.0 4.0', 'scale': '1.2 0.7', 'backg': 0.0, 'save_intermediate_results': False, 'resample_data': True, 'good_bits': '~DO_NOT_USE', 'scale_detection': False, 'allowed_memory': None}\n",
      "2021-07-27 16:21:54,145 - stpipe.Spec3Pipeline.outlier_detection - INFO - Performing outlier detection on 2 inputs\n",
      "2021-07-27 16:21:54,911 - stpipe.Spec3Pipeline.outlier_detection - INFO - Drizzling (1024, 1032) --> (387, 62)\n",
      "2021-07-27 16:21:55,490 - stpipe.Spec3Pipeline.outlier_detection - INFO - Drizzling (1024, 1032) --> (387, 62)\n",
      "2021-07-27 16:21:55,523 - stpipe.Spec3Pipeline.outlier_detection - INFO - Generating median from 2 images\n",
      "2021-07-27 16:21:55,548 - stpipe.Spec3Pipeline.outlier_detection - INFO - Blotting median...\n",
      "2021-07-27 16:21:56,131 - stpipe.Spec3Pipeline.outlier_detection - INFO - Blotting (1024, 1032) <-- (387, 62)\n",
      "2021-07-27 16:21:56,760 - stpipe.Spec3Pipeline.outlier_detection - INFO - Blotting (1024, 1032) <-- (387, 62)\n",
      "2021-07-27 16:21:57,417 - stpipe.Spec3Pipeline.outlier_detection - INFO - Saved model in spec2_file2_outlier_a3001_crf.fits\n",
      "2021-07-27 16:21:57,707 - stpipe.Spec3Pipeline.outlier_detection - INFO - Saved model in spec2_file1_outlier_a3001_crf.fits\n",
      "2021-07-27 16:21:57,708 - stpipe.Spec3Pipeline.outlier_detection - INFO - Step outlier_detection done\n",
      "2021-07-27 16:21:57,826 - stpipe.Spec3Pipeline.resample_spec - INFO - Step resample_spec running with args (<ModelContainer>,).\n",
      "2021-07-27 16:21:57,828 - stpipe.Spec3Pipeline.resample_spec - INFO - Step resample_spec parameters are: {'pre_hooks': [], 'post_hooks': [], 'output_file': None, 'output_dir': None, 'output_ext': '.fits', 'output_use_model': False, 'output_use_index': True, 'save_results': True, 'skip': False, 'suffix': 's2d', 'search_output_file': True, 'input_dir': '', 'pixfrac': 1.0, 'kernel': 'square', 'fillval': 'INDEF', 'weight_type': 'ivm', 'pixel_scale_ratio': 1.0, 'single': False, 'blendheaders': True, 'allowed_memory': None}\n"
     ]
    },
    {
     "name": "stderr",
     "output_type": "stream",
     "text": [
      "2021-07-27 16:21:57,859 - stpipe.Spec3Pipeline.resample_spec - INFO - Drizpars reference file: /grp/crds/cache/references/jwst/jwst_miri_drizpars_0001.fits\n",
      "2021-07-27 16:21:58,150 - stpipe.Spec3Pipeline.resample_spec - INFO - Blending metadata for combine_dithers_exposures\n",
      "2021-07-27 16:21:58,662 - stpipe.Spec3Pipeline.resample_spec - INFO - Resampling science data\n",
      "2021-07-27 16:21:59,149 - stpipe.Spec3Pipeline.resample_spec - INFO - Drizzling (1024, 1032) --> (387, 62)\n",
      "2021-07-27 16:21:59,663 - stpipe.Spec3Pipeline.resample_spec - INFO - Drizzling (1024, 1032) --> (387, 62)\n",
      "2021-07-27 16:21:59,674 - stpipe.Spec3Pipeline.resample_spec - INFO - Resampling var_rnoise\n",
      "2021-07-27 16:22:00,184 - stpipe.Spec3Pipeline.resample_spec - INFO - Drizzling (1024, 1032) --> (387, 62)\n",
      "2021-07-27 16:22:00,710 - stpipe.Spec3Pipeline.resample_spec - INFO - Drizzling (1024, 1032) --> (387, 62)\n",
      "2021-07-27 16:22:00,721 - stpipe.Spec3Pipeline.resample_spec - INFO - Resampling var_poisson\n",
      "2021-07-27 16:22:01,240 - stpipe.Spec3Pipeline.resample_spec - INFO - Drizzling (1024, 1032) --> (387, 62)\n",
      "2021-07-27 16:22:01,796 - stpipe.Spec3Pipeline.resample_spec - INFO - Drizzling (1024, 1032) --> (387, 62)\n",
      "2021-07-27 16:22:01,807 - stpipe.Spec3Pipeline.resample_spec - INFO - Resampling var_flat\n",
      "2021-07-27 16:22:02,326 - stpipe.Spec3Pipeline.resample_spec - INFO - Drizzling (1024, 1032) --> (387, 62)\n",
      "2021-07-27 16:22:02,857 - stpipe.Spec3Pipeline.resample_spec - INFO - Drizzling (1024, 1032) --> (387, 62)\n",
      "2021-07-27 16:22:02,882 - stpipe.Spec3Pipeline.resample_spec - INFO - Update S_REGION to POLYGON ICRS  359.998798250 -0.000055433 0.000666422 -0.000055433 0.000666422 0.000099853 359.998798250 0.000099853\n",
      "2021-07-27 16:22:03,349 - stpipe.Spec3Pipeline.resample_spec - INFO - Saved model in combine_dithers_exposures_s2d.fits\n",
      "2021-07-27 16:22:03,350 - stpipe.Spec3Pipeline.resample_spec - INFO - Step resample_spec done\n",
      "2021-07-27 16:22:03,437 - stpipe.Spec3Pipeline.extract_1d - INFO - Step extract_1d running with args (<SlitModel(387, 62) from combine_dithers_exposures_s2d.fits>,).\n",
      "2021-07-27 16:22:03,439 - stpipe.Spec3Pipeline.extract_1d - INFO - Step extract_1d parameters are: {'pre_hooks': [], 'post_hooks': [], 'output_file': None, 'output_dir': None, 'output_ext': '.fits', 'output_use_model': False, 'output_use_index': True, 'save_results': True, 'skip': False, 'suffix': 'x1d', 'search_output_file': True, 'input_dir': '', 'smoothing_length': None, 'bkg_fit': 'poly', 'bkg_order': None, 'bkg_sigma_clip': 3.0, 'log_increment': 50, 'subtract_background': None, 'use_source_posn': None, 'apply_apcorr': True}\n",
      "2021-07-27 16:22:03,543 - stpipe.Spec3Pipeline.extract_1d - INFO - Using EXTRACT1D reference file /grp/crds/cache/references/jwst/jwst_miri_extract1d_0004.json\n",
      "2021-07-27 16:22:03,599 - stpipe.Spec3Pipeline.extract_1d - INFO - Using APCORR file /grp/crds/cache/references/jwst/jwst_miri_apcorr_0007.fits\n",
      "2021-07-27 16:22:03,701 - stpipe.Spec3Pipeline.extract_1d - INFO - Turning on source position correction for exp_type = MIR_LRS-FIXEDSLIT\n",
      "2021-07-27 16:22:03,702 - stpipe.Spec3Pipeline.extract_1d - WARNING - spectral_order is None; using 1\n",
      "2021-07-27 16:22:03,703 - stpipe.Spec3Pipeline.extract_1d - INFO - Processing spectral order 1\n",
      "2021-07-27 16:22:03,714 - stpipe.Spec3Pipeline.extract_1d - INFO - Applying position offset of -8.74 to xstart and xstop\n",
      "2021-07-27 16:22:03,715 - stpipe.Spec3Pipeline.extract_1d - INFO - Using extraction limits: \n",
      "2021-07-27 16:22:03,716 - stpipe.Spec3Pipeline.extract_1d - INFO - xstart=16.76016723851536, xstop=26.76016723851536, ystart=0, ystop=386\n",
      "2021-07-27 16:22:03,818 - stpipe.Spec3Pipeline.extract_1d - INFO - Applying Aperture correction.\n",
      "2021-07-27 16:22:04,206 - stpipe.Spec3Pipeline.extract_1d - INFO - Saved model in combine_dithers_exposures_x1d.fits\n",
      "2021-07-27 16:22:04,207 - stpipe.Spec3Pipeline.extract_1d - INFO - Step extract_1d done\n",
      "2021-07-27 16:22:04,208 - stpipe.Spec3Pipeline - INFO - Ending calwebb_spec3\n",
      "2021-07-27 16:22:04,209 - stpipe.Spec3Pipeline - INFO - Step Spec3Pipeline done\n"
     ]
    }
   ],
   "source": [
    "Spec3Pipeline.call('lrs-slit-spec3.json', save_results=True)"
   ]
  },
  {
   "cell_type": "code",
   "execution_count": 44,
   "metadata": {},
   "outputs": [],
   "source": [
    "outlier_detect_file = datamodels.open('combine_dithers_exposures_s2d.fits')"
   ]
  },
  {
   "cell_type": "code",
   "execution_count": 51,
   "metadata": {},
   "outputs": [
    {
     "name": "stderr",
     "output_type": "stream",
     "text": [
      "2021-07-27 16:24:13,044 - stpipe - WARNING - /var/folders/dz/41vqfd050yq8b664hsvm9hjr0001tk/T/ipykernel_45877/259286325.py:1: RuntimeWarning: divide by zero encountered in log\n",
      "  plt.imshow(np.log(outlier_detect_file.data))\n",
      "\n",
      "2021-07-27 16:24:13,045 - stpipe - WARNING - /var/folders/dz/41vqfd050yq8b664hsvm9hjr0001tk/T/ipykernel_45877/259286325.py:1: RuntimeWarning: invalid value encountered in log\n",
      "  plt.imshow(np.log(outlier_detect_file.data))\n",
      "\n"
     ]
    },
    {
     "name": "stdout",
     "output_type": "stream",
     "text": [
      "189212.33\n"
     ]
    },
    {
     "data": {
      "text/plain": [
       "(387, 62)"
      ]
     },
     "execution_count": 51,
     "metadata": {},
     "output_type": "execute_result"
    },
    {
     "data": {
      "image/png": "[encoded data removed]",
      "text/plain": [
       "<Figure size 432x288 with 2 Axes>"
      ]
     },
     "metadata": {
      "needs_background": "light"
     },
     "output_type": "display_data"
    }
   ],
   "source": [
    "plt.imshow(np.log(outlier_detect_file.data))\n",
    "plt.colorbar()\n",
    "print(np.max(outlier_detect_file.data))\n",
    "np.shape(outlier_detect_file.data)"
   ]
  },
  {
   "cell_type": "code",
   "execution_count": 58,
   "metadata": {},
   "outputs": [
    {
     "data": {
      "text/plain": [
       "0.0"
      ]
     },
     "execution_count": 58,
     "metadata": {},
     "output_type": "execute_result"
    },
    {
     "data": {
      "image/png": "[encoded data removed]",
      "text/plain": [
       "<Figure size 432x288 with 1 Axes>"
      ]
     },
     "metadata": {
      "needs_background": "light"
     },
     "output_type": "display_data"
    }
   ],
   "source": [
    "plt.imshow(outlier_detect_file.dq)\n",
    "np.mean(outlier_detect_file.dq)"
   ]
  },
  {
   "cell_type": "code",
   "execution_count": 47,
   "metadata": {},
   "outputs": [
    {
     "name": "stdout",
     "output_type": "stream",
     "text": [
      "['miri_lrs_slit_pt_nod2_v2_cal.fits', 'miri_lrs_slit_pt_nod1_v2_cal.fits']\n"
     ]
    }
   ],
   "source": [
    "cal_files = glob.glob('*_cal.fits')\n",
    "print(cal_files)\n",
    "asn = asn_from_list(cal_files, rule=DMS_Level3_Base,product_name='combine_dithers_exposures')\n",
    "with open('check-spec3.json', 'w') as fp:\n",
    "    fp.write(asn.dump()[1])"
   ]
  },
  {
   "cell_type": "code",
   "execution_count": 48,
   "metadata": {},
   "outputs": [
    {
     "name": "stderr",
     "output_type": "stream",
     "text": [
      "2021-07-27 16:22:05,780 - stpipe.Spec3Pipeline - INFO - Spec3Pipeline instance created.\n",
      "2021-07-27 16:22:05,782 - stpipe.Spec3Pipeline.assign_mtwcs - INFO - AssignMTWcsStep instance created.\n",
      "2021-07-27 16:22:05,784 - stpipe.Spec3Pipeline.master_background - INFO - MasterBackgroundStep instance created.\n",
      "2021-07-27 16:22:05,786 - stpipe.Spec3Pipeline.mrs_imatch - INFO - MRSIMatchStep instance created.\n",
      "2021-07-27 16:22:05,788 - stpipe.Spec3Pipeline.outlier_detection - INFO - OutlierDetectionStep instance created.\n",
      "2021-07-27 16:22:05,790 - stpipe.Spec3Pipeline.resample_spec - INFO - ResampleSpecStep instance created.\n",
      "2021-07-27 16:22:05,792 - stpipe.Spec3Pipeline.cube_build - INFO - CubeBuildStep instance created.\n",
      "2021-07-27 16:22:05,794 - stpipe.Spec3Pipeline.extract_1d - INFO - Extract1dStep instance created.\n",
      "2021-07-27 16:22:05,796 - stpipe.Spec3Pipeline.combine_1d - INFO - Combine1dStep instance created.\n",
      "2021-07-27 16:22:05,869 - stpipe.Spec3Pipeline - INFO - Step Spec3Pipeline running with args ('check-spec3.json',).\n",
      "2021-07-27 16:22:05,879 - stpipe.Spec3Pipeline - INFO - Step Spec3Pipeline parameters are: {'pre_hooks': [], 'post_hooks': [], 'output_file': None, 'output_dir': None, 'output_ext': '.fits', 'output_use_model': False, 'output_use_index': True, 'save_results': True, 'skip': False, 'suffix': None, 'search_output_file': True, 'input_dir': '', 'steps': {'assign_mtwcs': {'pre_hooks': [], 'post_hooks': [], 'output_file': None, 'output_dir': None, 'output_ext': '.fits', 'output_use_model': True, 'output_use_index': True, 'save_results': False, 'skip': False, 'suffix': 'assign_mtwcs', 'search_output_file': True, 'input_dir': ''}, 'master_background': {'pre_hooks': [], 'post_hooks': [], 'output_file': None, 'output_dir': None, 'output_ext': '.fits', 'output_use_model': True, 'output_use_index': True, 'save_results': False, 'skip': False, 'suffix': None, 'search_output_file': True, 'input_dir': '', 'user_background': None, 'save_background': False, 'force_subtract': False}, 'mrs_imatch': {'pre_hooks': [], 'post_hooks': [], 'output_file': None, 'output_dir': None, 'output_ext': '.fits', 'output_use_model': False, 'output_use_index': True, 'save_results': False, 'skip': False, 'suffix': None, 'search_output_file': True, 'input_dir': '', 'bkg_degree': 1, 'subtract': False}, 'outlier_detection': {'pre_hooks': [], 'post_hooks': [], 'output_file': None, 'output_dir': None, 'output_ext': '.fits', 'output_use_model': False, 'output_use_index': True, 'save_results': False, 'skip': False, 'suffix': None, 'search_output_file': False, 'input_dir': '', 'weight_type': 'ivm', 'pixfrac': 1.0, 'kernel': 'square', 'fillval': 'INDEF', 'nlow': 0, 'nhigh': 0, 'maskpt': 0.7, 'grow': 1, 'snr': '5.0 4.0', 'scale': '1.2 0.7', 'backg': 0.0, 'save_intermediate_results': False, 'resample_data': True, 'good_bits': '~DO_NOT_USE', 'scale_detection': False, 'allowed_memory': None}, 'resample_spec': {'pre_hooks': [], 'post_hooks': [], 'output_file': None, 'output_dir': None, 'output_ext': '.fits', 'output_use_model': False, 'output_use_index': True, 'save_results': False, 'skip': False, 'suffix': None, 'search_output_file': True, 'input_dir': '', 'pixfrac': 1.0, 'kernel': 'square', 'fillval': 'INDEF', 'weight_type': 'ivm', 'pixel_scale_ratio': 1.0, 'single': False, 'blendheaders': True, 'allowed_memory': None}, 'cube_build': {'pre_hooks': [], 'post_hooks': [], 'output_file': None, 'output_dir': None, 'output_ext': '.fits', 'output_use_model': True, 'output_use_index': True, 'save_results': False, 'skip': False, 'suffix': None, 'search_output_file': False, 'input_dir': '', 'channel': 'all', 'band': 'all', 'grating': 'all', 'filter': 'all', 'output_type': 'band', 'scale1': 0.0, 'scale2': 0.0, 'scalew': 0.0, 'weighting': 'emsm', 'coord_system': 'skyalign', 'rois': 0.0, 'roiw': 0.0, 'weight_power': 2.0, 'wavemin': None, 'wavemax': None, 'single': False, 'xdebug': None, 'ydebug': None, 'zdebug': None, 'skip_dqflagging': False}, 'extract_1d': {'pre_hooks': [], 'post_hooks': [], 'output_file': None, 'output_dir': None, 'output_ext': '.fits', 'output_use_model': False, 'output_use_index': True, 'save_results': False, 'skip': False, 'suffix': None, 'search_output_file': True, 'input_dir': '', 'smoothing_length': None, 'bkg_fit': 'poly', 'bkg_order': None, 'bkg_sigma_clip': 3.0, 'log_increment': 50, 'subtract_background': None, 'use_source_posn': None, 'apply_apcorr': True}, 'combine_1d': {'pre_hooks': [], 'post_hooks': [], 'output_file': None, 'output_dir': None, 'output_ext': '.fits', 'output_use_model': False, 'output_use_index': True, 'save_results': False, 'skip': False, 'suffix': None, 'search_output_file': True, 'input_dir': '', 'exptime_key': 'exposure_time'}}}\n",
      "2021-07-27 16:22:06,007 - stpipe.Spec3Pipeline - INFO - Prefetching reference files for dataset: 'miri_lrs_slit_pt_nod2_v2_cal.fits' reftypes = ['apcorr', 'cubepar', 'drizpars', 'extract1d', 'resol']\n",
      "2021-07-27 16:22:06,010 - stpipe.Spec3Pipeline - INFO - Prefetch for APCORR reference file is '/grp/crds/cache/references/jwst/jwst_miri_apcorr_0007.fits'.\n",
      "2021-07-27 16:22:06,027 - stpipe.Spec3Pipeline - INFO - Prefetch for CUBEPAR reference file is 'N/A'.\n",
      "2021-07-27 16:22:06,028 - stpipe.Spec3Pipeline - INFO - Prefetch for DRIZPARS reference file is '/grp/crds/cache/references/jwst/jwst_miri_drizpars_0001.fits'.\n",
      "2021-07-27 16:22:06,041 - stpipe.Spec3Pipeline - INFO - Prefetch for EXTRACT1D reference file is '/grp/crds/cache/references/jwst/jwst_miri_extract1d_0004.json'.\n",
      "2021-07-27 16:22:06,058 - stpipe.Spec3Pipeline - INFO - Prefetch for RESOL reference file is 'N/A'.\n",
      "2021-07-27 16:22:06,059 - stpipe.Spec3Pipeline - INFO - Starting calwebb_spec3 ...\n",
      "2021-07-27 16:22:06,333 - stpipe.Spec3Pipeline.outlier_detection - INFO - Step outlier_detection running with args (<ModelContainer>,).\n",
      "2021-07-27 16:22:06,336 - stpipe.Spec3Pipeline.outlier_detection - INFO - Step outlier_detection parameters are: {'pre_hooks': [], 'post_hooks': [], 'output_file': None, 'output_dir': None, 'output_ext': '.fits', 'output_use_model': False, 'output_use_index': True, 'save_results': True, 'skip': False, 'suffix': 'crf', 'search_output_file': False, 'input_dir': '', 'weight_type': 'ivm', 'pixfrac': 1.0, 'kernel': 'square', 'fillval': 'INDEF', 'nlow': 0, 'nhigh': 0, 'maskpt': 0.7, 'grow': 1, 'snr': '5.0 4.0', 'scale': '1.2 0.7', 'backg': 0.0, 'save_intermediate_results': False, 'resample_data': True, 'good_bits': '~DO_NOT_USE', 'scale_detection': False, 'allowed_memory': None}\n",
      "2021-07-27 16:22:06,340 - stpipe.Spec3Pipeline.outlier_detection - INFO - Performing outlier detection on 2 inputs\n",
      "2021-07-27 16:22:07,088 - stpipe.Spec3Pipeline.outlier_detection - INFO - Drizzling (1024, 1032) --> (387, 62)\n",
      "2021-07-27 16:22:07,619 - stpipe.Spec3Pipeline.outlier_detection - INFO - Drizzling (1024, 1032) --> (387, 62)\n",
      "2021-07-27 16:22:07,657 - stpipe.Spec3Pipeline.outlier_detection - INFO - Generating median from 2 images\n",
      "2021-07-27 16:22:07,680 - stpipe.Spec3Pipeline.outlier_detection - INFO - Blotting median...\n",
      "2021-07-27 16:22:08,262 - stpipe.Spec3Pipeline.outlier_detection - INFO - Blotting (1024, 1032) <-- (387, 62)\n",
      "2021-07-27 16:22:08,862 - stpipe.Spec3Pipeline.outlier_detection - INFO - Blotting (1024, 1032) <-- (387, 62)\n",
      "2021-07-27 16:22:09,469 - stpipe.Spec3Pipeline.outlier_detection - INFO - Saved model in miri_lrs_slit_pt_nod2_v2_a3001_crf.fits\n",
      "2021-07-27 16:22:09,772 - stpipe.Spec3Pipeline.outlier_detection - INFO - Saved model in miri_lrs_slit_pt_nod1_v2_a3001_crf.fits\n",
      "2021-07-27 16:22:09,773 - stpipe.Spec3Pipeline.outlier_detection - INFO - Step outlier_detection done\n",
      "2021-07-27 16:22:09,909 - stpipe.Spec3Pipeline.resample_spec - INFO - Step resample_spec running with args (<ModelContainer>,).\n",
      "2021-07-27 16:22:09,912 - stpipe.Spec3Pipeline.resample_spec - INFO - Step resample_spec parameters are: {'pre_hooks': [], 'post_hooks': [], 'output_file': None, 'output_dir': None, 'output_ext': '.fits', 'output_use_model': False, 'output_use_index': True, 'save_results': True, 'skip': False, 'suffix': 's2d', 'search_output_file': True, 'input_dir': '', 'pixfrac': 1.0, 'kernel': 'square', 'fillval': 'INDEF', 'weight_type': 'ivm', 'pixel_scale_ratio': 1.0, 'single': False, 'blendheaders': True, 'allowed_memory': None}\n"
     ]
    },
    {
     "name": "stderr",
     "output_type": "stream",
     "text": [
      "2021-07-27 16:22:09,943 - stpipe.Spec3Pipeline.resample_spec - INFO - Drizpars reference file: /grp/crds/cache/references/jwst/jwst_miri_drizpars_0001.fits\n",
      "2021-07-27 16:22:10,253 - stpipe.Spec3Pipeline.resample_spec - INFO - Blending metadata for combine_dithers_exposures\n",
      "2021-07-27 16:22:10,828 - stpipe.Spec3Pipeline.resample_spec - INFO - Resampling science data\n",
      "2021-07-27 16:22:11,327 - stpipe.Spec3Pipeline.resample_spec - INFO - Drizzling (1024, 1032) --> (387, 62)\n",
      "2021-07-27 16:22:11,832 - stpipe.Spec3Pipeline.resample_spec - INFO - Drizzling (1024, 1032) --> (387, 62)\n",
      "2021-07-27 16:22:11,841 - stpipe.Spec3Pipeline.resample_spec - INFO - Resampling var_rnoise\n",
      "2021-07-27 16:22:12,337 - stpipe.Spec3Pipeline.resample_spec - INFO - Drizzling (1024, 1032) --> (387, 62)\n",
      "2021-07-27 16:22:12,848 - stpipe.Spec3Pipeline.resample_spec - INFO - Drizzling (1024, 1032) --> (387, 62)\n",
      "2021-07-27 16:22:12,859 - stpipe.Spec3Pipeline.resample_spec - INFO - Resampling var_poisson\n",
      "2021-07-27 16:22:13,350 - stpipe.Spec3Pipeline.resample_spec - INFO - Drizzling (1024, 1032) --> (387, 62)\n",
      "2021-07-27 16:22:13,851 - stpipe.Spec3Pipeline.resample_spec - INFO - Drizzling (1024, 1032) --> (387, 62)\n",
      "2021-07-27 16:22:13,865 - stpipe.Spec3Pipeline.resample_spec - INFO - Resampling var_flat\n",
      "2021-07-27 16:22:14,363 - stpipe.Spec3Pipeline.resample_spec - INFO - Drizzling (1024, 1032) --> (387, 62)\n",
      "2021-07-27 16:22:14,865 - stpipe.Spec3Pipeline.resample_spec - INFO - Drizzling (1024, 1032) --> (387, 62)\n",
      "2021-07-27 16:22:14,892 - stpipe.Spec3Pipeline.resample_spec - INFO - Update S_REGION to POLYGON ICRS  359.998798250 -0.000055433 0.000666422 -0.000055433 0.000666422 0.000099853 359.998798250 0.000099853\n",
      "2021-07-27 16:22:15,272 - stpipe.Spec3Pipeline.resample_spec - INFO - Saved model in combine_dithers_exposures_s2d.fits\n",
      "2021-07-27 16:22:15,273 - stpipe.Spec3Pipeline.resample_spec - INFO - Step resample_spec done\n",
      "2021-07-27 16:22:15,360 - stpipe.Spec3Pipeline.extract_1d - INFO - Step extract_1d running with args (<SlitModel(387, 62) from combine_dithers_exposures_s2d.fits>,).\n",
      "2021-07-27 16:22:15,362 - stpipe.Spec3Pipeline.extract_1d - INFO - Step extract_1d parameters are: {'pre_hooks': [], 'post_hooks': [], 'output_file': None, 'output_dir': None, 'output_ext': '.fits', 'output_use_model': False, 'output_use_index': True, 'save_results': True, 'skip': False, 'suffix': 'x1d', 'search_output_file': True, 'input_dir': '', 'smoothing_length': None, 'bkg_fit': 'poly', 'bkg_order': None, 'bkg_sigma_clip': 3.0, 'log_increment': 50, 'subtract_background': None, 'use_source_posn': None, 'apply_apcorr': True}\n",
      "2021-07-27 16:22:15,471 - stpipe.Spec3Pipeline.extract_1d - INFO - Using EXTRACT1D reference file /grp/crds/cache/references/jwst/jwst_miri_extract1d_0004.json\n",
      "2021-07-27 16:22:15,551 - stpipe.Spec3Pipeline.extract_1d - INFO - Using APCORR file /grp/crds/cache/references/jwst/jwst_miri_apcorr_0007.fits\n",
      "2021-07-27 16:22:15,644 - stpipe.Spec3Pipeline.extract_1d - INFO - Turning on source position correction for exp_type = MIR_LRS-FIXEDSLIT\n",
      "2021-07-27 16:22:15,645 - stpipe.Spec3Pipeline.extract_1d - WARNING - spectral_order is None; using 1\n",
      "2021-07-27 16:22:15,646 - stpipe.Spec3Pipeline.extract_1d - INFO - Processing spectral order 1\n",
      "2021-07-27 16:22:15,659 - stpipe.Spec3Pipeline.extract_1d - INFO - Applying position offset of -8.74 to xstart and xstop\n",
      "2021-07-27 16:22:15,660 - stpipe.Spec3Pipeline.extract_1d - INFO - Using extraction limits: \n",
      "2021-07-27 16:22:15,661 - stpipe.Spec3Pipeline.extract_1d - INFO - xstart=16.760167236796484, xstop=26.760167236796484, ystart=0, ystop=386\n",
      "2021-07-27 16:22:15,777 - stpipe.Spec3Pipeline.extract_1d - INFO - Applying Aperture correction.\n",
      "2021-07-27 16:22:16,131 - stpipe.Spec3Pipeline.extract_1d - INFO - Saved model in combine_dithers_exposures_x1d.fits\n",
      "2021-07-27 16:22:16,132 - stpipe.Spec3Pipeline.extract_1d - INFO - Step extract_1d done\n",
      "2021-07-27 16:22:16,133 - stpipe.Spec3Pipeline - INFO - Ending calwebb_spec3\n",
      "2021-07-27 16:22:16,133 - stpipe.Spec3Pipeline - INFO - Step Spec3Pipeline done\n"
     ]
    }
   ],
   "source": [
    "Spec3Pipeline.call('check-spec3.json', save_results=True)"
   ]
  },
  {
   "cell_type": "code",
   "execution_count": 49,
   "metadata": {},
   "outputs": [],
   "source": [
    "checking_file = datamodels.open('combine_dithers_exposures_s2d.fits')"
   ]
  },
  {
   "cell_type": "code",
   "execution_count": 50,
   "metadata": {},
   "outputs": [
    {
     "data": {
      "text/plain": [
       "19106.537"
      ]
     },
     "execution_count": 50,
     "metadata": {},
     "output_type": "execute_result"
    },
    {
     "data": {
      "image/png": "[encoded data removed]",
      "text/plain": [
       "<Figure size 432x288 with 1 Axes>"
      ]
     },
     "metadata": {
      "needs_background": "light"
     },
     "output_type": "display_data"
    }
   ],
   "source": [
    "plt.imshow(checking_file.data)\n",
    "np.shape(checking_file.data)\n",
    "np.max(checking_file.data)"
   ]
  },
  {
   "cell_type": "code",
   "execution_count": 60,
   "metadata": {},
   "outputs": [
    {
     "data": {
      "text/plain": [
       "0.0"
      ]
     },
     "execution_count": 60,
     "metadata": {},
     "output_type": "execute_result"
    },
    {
     "data": {
      "image/png": "[encoded data removed]",
      "text/plain": [
       "<Figure size 432x288 with 1 Axes>"
      ]
     },
     "metadata": {
      "needs_background": "light"
     },
     "output_type": "display_data"
    }
   ],
   "source": [
    "plt.imshow(checking_file.dq)\n",
    "np.mean(checking_file.dq)"
   ]
  },
  {
   "cell_type": "code",
   "execution_count": null,
   "metadata": {},
   "outputs": [],
   "source": []
  }
 ],
 "metadata": {
  "kernelspec": {
   "display_name": "jwst7.8_4th",
   "language": "python",
   "name": "jwst7.8_4th"
  },
  "language_info": {
   "codemirror_mode": {
    "name": "ipython",
    "version": 3
   },
   "file_extension": ".py",
   "mimetype": "text/x-python",
   "name": "python",
   "nbconvert_exporter": "python",
   "pygments_lexer": "ipython3",
   "version": "3.8.10"
  }
 },
 "nbformat": 4,
 "nbformat_minor": 4
}
