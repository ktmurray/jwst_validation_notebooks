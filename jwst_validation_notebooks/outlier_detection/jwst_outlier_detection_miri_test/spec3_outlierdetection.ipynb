{
 "cells": [
  {
   "cell_type": "code",
   "execution_count": 1,
   "metadata": {},
   "outputs": [],
   "source": [
    "import pytest\n",
    "import numpy as np\n",
    "import glob\n",
    "import json\n",
    "import jwst\n",
    "from jwst import datamodels\n",
    "from astropy.io import fits, ascii\n",
    "from jwst.associations.asn_from_list import asn_from_list\n",
    "from jwst.associations.lib.rules_level2_base import DMSLevel2bBase\n",
    "from jwst.associations.lib.rules_level3_base import DMS_Level3_Base\n",
    "from jwst.pipeline import Detector1Pipeline, Spec2Pipeline, Spec3Pipeline, collect_pipeline_cfgs\n",
    "from astropy.coordinates import Angle\n",
    "from astropy.table import Table, vstack, unique\n",
    "from astropy.stats import sigma_clip\n",
    "from jwst.pipeline import calwebb_spec3\n",
    "from jwst.associations.asn_from_list import asn_from_list\n",
    "import matplotlib.pyplot as plt\n",
    "import random\n",
    "from jwst.associations.lib.rules_level3_base import DMS_Level3_Base\n",
    "from jwst.outlier_detection import outlier_detection\n",
    "from ci_watson.artifactory_helpers import get_bigdata"
   ]
  },
  {
   "cell_type": "code",
   "execution_count": 2,
   "metadata": {},
   "outputs": [],
   "source": [
    "Slitfile1 = get_bigdata('jwst_validation_notebooks',\n",
    "                                     'validation_data',\n",
    "                                     'calwebb_spec2',\n",
    "                                    'spec2_miri_test',\n",
    "                                    'miri_lrs_slit_pt_nod1_v2.3.fits')\n",
    " \n",
    "Slitfile2 = get_bigdata('jwst_validation_notebooks',\n",
    "                                     'validation_data',\n",
    "                                     'calwebb_spec2',\n",
    "                                    'spec2_miri_test',\n",
    "                                    'miri_lrs_slit_pt_nod2_v2.3.fits')"
   ]
  },
  {
   "cell_type": "code",
   "execution_count": 3,
   "metadata": {},
   "outputs": [
    {
     "name": "stderr",
     "output_type": "stream",
     "text": [
      "2021-07-12 13:41:22,120 - stpipe - INFO - PARS-DETECTOR1PIPELINE parameters found: /grp/crds/cache/references/jwst/jwst_miri_pars-detector1pipeline_0001.asdf\n",
      "2021-07-12 13:41:22,244 - stpipe.Detector1Pipeline - INFO - Detector1Pipeline instance created.\n",
      "2021-07-12 13:41:22,245 - stpipe.Detector1Pipeline.group_scale - INFO - GroupScaleStep instance created.\n",
      "2021-07-12 13:41:22,246 - stpipe.Detector1Pipeline.dq_init - INFO - DQInitStep instance created.\n",
      "2021-07-12 13:41:22,247 - stpipe.Detector1Pipeline.saturation - INFO - SaturationStep instance created.\n",
      "2021-07-12 13:41:22,249 - stpipe.Detector1Pipeline.ipc - INFO - IPCStep instance created.\n",
      "2021-07-12 13:41:22,250 - stpipe.Detector1Pipeline.superbias - INFO - SuperBiasStep instance created.\n",
      "2021-07-12 13:41:22,251 - stpipe.Detector1Pipeline.refpix - INFO - RefPixStep instance created.\n",
      "2021-07-12 13:41:22,252 - stpipe.Detector1Pipeline.rscd - INFO - RscdStep instance created.\n",
      "2021-07-12 13:41:22,254 - stpipe.Detector1Pipeline.firstframe - INFO - FirstFrameStep instance created.\n",
      "2021-07-12 13:41:22,255 - stpipe.Detector1Pipeline.lastframe - INFO - LastFrameStep instance created.\n",
      "2021-07-12 13:41:22,256 - stpipe.Detector1Pipeline.linearity - INFO - LinearityStep instance created.\n",
      "2021-07-12 13:41:22,257 - stpipe.Detector1Pipeline.dark_current - INFO - DarkCurrentStep instance created.\n",
      "2021-07-12 13:41:22,259 - stpipe.Detector1Pipeline.reset - INFO - ResetStep instance created.\n",
      "2021-07-12 13:41:22,260 - stpipe.Detector1Pipeline.persistence - INFO - PersistenceStep instance created.\n",
      "2021-07-12 13:41:22,261 - stpipe.Detector1Pipeline.jump - INFO - JumpStep instance created.\n",
      "2021-07-12 13:41:22,263 - stpipe.Detector1Pipeline.ramp_fit - INFO - RampFitStep instance created.\n",
      "2021-07-12 13:41:22,264 - stpipe.Detector1Pipeline.gain_scale - INFO - GainScaleStep instance created.\n",
      "2021-07-12 13:41:22,326 - stpipe.Detector1Pipeline - INFO - Step Detector1Pipeline running with args ('/Users/kmurray/lrs_nOPS7-OTB-20191216_simulation/miri_lrs_slit_pt_nod1_v2.3.fits',).\n",
      "2021-07-12 13:41:22,339 - stpipe.Detector1Pipeline - INFO - Step Detector1Pipeline parameters are: {'pre_hooks': [], 'post_hooks': [], 'output_file': None, 'output_dir': 'mirisimv2.3sim_correctdither/detector1/', 'output_ext': '.fits', 'output_use_model': False, 'output_use_index': True, 'save_results': False, 'skip': False, 'suffix': None, 'search_output_file': True, 'input_dir': '', 'save_calibrated_ramp': True, 'steps': {'group_scale': {'pre_hooks': [], 'post_hooks': [], 'output_file': None, 'output_dir': None, 'output_ext': '.fits', 'output_use_model': False, 'output_use_index': True, 'save_results': True, 'skip': False, 'suffix': None, 'search_output_file': True, 'input_dir': ''}, 'dq_init': {'pre_hooks': [], 'post_hooks': [], 'output_file': None, 'output_dir': None, 'output_ext': '.fits', 'output_use_model': False, 'output_use_index': True, 'save_results': True, 'skip': False, 'suffix': None, 'search_output_file': True, 'input_dir': ''}, 'saturation': {'pre_hooks': [], 'post_hooks': [], 'output_file': None, 'output_dir': None, 'output_ext': '.fits', 'output_use_model': False, 'output_use_index': True, 'save_results': True, 'skip': False, 'suffix': None, 'search_output_file': True, 'input_dir': ''}, 'ipc': {'pre_hooks': [], 'post_hooks': [], 'output_file': None, 'output_dir': None, 'output_ext': '.fits', 'output_use_model': False, 'output_use_index': True, 'save_results': True, 'skip': True, 'suffix': None, 'search_output_file': True, 'input_dir': ''}, 'superbias': {'pre_hooks': [], 'post_hooks': [], 'output_file': None, 'output_dir': None, 'output_ext': '.fits', 'output_use_model': False, 'output_use_index': True, 'save_results': True, 'skip': False, 'suffix': None, 'search_output_file': True, 'input_dir': ''}, 'refpix': {'pre_hooks': [], 'post_hooks': [], 'output_file': None, 'output_dir': None, 'output_ext': '.fits', 'output_use_model': False, 'output_use_index': True, 'save_results': True, 'skip': False, 'suffix': None, 'search_output_file': True, 'input_dir': '', 'odd_even_columns': True, 'use_side_ref_pixels': True, 'side_smoothing_length': 11, 'side_gain': 1.0, 'odd_even_rows': True}, 'rscd': {'pre_hooks': [], 'post_hooks': [], 'output_file': None, 'output_dir': None, 'output_ext': '.fits', 'output_use_model': False, 'output_use_index': True, 'save_results': True, 'skip': False, 'suffix': None, 'search_output_file': True, 'input_dir': '', 'type': 'baseline'}, 'firstframe': {'pre_hooks': [], 'post_hooks': [], 'output_file': None, 'output_dir': None, 'output_ext': '.fits', 'output_use_model': False, 'output_use_index': True, 'save_results': True, 'skip': False, 'suffix': None, 'search_output_file': True, 'input_dir': ''}, 'lastframe': {'pre_hooks': [], 'post_hooks': [], 'output_file': None, 'output_dir': None, 'output_ext': '.fits', 'output_use_model': False, 'output_use_index': True, 'save_results': True, 'skip': False, 'suffix': None, 'search_output_file': True, 'input_dir': ''}, 'linearity': {'pre_hooks': [], 'post_hooks': [], 'output_file': None, 'output_dir': None, 'output_ext': '.fits', 'output_use_model': False, 'output_use_index': True, 'save_results': True, 'skip': False, 'suffix': None, 'search_output_file': True, 'input_dir': ''}, 'dark_current': {'pre_hooks': [], 'post_hooks': [], 'output_file': None, 'output_dir': None, 'output_ext': '.fits', 'output_use_model': False, 'output_use_index': True, 'save_results': True, 'skip': False, 'suffix': None, 'search_output_file': True, 'input_dir': '', 'dark_output': None}, 'reset': {'pre_hooks': [], 'post_hooks': [], 'output_file': None, 'output_dir': None, 'output_ext': '.fits', 'output_use_model': False, 'output_use_index': True, 'save_results': False, 'skip': False, 'suffix': None, 'search_output_file': True, 'input_dir': ''}, 'persistence': {'pre_hooks': [], 'post_hooks': [], 'output_file': None, 'output_dir': None, 'output_ext': '.fits', 'output_use_model': False, 'output_use_index': True, 'save_results': True, 'skip': False, 'suffix': None, 'search_output_file': True, 'input_dir': '', 'input_trapsfilled': '', 'flag_pers_cutoff': 40.0, 'save_persistence': False, 'save_trapsfilled': True}, 'jump': {'pre_hooks': [], 'post_hooks': [], 'output_file': None, 'output_dir': None, 'output_ext': '.fits', 'output_use_model': False, 'output_use_index': True, 'save_results': True, 'skip': False, 'suffix': None, 'search_output_file': True, 'input_dir': '', 'rejection_threshold': 4.0, 'maximum_cores': 'none', 'flag_4_neighbors': True, 'max_jump_to_flag_neighbors': 200.0, 'min_jump_to_flag_neighbors': 10.0}, 'ramp_fit': {'pre_hooks': [], 'post_hooks': [], 'output_file': None, 'output_dir': None, 'output_ext': '.fits', 'output_use_model': False, 'output_use_index': True, 'save_results': True, 'skip': False, 'suffix': None, 'search_output_file': True, 'input_dir': '', 'int_name': '', 'save_opt': False, 'opt_name': '', 'maximum_cores': 'none'}, 'gain_scale': {'pre_hooks': [], 'post_hooks': [], 'output_file': None, 'output_dir': None, 'output_ext': '.fits', 'output_use_model': False, 'output_use_index': True, 'save_results': True, 'skip': False, 'suffix': None, 'search_output_file': True, 'input_dir': ''}}}\n",
      "2021-07-12 13:41:22,433 - stpipe.Detector1Pipeline - INFO - Prefetching reference files for dataset: 'miri_lrs_slit_pt_nod1_v2.3.fits' reftypes = ['dark', 'gain', 'linearity', 'mask', 'persat', 'readnoise', 'refpix', 'reset', 'rscd', 'saturation', 'superbias', 'trapdensity', 'trappars']\n",
      "2021-07-12 13:41:22,591 - stpipe.Detector1Pipeline - INFO - Prefetch for DARK reference file is '/grp/crds/cache/references/jwst/jwst_miri_dark_0058.fits'.\n",
      "2021-07-12 13:41:22,639 - stpipe.Detector1Pipeline - INFO - Prefetch for GAIN reference file is '/grp/crds/cache/references/jwst/jwst_miri_gain_0008.fits'.\n",
      "2021-07-12 13:41:22,687 - stpipe.Detector1Pipeline - INFO - Prefetch for LINEARITY reference file is '/grp/crds/cache/references/jwst/jwst_miri_linearity_0024.fits'.\n",
      "2021-07-12 13:41:22,773 - stpipe.Detector1Pipeline - INFO - Prefetch for MASK reference file is '/grp/crds/cache/references/jwst/jwst_miri_mask_0023.fits'.\n",
      "2021-07-12 13:41:22,807 - stpipe.Detector1Pipeline - INFO - Prefetch for PERSAT reference file is 'N/A'.\n"
     ]
    },
    {
     "name": "stderr",
     "output_type": "stream",
     "text": [
      "2021-07-12 13:41:22,808 - stpipe.Detector1Pipeline - INFO - Prefetch for READNOISE reference file is '/grp/crds/cache/references/jwst/jwst_miri_readnoise_0057.fits'.\n",
      "2021-07-12 13:41:22,846 - stpipe.Detector1Pipeline - INFO - Prefetch for REFPIX reference file is 'N/A'.\n",
      "2021-07-12 13:41:22,847 - stpipe.Detector1Pipeline - INFO - Prefetch for RESET reference file is '/grp/crds/cache/references/jwst/jwst_miri_reset_0047.fits'.\n",
      "2021-07-12 13:41:22,928 - stpipe.Detector1Pipeline - INFO - Prefetch for RSCD reference file is '/grp/crds/cache/references/jwst/jwst_miri_rscd_0010.fits'.\n",
      "2021-07-12 13:41:22,962 - stpipe.Detector1Pipeline - INFO - Prefetch for SATURATION reference file is '/grp/crds/cache/references/jwst/jwst_miri_saturation_0026.fits'.\n",
      "2021-07-12 13:41:22,997 - stpipe.Detector1Pipeline - INFO - Prefetch for SUPERBIAS reference file is 'N/A'.\n",
      "2021-07-12 13:41:22,998 - stpipe.Detector1Pipeline - INFO - Prefetch for TRAPDENSITY reference file is 'N/A'.\n",
      "2021-07-12 13:41:22,998 - stpipe.Detector1Pipeline - INFO - Prefetch for TRAPPARS reference file is 'N/A'.\n",
      "2021-07-12 13:41:23,000 - stpipe.Detector1Pipeline - INFO - Starting calwebb_detector1 ...\n",
      "2021-07-12 13:41:23,200 - stpipe.Detector1Pipeline.group_scale - INFO - Step group_scale running with args (<RampModel(2, 10, 1024, 1032) from miri_lrs_slit_pt_nod1_v2.3.fits>,).\n",
      "2021-07-12 13:41:23,202 - stpipe.Detector1Pipeline.group_scale - INFO - Step group_scale parameters are: {'pre_hooks': [], 'post_hooks': [], 'output_file': None, 'output_dir': None, 'output_ext': '.fits', 'output_use_model': False, 'output_use_index': True, 'save_results': True, 'skip': False, 'suffix': None, 'search_output_file': True, 'input_dir': '/Users/kmurray/lrs_nOPS7-OTB-20191216_simulation'}\n",
      "2021-07-12 13:41:23,272 - stpipe.Detector1Pipeline.group_scale - INFO - NFRAMES=1 is a power of 2; correction not needed\n",
      "2021-07-12 13:41:23,272 - stpipe.Detector1Pipeline.group_scale - INFO - Step will be skipped\n",
      "2021-07-12 13:41:23,890 - stpipe.Detector1Pipeline.group_scale - INFO - Saved model in mirisimv2.3sim_correctdither/detector1/miri_lrs_slit_pt_nod1_v2.3_group_scale.fits\n",
      "2021-07-12 13:41:23,891 - stpipe.Detector1Pipeline.group_scale - INFO - Step group_scale done\n",
      "2021-07-12 13:41:23,943 - stpipe.Detector1Pipeline.dq_init - INFO - Step dq_init running with args (<RampModel(2, 10, 1024, 1032) from miri_lrs_slit_pt_nod1_v2.3_group_scale.fits>,).\n",
      "2021-07-12 13:41:23,945 - stpipe.Detector1Pipeline.dq_init - INFO - Step dq_init parameters are: {'pre_hooks': [], 'post_hooks': [], 'output_file': None, 'output_dir': None, 'output_ext': '.fits', 'output_use_model': False, 'output_use_index': True, 'save_results': True, 'skip': False, 'suffix': None, 'search_output_file': True, 'input_dir': '/Users/kmurray/lrs_nOPS7-OTB-20191216_simulation'}\n",
      "2021-07-12 13:41:23,990 - stpipe.Detector1Pipeline.dq_init - INFO - Using MASK reference file /grp/crds/cache/references/jwst/jwst_miri_mask_0023.fits\n",
      "2021-07-12 13:41:25,809 - stpipe.Detector1Pipeline.dq_init - INFO - Saved model in mirisimv2.3sim_correctdither/detector1/miri_lrs_slit_pt_nod1_v2.3_dq_init.fits\n",
      "2021-07-12 13:41:25,810 - stpipe.Detector1Pipeline.dq_init - INFO - Step dq_init done\n",
      "2021-07-12 13:41:25,872 - stpipe.Detector1Pipeline.saturation - INFO - Step saturation running with args (<RampModel(2, 10, 1024, 1032) from miri_lrs_slit_pt_nod1_v2.3_dq_init.fits>,).\n",
      "2021-07-12 13:41:25,874 - stpipe.Detector1Pipeline.saturation - INFO - Step saturation parameters are: {'pre_hooks': [], 'post_hooks': [], 'output_file': None, 'output_dir': None, 'output_ext': '.fits', 'output_use_model': False, 'output_use_index': True, 'save_results': True, 'skip': False, 'suffix': None, 'search_output_file': True, 'input_dir': '/Users/kmurray/lrs_nOPS7-OTB-20191216_simulation'}\n",
      "2021-07-12 13:41:25,921 - stpipe.Detector1Pipeline.saturation - INFO - Using SATURATION reference file /grp/crds/cache/references/jwst/jwst_miri_saturation_0026.fits\n",
      "2021-07-12 13:41:28,185 - stpipe.Detector1Pipeline.saturation - INFO - Detected 0 saturated pixels\n",
      "2021-07-12 13:41:28,194 - stpipe.Detector1Pipeline.saturation - INFO - Detected 0 A/D floor pixels\n",
      "2021-07-12 13:41:28,780 - stpipe.Detector1Pipeline.saturation - INFO - Saved model in mirisimv2.3sim_correctdither/detector1/miri_lrs_slit_pt_nod1_v2.3_saturation.fits\n",
      "2021-07-12 13:41:28,780 - stpipe.Detector1Pipeline.saturation - INFO - Step saturation done\n",
      "2021-07-12 13:41:28,844 - stpipe.Detector1Pipeline.ipc - INFO - Step ipc running with args (<RampModel(2, 10, 1024, 1032) from miri_lrs_slit_pt_nod1_v2.3_saturation.fits>,).\n",
      "2021-07-12 13:41:28,845 - stpipe.Detector1Pipeline.ipc - INFO - Step ipc parameters are: {'pre_hooks': [], 'post_hooks': [], 'output_file': None, 'output_dir': None, 'output_ext': '.fits', 'output_use_model': False, 'output_use_index': True, 'save_results': True, 'skip': True, 'suffix': None, 'search_output_file': True, 'input_dir': '/Users/kmurray/lrs_nOPS7-OTB-20191216_simulation'}\n",
      "2021-07-12 13:41:28,846 - stpipe.Detector1Pipeline.ipc - INFO - Step skipped.\n",
      "2021-07-12 13:41:28,847 - stpipe.Detector1Pipeline.ipc - INFO - Step ipc done\n",
      "2021-07-12 13:41:28,900 - stpipe.Detector1Pipeline.firstframe - INFO - Step firstframe running with args (<RampModel(2, 10, 1024, 1032) from miri_lrs_slit_pt_nod1_v2.3_saturation.fits>,).\n",
      "2021-07-12 13:41:28,901 - stpipe.Detector1Pipeline.firstframe - INFO - Step firstframe parameters are: {'pre_hooks': [], 'post_hooks': [], 'output_file': None, 'output_dir': None, 'output_ext': '.fits', 'output_use_model': False, 'output_use_index': True, 'save_results': True, 'skip': False, 'suffix': None, 'search_output_file': True, 'input_dir': '/Users/kmurray/lrs_nOPS7-OTB-20191216_simulation'}\n",
      "2021-07-12 13:41:29,567 - stpipe.Detector1Pipeline.firstframe - INFO - Saved model in mirisimv2.3sim_correctdither/detector1/miri_lrs_slit_pt_nod1_v2.3_firstframe.fits\n",
      "2021-07-12 13:41:29,567 - stpipe.Detector1Pipeline.firstframe - INFO - Step firstframe done\n",
      "2021-07-12 13:41:29,629 - stpipe.Detector1Pipeline.lastframe - INFO - Step lastframe running with args (<RampModel(2, 10, 1024, 1032) from miri_lrs_slit_pt_nod1_v2.3_firstframe.fits>,).\n",
      "2021-07-12 13:41:29,631 - stpipe.Detector1Pipeline.lastframe - INFO - Step lastframe parameters are: {'pre_hooks': [], 'post_hooks': [], 'output_file': None, 'output_dir': None, 'output_ext': '.fits', 'output_use_model': False, 'output_use_index': True, 'save_results': True, 'skip': False, 'suffix': None, 'search_output_file': True, 'input_dir': '/Users/kmurray/lrs_nOPS7-OTB-20191216_simulation'}\n",
      "2021-07-12 13:41:30,280 - stpipe.Detector1Pipeline.lastframe - INFO - Saved model in mirisimv2.3sim_correctdither/detector1/miri_lrs_slit_pt_nod1_v2.3_lastframe.fits\n",
      "2021-07-12 13:41:30,281 - stpipe.Detector1Pipeline.lastframe - INFO - Step lastframe done\n",
      "2021-07-12 13:41:30,348 - stpipe.Detector1Pipeline.reset - INFO - Step reset running with args (<RampModel(2, 10, 1024, 1032) from miri_lrs_slit_pt_nod1_v2.3_lastframe.fits>,).\n",
      "2021-07-12 13:41:30,350 - stpipe.Detector1Pipeline.reset - INFO - Step reset parameters are: {'pre_hooks': [], 'post_hooks': [], 'output_file': None, 'output_dir': None, 'output_ext': '.fits', 'output_use_model': False, 'output_use_index': True, 'save_results': False, 'skip': False, 'suffix': None, 'search_output_file': True, 'input_dir': '/Users/kmurray/lrs_nOPS7-OTB-20191216_simulation'}\n",
      "2021-07-12 13:41:30,388 - stpipe.Detector1Pipeline.reset - INFO - Using RESET reference file /grp/crds/cache/references/jwst/jwst_miri_reset_0047.fits\n",
      "2021-07-12 13:42:17,766 - stpipe.Detector1Pipeline.reset - INFO - Step reset done\n",
      "2021-07-12 13:42:17,854 - stpipe.Detector1Pipeline.linearity - INFO - Step linearity running with args (<RampModel(2, 10, 1024, 1032) from miri_lrs_slit_pt_nod1_v2.3_lastframe.fits>,).\n",
      "2021-07-12 13:42:17,855 - stpipe.Detector1Pipeline.linearity - INFO - Step linearity parameters are: {'pre_hooks': [], 'post_hooks': [], 'output_file': None, 'output_dir': None, 'output_ext': '.fits', 'output_use_model': False, 'output_use_index': True, 'save_results': True, 'skip': False, 'suffix': None, 'search_output_file': True, 'input_dir': '/Users/kmurray/lrs_nOPS7-OTB-20191216_simulation'}\n"
     ]
    },
    {
     "name": "stderr",
     "output_type": "stream",
     "text": [
      "2021-07-12 13:42:17,949 - stpipe.Detector1Pipeline.linearity - INFO - Using Linearity reference file /grp/crds/cache/references/jwst/jwst_miri_linearity_0024.fits\n",
      "2021-07-12 13:42:31,441 - stpipe.Detector1Pipeline.linearity - INFO - Saved model in mirisimv2.3sim_correctdither/detector1/miri_lrs_slit_pt_nod1_v2.3_linearity.fits\n",
      "2021-07-12 13:42:31,442 - stpipe.Detector1Pipeline.linearity - INFO - Step linearity done\n",
      "2021-07-12 13:42:31,510 - stpipe.Detector1Pipeline.rscd - INFO - Step rscd running with args (<RampModel(2, 10, 1024, 1032) from miri_lrs_slit_pt_nod1_v2.3_linearity.fits>,).\n",
      "2021-07-12 13:42:31,512 - stpipe.Detector1Pipeline.rscd - INFO - Step rscd parameters are: {'pre_hooks': [], 'post_hooks': [], 'output_file': None, 'output_dir': None, 'output_ext': '.fits', 'output_use_model': False, 'output_use_index': True, 'save_results': True, 'skip': False, 'suffix': None, 'search_output_file': True, 'input_dir': '/Users/kmurray/lrs_nOPS7-OTB-20191216_simulation', 'type': 'baseline'}\n",
      "2021-07-12 13:42:31,831 - stpipe.Detector1Pipeline.rscd - INFO - Using RSCD reference file /grp/crds/cache/references/jwst/jwst_miri_rscd_0010.fits\n",
      "2021-07-12 13:42:32,837 - stpipe.Detector1Pipeline.rscd - INFO - Saved model in mirisimv2.3sim_correctdither/detector1/miri_lrs_slit_pt_nod1_v2.3_rscd.fits\n",
      "2021-07-12 13:42:32,838 - stpipe.Detector1Pipeline.rscd - INFO - Step rscd done\n",
      "2021-07-12 13:42:32,908 - stpipe.Detector1Pipeline.dark_current - INFO - Step dark_current running with args (<RampModel(2, 10, 1024, 1032) from miri_lrs_slit_pt_nod1_v2.3_rscd.fits>,).\n",
      "2021-07-12 13:42:32,909 - stpipe.Detector1Pipeline.dark_current - INFO - Step dark_current parameters are: {'pre_hooks': [], 'post_hooks': [], 'output_file': None, 'output_dir': 'mirisimv2.3sim_correctdither/detector1/', 'output_ext': '.fits', 'output_use_model': False, 'output_use_index': True, 'save_results': True, 'skip': False, 'suffix': None, 'search_output_file': True, 'input_dir': '/Users/kmurray/lrs_nOPS7-OTB-20191216_simulation', 'dark_output': None}\n",
      "2021-07-12 13:42:32,986 - stpipe.Detector1Pipeline.dark_current - INFO - Using DARK reference file /grp/crds/cache/references/jwst/jwst_miri_dark_0058.fits\n",
      "2021-07-12 13:53:09,279 - stpipe.Detector1Pipeline.dark_current - INFO - Science data nints=2, ngroups=10, nframes=1, groupgap=0\n",
      "2021-07-12 13:53:09,280 - stpipe.Detector1Pipeline.dark_current - INFO - Dark data nints=2, ngroups=200, nframes=1, groupgap=0\n",
      "2021-07-12 13:53:10,402 - stpipe.Detector1Pipeline.dark_current - INFO - Saved model in mirisimv2.3sim_correctdither/detector1/miri_lrs_slit_pt_nod1_v2.3_dark_current.fits\n",
      "2021-07-12 13:53:10,403 - stpipe.Detector1Pipeline.dark_current - INFO - Step dark_current done\n",
      "2021-07-12 13:53:10,664 - stpipe.Detector1Pipeline.refpix - INFO - Step refpix running with args (<RampModel(2, 10, 1024, 1032) from miri_lrs_slit_pt_nod1_v2.3_dark_current.fits>,).\n",
      "2021-07-12 13:53:10,666 - stpipe.Detector1Pipeline.refpix - INFO - Step refpix parameters are: {'pre_hooks': [], 'post_hooks': [], 'output_file': None, 'output_dir': None, 'output_ext': '.fits', 'output_use_model': False, 'output_use_index': True, 'save_results': True, 'skip': False, 'suffix': None, 'search_output_file': True, 'input_dir': '/Users/kmurray/lrs_nOPS7-OTB-20191216_simulation', 'odd_even_columns': True, 'use_side_ref_pixels': True, 'side_smoothing_length': 11, 'side_gain': 1.0, 'odd_even_rows': True}\n",
      "2021-07-12 13:53:10,675 - stpipe.Detector1Pipeline.refpix - INFO - use_side_ref_pixels = True\n",
      "2021-07-12 13:53:10,675 - stpipe.Detector1Pipeline.refpix - INFO - odd_even_columns = True\n",
      "2021-07-12 13:53:10,676 - stpipe.Detector1Pipeline.refpix - INFO - side_smoothing_length = 11\n",
      "2021-07-12 13:53:10,676 - stpipe.Detector1Pipeline.refpix - INFO - side_gain = 1.000000\n",
      "2021-07-12 13:53:10,676 - stpipe.Detector1Pipeline.refpix - INFO - odd_even_rows = True\n",
      "2021-07-12 13:53:10,733 - stpipe.Detector1Pipeline.refpix - INFO - Subtracting initial read from each integration\n",
      "2021-07-12 13:53:10,933 - stpipe.Detector1Pipeline.refpix - INFO - Adding initial read back in\n",
      "2021-07-12 13:53:11,531 - stpipe.Detector1Pipeline.refpix - INFO - Saved model in mirisimv2.3sim_correctdither/detector1/miri_lrs_slit_pt_nod1_v2.3_refpix.fits\n",
      "2021-07-12 13:53:11,531 - stpipe.Detector1Pipeline.refpix - INFO - Step refpix done\n",
      "2021-07-12 13:53:11,594 - stpipe.Detector1Pipeline.jump - INFO - Step jump running with args (<RampModel(2, 10, 1024, 1032) from miri_lrs_slit_pt_nod1_v2.3_refpix.fits>,).\n",
      "2021-07-12 13:53:11,595 - stpipe.Detector1Pipeline.jump - INFO - Step jump parameters are: {'pre_hooks': [], 'post_hooks': [], 'output_file': None, 'output_dir': None, 'output_ext': '.fits', 'output_use_model': False, 'output_use_index': True, 'save_results': True, 'skip': False, 'suffix': None, 'search_output_file': True, 'input_dir': '/Users/kmurray/lrs_nOPS7-OTB-20191216_simulation', 'rejection_threshold': 4.0, 'maximum_cores': 'none', 'flag_4_neighbors': True, 'max_jump_to_flag_neighbors': 200.0, 'min_jump_to_flag_neighbors': 10.0}\n",
      "2021-07-12 13:53:11,604 - stpipe.Detector1Pipeline.jump - INFO - CR rejection threshold = 4 sigma\n",
      "2021-07-12 13:53:11,800 - stpipe.Detector1Pipeline.jump - INFO - Using GAIN reference file: /grp/crds/cache/references/jwst/jwst_miri_gain_0008.fits\n",
      "2021-07-12 13:53:12,657 - stpipe.Detector1Pipeline.jump - INFO - Using READNOISE reference file: /grp/crds/cache/references/jwst/jwst_miri_readnoise_0057.fits\n",
      "2021-07-12 13:53:13,412 - stpipe.Detector1Pipeline.jump - INFO - Found 16 possible cores to use for jump detection \n",
      "2021-07-12 13:53:13,500 - stpipe.Detector1Pipeline.jump - INFO - Executing two-point difference method\n",
      "2021-07-12 13:53:13,816 - stpipe.Detector1Pipeline.jump - INFO - Working on integration 1:\n",
      "2021-07-12 13:53:14,175 - stpipe.Detector1Pipeline.jump - INFO - From highest outlier Two-point found 41997 pixels with at least one CR\n",
      "2021-07-12 13:53:15,239 - stpipe.Detector1Pipeline.jump - INFO - Working on integration 2:\n",
      "2021-07-12 13:53:15,492 - stpipe.Detector1Pipeline.jump - INFO - From highest outlier Two-point found 12567 pixels with at least one CR\n",
      "2021-07-12 13:53:15,876 - stpipe.Detector1Pipeline.jump - INFO - Total elapsed time = 2.37567 sec\n",
      "2021-07-12 13:53:15,878 - stpipe.Detector1Pipeline.jump - INFO - The execution time in seconds: 4.273951\n",
      "2021-07-12 13:53:16,439 - stpipe.Detector1Pipeline.jump - INFO - Saved model in mirisimv2.3sim_correctdither/detector1/miri_lrs_slit_pt_nod1_v2.3_jump.fits\n",
      "2021-07-12 13:53:16,440 - stpipe.Detector1Pipeline.jump - INFO - Step jump done\n",
      "2021-07-12 13:53:16,501 - stpipe.Detector1Pipeline.ramp_fit - INFO - Step ramp_fit running with args (<RampModel(2, 10, 1024, 1032) from miri_lrs_slit_pt_nod1_v2.3_jump.fits>,).\n",
      "2021-07-12 13:53:16,503 - stpipe.Detector1Pipeline.ramp_fit - INFO - Step ramp_fit parameters are: {'pre_hooks': [], 'post_hooks': [], 'output_file': None, 'output_dir': 'mirisimv2.3sim_correctdither/detector1/', 'output_ext': '.fits', 'output_use_model': False, 'output_use_index': True, 'save_results': True, 'skip': False, 'suffix': None, 'search_output_file': True, 'input_dir': '/Users/kmurray/lrs_nOPS7-OTB-20191216_simulation', 'int_name': '', 'save_opt': False, 'opt_name': '', 'maximum_cores': 'none'}\n",
      "2021-07-12 13:53:16,579 - stpipe.Detector1Pipeline.ramp_fit - INFO - Using READNOISE reference file: /grp/crds/cache/references/jwst/jwst_miri_readnoise_0057.fits\n",
      "2021-07-12 13:53:16,627 - stpipe.Detector1Pipeline.ramp_fit - INFO - Using GAIN reference file: /grp/crds/cache/references/jwst/jwst_miri_gain_0008.fits\n",
      "2021-07-12 13:53:16,693 - stpipe.Detector1Pipeline.ramp_fit - INFO - Using algorithm = ols\n",
      "2021-07-12 13:53:16,694 - stpipe.Detector1Pipeline.ramp_fit - INFO - Using weighting = optimal\n",
      "2021-07-12 13:53:16,792 - stpipe.Detector1Pipeline.ramp_fit - INFO - Number of leading groups that are flagged as DO_NOT_USE: 1\n",
      "2021-07-12 13:53:16,793 - stpipe.Detector1Pipeline.ramp_fit - INFO - MIRI dataset has all pixels in the final group flagged as DO_NOT_USE.\n",
      "2021-07-12 13:53:34,323 - stpipe.Detector1Pipeline.ramp_fit - INFO - Number of groups per integration: 10\n",
      "2021-07-12 13:53:34,323 - stpipe.Detector1Pipeline.ramp_fit - INFO - Number of integrations: 2\n"
     ]
    },
    {
     "name": "stderr",
     "output_type": "stream",
     "text": [
      "2021-07-12 13:53:34,468 - stpipe.Detector1Pipeline.ramp_fit - INFO - Saved model in mirisimv2.3sim_correctdither/detector1/miri_lrs_slit_pt_nod1_v2.3_0_ramp_fit.fits\n",
      "2021-07-12 13:53:34,668 - stpipe.Detector1Pipeline.ramp_fit - INFO - Saved model in mirisimv2.3sim_correctdither/detector1/miri_lrs_slit_pt_nod1_v2.3_1_ramp_fit.fits\n",
      "2021-07-12 13:53:34,669 - stpipe.Detector1Pipeline.ramp_fit - INFO - Step ramp_fit done\n",
      "2021-07-12 13:53:34,750 - stpipe.Detector1Pipeline.gain_scale - INFO - Step gain_scale running with args (<ImageModel(1024, 1032) from miri_lrs_slit_pt_nod1_v2.3_0_ramp_fit.fits>,).\n",
      "2021-07-12 13:53:34,752 - stpipe.Detector1Pipeline.gain_scale - INFO - Step gain_scale parameters are: {'pre_hooks': [], 'post_hooks': [], 'output_file': None, 'output_dir': None, 'output_ext': '.fits', 'output_use_model': False, 'output_use_index': True, 'save_results': True, 'skip': False, 'suffix': 'gain_scale', 'search_output_file': True, 'input_dir': '/Users/kmurray/lrs_nOPS7-OTB-20191216_simulation'}\n",
      "2021-07-12 13:53:34,831 - stpipe.Detector1Pipeline.gain_scale - INFO - GAINFACT not found in gain reference file\n",
      "2021-07-12 13:53:34,832 - stpipe.Detector1Pipeline.gain_scale - INFO - Step will be skipped\n",
      "2021-07-12 13:53:34,941 - stpipe.Detector1Pipeline.gain_scale - INFO - Saved model in mirisimv2.3sim_correctdither/detector1/miri_lrs_slit_pt_nod1_v2.3_gain_scale.fits\n",
      "2021-07-12 13:53:34,941 - stpipe.Detector1Pipeline.gain_scale - INFO - Step gain_scale done\n",
      "2021-07-12 13:53:34,998 - stpipe.Detector1Pipeline.gain_scale - INFO - Step gain_scale running with args (<CubeModel(2, 1024, 1032) from miri_lrs_slit_pt_nod1_v2.3_1_ramp_fit.fits>,).\n",
      "2021-07-12 13:53:35,000 - stpipe.Detector1Pipeline.gain_scale - INFO - Step gain_scale parameters are: {'pre_hooks': [], 'post_hooks': [], 'output_file': None, 'output_dir': None, 'output_ext': '.fits', 'output_use_model': False, 'output_use_index': True, 'save_results': True, 'skip': False, 'suffix': 'gain_scaleints', 'search_output_file': True, 'input_dir': '/Users/kmurray/lrs_nOPS7-OTB-20191216_simulation'}\n",
      "2021-07-12 13:53:35,086 - stpipe.Detector1Pipeline.gain_scale - INFO - GAINFACT not found in gain reference file\n",
      "2021-07-12 13:53:35,087 - stpipe.Detector1Pipeline.gain_scale - INFO - Step will be skipped\n",
      "2021-07-12 13:53:35,283 - stpipe.Detector1Pipeline.gain_scale - INFO - Saved model in mirisimv2.3sim_correctdither/detector1/miri_lrs_slit_pt_nod1_v2.3_gain_scaleints.fits\n",
      "2021-07-12 13:53:35,284 - stpipe.Detector1Pipeline.gain_scale - INFO - Step gain_scale done\n",
      "2021-07-12 13:53:35,285 - stpipe.Detector1Pipeline - INFO - ... ending calwebb_detector1\n",
      "2021-07-12 13:53:35,286 - stpipe.Detector1Pipeline - INFO - Step Detector1Pipeline done\n",
      "2021-07-12 13:53:35,544 - stpipe - INFO - PARS-DETECTOR1PIPELINE parameters found: /grp/crds/cache/references/jwst/jwst_miri_pars-detector1pipeline_0001.asdf\n",
      "2021-07-12 13:53:35,668 - stpipe.Detector1Pipeline - INFO - Detector1Pipeline instance created.\n",
      "2021-07-12 13:53:35,669 - stpipe.Detector1Pipeline.group_scale - INFO - GroupScaleStep instance created.\n",
      "2021-07-12 13:53:35,670 - stpipe.Detector1Pipeline.dq_init - INFO - DQInitStep instance created.\n",
      "2021-07-12 13:53:35,671 - stpipe.Detector1Pipeline.saturation - INFO - SaturationStep instance created.\n",
      "2021-07-12 13:53:35,672 - stpipe.Detector1Pipeline.ipc - INFO - IPCStep instance created.\n",
      "2021-07-12 13:53:35,674 - stpipe.Detector1Pipeline.superbias - INFO - SuperBiasStep instance created.\n",
      "2021-07-12 13:53:35,675 - stpipe.Detector1Pipeline.refpix - INFO - RefPixStep instance created.\n",
      "2021-07-12 13:53:35,676 - stpipe.Detector1Pipeline.rscd - INFO - RscdStep instance created.\n",
      "2021-07-12 13:53:35,677 - stpipe.Detector1Pipeline.firstframe - INFO - FirstFrameStep instance created.\n",
      "2021-07-12 13:53:35,678 - stpipe.Detector1Pipeline.lastframe - INFO - LastFrameStep instance created.\n",
      "2021-07-12 13:53:35,679 - stpipe.Detector1Pipeline.linearity - INFO - LinearityStep instance created.\n",
      "2021-07-12 13:53:35,681 - stpipe.Detector1Pipeline.dark_current - INFO - DarkCurrentStep instance created.\n",
      "2021-07-12 13:53:35,682 - stpipe.Detector1Pipeline.reset - INFO - ResetStep instance created.\n",
      "2021-07-12 13:53:35,683 - stpipe.Detector1Pipeline.persistence - INFO - PersistenceStep instance created.\n",
      "2021-07-12 13:53:35,684 - stpipe.Detector1Pipeline.jump - INFO - JumpStep instance created.\n",
      "2021-07-12 13:53:35,686 - stpipe.Detector1Pipeline.ramp_fit - INFO - RampFitStep instance created.\n",
      "2021-07-12 13:53:35,687 - stpipe.Detector1Pipeline.gain_scale - INFO - GainScaleStep instance created.\n",
      "2021-07-12 13:53:35,746 - stpipe - WARNING - /Users/kmurray/anaconda3/envs/jwst7.7.1/lib/python3.9/site-packages/stpipe/step.py:359: ResourceWarning: unclosed file <_io.FileIO name='/Users/kmurray/lrs_nOPS7-OTB-20191216_simulation/miri_lrs_slit_pt_nod2_v2.3.fits' mode='rb' closefd=True>\n",
      "  gc.collect()\n",
      "\n",
      "2021-07-12 13:53:35,774 - stpipe.Detector1Pipeline - INFO - Step Detector1Pipeline running with args ('/Users/kmurray/lrs_nOPS7-OTB-20191216_simulation/miri_lrs_slit_pt_nod2_v2.3.fits',).\n",
      "2021-07-12 13:53:35,786 - stpipe.Detector1Pipeline - INFO - Step Detector1Pipeline parameters are: {'pre_hooks': [], 'post_hooks': [], 'output_file': None, 'output_dir': 'mirisimv2.3sim_correctdither/detector1/', 'output_ext': '.fits', 'output_use_model': False, 'output_use_index': True, 'save_results': False, 'skip': False, 'suffix': None, 'search_output_file': True, 'input_dir': '', 'save_calibrated_ramp': True, 'steps': {'group_scale': {'pre_hooks': [], 'post_hooks': [], 'output_file': None, 'output_dir': None, 'output_ext': '.fits', 'output_use_model': False, 'output_use_index': True, 'save_results': True, 'skip': False, 'suffix': None, 'search_output_file': True, 'input_dir': ''}, 'dq_init': {'pre_hooks': [], 'post_hooks': [], 'output_file': None, 'output_dir': None, 'output_ext': '.fits', 'output_use_model': False, 'output_use_index': True, 'save_results': True, 'skip': False, 'suffix': None, 'search_output_file': True, 'input_dir': ''}, 'saturation': {'pre_hooks': [], 'post_hooks': [], 'output_file': None, 'output_dir': None, 'output_ext': '.fits', 'output_use_model': False, 'output_use_index': True, 'save_results': True, 'skip': False, 'suffix': None, 'search_output_file': True, 'input_dir': ''}, 'ipc': {'pre_hooks': [], 'post_hooks': [], 'output_file': None, 'output_dir': None, 'output_ext': '.fits', 'output_use_model': False, 'output_use_index': True, 'save_results': True, 'skip': True, 'suffix': None, 'search_output_file': True, 'input_dir': ''}, 'superbias': {'pre_hooks': [], 'post_hooks': [], 'output_file': None, 'output_dir': None, 'output_ext': '.fits', 'output_use_model': False, 'output_use_index': True, 'save_results': True, 'skip': False, 'suffix': None, 'search_output_file': True, 'input_dir': ''}, 'refpix': {'pre_hooks': [], 'post_hooks': [], 'output_file': None, 'output_dir': None, 'output_ext': '.fits', 'output_use_model': False, 'output_use_index': True, 'save_results': True, 'skip': False, 'suffix': None, 'search_output_file': True, 'input_dir': '', 'odd_even_columns': True, 'use_side_ref_pixels': True, 'side_smoothing_length': 11, 'side_gain': 1.0, 'odd_even_rows': True}, 'rscd': {'pre_hooks': [], 'post_hooks': [], 'output_file': None, 'output_dir': None, 'output_ext': '.fits', 'output_use_model': False, 'output_use_index': True, 'save_results': True, 'skip': False, 'suffix': None, 'search_output_file': True, 'input_dir': '', 'type': 'baseline'}, 'firstframe': {'pre_hooks': [], 'post_hooks': [], 'output_file': None, 'output_dir': None, 'output_ext': '.fits', 'output_use_model': False, 'output_use_index': True, 'save_results': True, 'skip': False, 'suffix': None, 'search_output_file': True, 'input_dir': ''}, 'lastframe': {'pre_hooks': [], 'post_hooks': [], 'output_file': None, 'output_dir': None, 'output_ext': '.fits', 'output_use_model': False, 'output_use_index': True, 'save_results': True, 'skip': False, 'suffix': None, 'search_output_file': True, 'input_dir': ''}, 'linearity': {'pre_hooks': [], 'post_hooks': [], 'output_file': None, 'output_dir': None, 'output_ext': '.fits', 'output_use_model': False, 'output_use_index': True, 'save_results': True, 'skip': False, 'suffix': None, 'search_output_file': True, 'input_dir': ''}, 'dark_current': {'pre_hooks': [], 'post_hooks': [], 'output_file': None, 'output_dir': None, 'output_ext': '.fits', 'output_use_model': False, 'output_use_index': True, 'save_results': True, 'skip': False, 'suffix': None, 'search_output_file': True, 'input_dir': '', 'dark_output': None}, 'reset': {'pre_hooks': [], 'post_hooks': [], 'output_file': None, 'output_dir': None, 'output_ext': '.fits', 'output_use_model': False, 'output_use_index': True, 'save_results': False, 'skip': False, 'suffix': None, 'search_output_file': True, 'input_dir': ''}, 'persistence': {'pre_hooks': [], 'post_hooks': [], 'output_file': None, 'output_dir': None, 'output_ext': '.fits', 'output_use_model': False, 'output_use_index': True, 'save_results': True, 'skip': False, 'suffix': None, 'search_output_file': True, 'input_dir': '', 'input_trapsfilled': '', 'flag_pers_cutoff': 40.0, 'save_persistence': False, 'save_trapsfilled': True}, 'jump': {'pre_hooks': [], 'post_hooks': [], 'output_file': None, 'output_dir': None, 'output_ext': '.fits', 'output_use_model': False, 'output_use_index': True, 'save_results': True, 'skip': False, 'suffix': None, 'search_output_file': True, 'input_dir': '', 'rejection_threshold': 4.0, 'maximum_cores': 'none', 'flag_4_neighbors': True, 'max_jump_to_flag_neighbors': 200.0, 'min_jump_to_flag_neighbors': 10.0}, 'ramp_fit': {'pre_hooks': [], 'post_hooks': [], 'output_file': None, 'output_dir': None, 'output_ext': '.fits', 'output_use_model': False, 'output_use_index': True, 'save_results': True, 'skip': False, 'suffix': None, 'search_output_file': True, 'input_dir': '', 'int_name': '', 'save_opt': False, 'opt_name': '', 'maximum_cores': 'none'}, 'gain_scale': {'pre_hooks': [], 'post_hooks': [], 'output_file': None, 'output_dir': None, 'output_ext': '.fits', 'output_use_model': False, 'output_use_index': True, 'save_results': True, 'skip': False, 'suffix': None, 'search_output_file': True, 'input_dir': ''}}}\n"
     ]
    },
    {
     "name": "stderr",
     "output_type": "stream",
     "text": [
      "2021-07-12 13:53:35,884 - stpipe.Detector1Pipeline - INFO - Prefetching reference files for dataset: 'miri_lrs_slit_pt_nod2_v2.3.fits' reftypes = ['dark', 'gain', 'linearity', 'mask', 'persat', 'readnoise', 'refpix', 'reset', 'rscd', 'saturation', 'superbias', 'trapdensity', 'trappars']\n",
      "2021-07-12 13:53:35,986 - stpipe.Detector1Pipeline - INFO - Prefetch for DARK reference file is '/grp/crds/cache/references/jwst/jwst_miri_dark_0058.fits'.\n",
      "2021-07-12 13:53:36,020 - stpipe.Detector1Pipeline - INFO - Prefetch for GAIN reference file is '/grp/crds/cache/references/jwst/jwst_miri_gain_0008.fits'.\n",
      "2021-07-12 13:53:36,038 - stpipe.Detector1Pipeline - INFO - Prefetch for LINEARITY reference file is '/grp/crds/cache/references/jwst/jwst_miri_linearity_0024.fits'.\n",
      "2021-07-12 13:53:36,072 - stpipe.Detector1Pipeline - INFO - Prefetch for MASK reference file is '/grp/crds/cache/references/jwst/jwst_miri_mask_0023.fits'.\n",
      "2021-07-12 13:53:36,122 - stpipe.Detector1Pipeline - INFO - Prefetch for PERSAT reference file is 'N/A'.\n",
      "2021-07-12 13:53:36,123 - stpipe.Detector1Pipeline - INFO - Prefetch for READNOISE reference file is '/grp/crds/cache/references/jwst/jwst_miri_readnoise_0057.fits'.\n",
      "2021-07-12 13:53:36,143 - stpipe.Detector1Pipeline - INFO - Prefetch for REFPIX reference file is 'N/A'.\n",
      "2021-07-12 13:53:36,144 - stpipe.Detector1Pipeline - INFO - Prefetch for RESET reference file is '/grp/crds/cache/references/jwst/jwst_miri_reset_0047.fits'.\n",
      "2021-07-12 13:53:36,187 - stpipe.Detector1Pipeline - INFO - Prefetch for RSCD reference file is '/grp/crds/cache/references/jwst/jwst_miri_rscd_0010.fits'.\n",
      "2021-07-12 13:53:36,223 - stpipe.Detector1Pipeline - INFO - Prefetch for SATURATION reference file is '/grp/crds/cache/references/jwst/jwst_miri_saturation_0026.fits'.\n",
      "2021-07-12 13:53:36,256 - stpipe.Detector1Pipeline - INFO - Prefetch for SUPERBIAS reference file is 'N/A'.\n",
      "2021-07-12 13:53:36,256 - stpipe.Detector1Pipeline - INFO - Prefetch for TRAPDENSITY reference file is 'N/A'.\n",
      "2021-07-12 13:53:36,257 - stpipe.Detector1Pipeline - INFO - Prefetch for TRAPPARS reference file is 'N/A'.\n",
      "2021-07-12 13:53:36,257 - stpipe.Detector1Pipeline - INFO - Starting calwebb_detector1 ...\n",
      "2021-07-12 13:53:36,411 - stpipe.Detector1Pipeline.group_scale - INFO - Step group_scale running with args (<RampModel(2, 10, 1024, 1032) from miri_lrs_slit_pt_nod2_v2.3.fits>,).\n",
      "2021-07-12 13:53:36,413 - stpipe.Detector1Pipeline.group_scale - INFO - Step group_scale parameters are: {'pre_hooks': [], 'post_hooks': [], 'output_file': None, 'output_dir': None, 'output_ext': '.fits', 'output_use_model': False, 'output_use_index': True, 'save_results': True, 'skip': False, 'suffix': None, 'search_output_file': True, 'input_dir': '/Users/kmurray/lrs_nOPS7-OTB-20191216_simulation'}\n",
      "2021-07-12 13:53:36,478 - stpipe.Detector1Pipeline.group_scale - INFO - NFRAMES=1 is a power of 2; correction not needed\n",
      "2021-07-12 13:53:36,478 - stpipe.Detector1Pipeline.group_scale - INFO - Step will be skipped\n",
      "2021-07-12 13:53:37,082 - stpipe.Detector1Pipeline.group_scale - INFO - Saved model in mirisimv2.3sim_correctdither/detector1/miri_lrs_slit_pt_nod2_v2.3_group_scale.fits\n",
      "2021-07-12 13:53:37,082 - stpipe.Detector1Pipeline.group_scale - INFO - Step group_scale done\n",
      "2021-07-12 13:53:37,135 - stpipe.Detector1Pipeline.dq_init - INFO - Step dq_init running with args (<RampModel(2, 10, 1024, 1032) from miri_lrs_slit_pt_nod2_v2.3_group_scale.fits>,).\n",
      "2021-07-12 13:53:37,136 - stpipe.Detector1Pipeline.dq_init - INFO - Step dq_init parameters are: {'pre_hooks': [], 'post_hooks': [], 'output_file': None, 'output_dir': None, 'output_ext': '.fits', 'output_use_model': False, 'output_use_index': True, 'save_results': True, 'skip': False, 'suffix': None, 'search_output_file': True, 'input_dir': '/Users/kmurray/lrs_nOPS7-OTB-20191216_simulation'}\n",
      "2021-07-12 13:53:37,181 - stpipe.Detector1Pipeline.dq_init - INFO - Using MASK reference file /grp/crds/cache/references/jwst/jwst_miri_mask_0023.fits\n",
      "2021-07-12 13:53:38,639 - stpipe.Detector1Pipeline.dq_init - INFO - Saved model in mirisimv2.3sim_correctdither/detector1/miri_lrs_slit_pt_nod2_v2.3_dq_init.fits\n",
      "2021-07-12 13:53:38,640 - stpipe.Detector1Pipeline.dq_init - INFO - Step dq_init done\n",
      "2021-07-12 13:53:38,704 - stpipe.Detector1Pipeline.saturation - INFO - Step saturation running with args (<RampModel(2, 10, 1024, 1032) from miri_lrs_slit_pt_nod2_v2.3_dq_init.fits>,).\n",
      "2021-07-12 13:53:38,705 - stpipe.Detector1Pipeline.saturation - INFO - Step saturation parameters are: {'pre_hooks': [], 'post_hooks': [], 'output_file': None, 'output_dir': None, 'output_ext': '.fits', 'output_use_model': False, 'output_use_index': True, 'save_results': True, 'skip': False, 'suffix': None, 'search_output_file': True, 'input_dir': '/Users/kmurray/lrs_nOPS7-OTB-20191216_simulation'}\n",
      "2021-07-12 13:53:38,749 - stpipe.Detector1Pipeline.saturation - INFO - Using SATURATION reference file /grp/crds/cache/references/jwst/jwst_miri_saturation_0026.fits\n",
      "2021-07-12 13:53:40,643 - stpipe.Detector1Pipeline.saturation - INFO - Detected 0 saturated pixels\n",
      "2021-07-12 13:53:40,654 - stpipe.Detector1Pipeline.saturation - INFO - Detected 0 A/D floor pixels\n",
      "2021-07-12 13:53:41,226 - stpipe.Detector1Pipeline.saturation - INFO - Saved model in mirisimv2.3sim_correctdither/detector1/miri_lrs_slit_pt_nod2_v2.3_saturation.fits\n",
      "2021-07-12 13:53:41,226 - stpipe.Detector1Pipeline.saturation - INFO - Step saturation done\n",
      "2021-07-12 13:53:41,287 - stpipe.Detector1Pipeline.ipc - INFO - Step ipc running with args (<RampModel(2, 10, 1024, 1032) from miri_lrs_slit_pt_nod2_v2.3_saturation.fits>,).\n",
      "2021-07-12 13:53:41,289 - stpipe.Detector1Pipeline.ipc - INFO - Step ipc parameters are: {'pre_hooks': [], 'post_hooks': [], 'output_file': None, 'output_dir': None, 'output_ext': '.fits', 'output_use_model': False, 'output_use_index': True, 'save_results': True, 'skip': True, 'suffix': None, 'search_output_file': True, 'input_dir': '/Users/kmurray/lrs_nOPS7-OTB-20191216_simulation'}\n",
      "2021-07-12 13:53:41,290 - stpipe.Detector1Pipeline.ipc - INFO - Step skipped.\n",
      "2021-07-12 13:53:41,290 - stpipe.Detector1Pipeline.ipc - INFO - Step ipc done\n",
      "2021-07-12 13:53:41,343 - stpipe.Detector1Pipeline.firstframe - INFO - Step firstframe running with args (<RampModel(2, 10, 1024, 1032) from miri_lrs_slit_pt_nod2_v2.3_saturation.fits>,).\n",
      "2021-07-12 13:53:41,345 - stpipe.Detector1Pipeline.firstframe - INFO - Step firstframe parameters are: {'pre_hooks': [], 'post_hooks': [], 'output_file': None, 'output_dir': None, 'output_ext': '.fits', 'output_use_model': False, 'output_use_index': True, 'save_results': True, 'skip': False, 'suffix': None, 'search_output_file': True, 'input_dir': '/Users/kmurray/lrs_nOPS7-OTB-20191216_simulation'}\n",
      "2021-07-12 13:53:41,989 - stpipe.Detector1Pipeline.firstframe - INFO - Saved model in mirisimv2.3sim_correctdither/detector1/miri_lrs_slit_pt_nod2_v2.3_firstframe.fits\n",
      "2021-07-12 13:53:41,990 - stpipe.Detector1Pipeline.firstframe - INFO - Step firstframe done\n",
      "2021-07-12 13:53:42,054 - stpipe.Detector1Pipeline.lastframe - INFO - Step lastframe running with args (<RampModel(2, 10, 1024, 1032) from miri_lrs_slit_pt_nod2_v2.3_firstframe.fits>,).\n",
      "2021-07-12 13:53:42,056 - stpipe.Detector1Pipeline.lastframe - INFO - Step lastframe parameters are: {'pre_hooks': [], 'post_hooks': [], 'output_file': None, 'output_dir': None, 'output_ext': '.fits', 'output_use_model': False, 'output_use_index': True, 'save_results': True, 'skip': False, 'suffix': None, 'search_output_file': True, 'input_dir': '/Users/kmurray/lrs_nOPS7-OTB-20191216_simulation'}\n",
      "2021-07-12 13:53:42,706 - stpipe.Detector1Pipeline.lastframe - INFO - Saved model in mirisimv2.3sim_correctdither/detector1/miri_lrs_slit_pt_nod2_v2.3_lastframe.fits\n",
      "2021-07-12 13:53:42,707 - stpipe.Detector1Pipeline.lastframe - INFO - Step lastframe done\n",
      "2021-07-12 13:53:42,771 - stpipe.Detector1Pipeline.reset - INFO - Step reset running with args (<RampModel(2, 10, 1024, 1032) from miri_lrs_slit_pt_nod2_v2.3_lastframe.fits>,).\n",
      "2021-07-12 13:53:42,773 - stpipe.Detector1Pipeline.reset - INFO - Step reset parameters are: {'pre_hooks': [], 'post_hooks': [], 'output_file': None, 'output_dir': None, 'output_ext': '.fits', 'output_use_model': False, 'output_use_index': True, 'save_results': False, 'skip': False, 'suffix': None, 'search_output_file': True, 'input_dir': '/Users/kmurray/lrs_nOPS7-OTB-20191216_simulation'}\n"
     ]
    },
    {
     "name": "stderr",
     "output_type": "stream",
     "text": [
      "2021-07-12 13:53:42,820 - stpipe.Detector1Pipeline.reset - INFO - Using RESET reference file /grp/crds/cache/references/jwst/jwst_miri_reset_0047.fits\n",
      "2021-07-12 13:54:28,501 - stpipe.Detector1Pipeline.reset - INFO - Step reset done\n",
      "2021-07-12 13:54:28,581 - stpipe.Detector1Pipeline.linearity - INFO - Step linearity running with args (<RampModel(2, 10, 1024, 1032) from miri_lrs_slit_pt_nod2_v2.3_lastframe.fits>,).\n",
      "2021-07-12 13:54:28,582 - stpipe.Detector1Pipeline.linearity - INFO - Step linearity parameters are: {'pre_hooks': [], 'post_hooks': [], 'output_file': None, 'output_dir': None, 'output_ext': '.fits', 'output_use_model': False, 'output_use_index': True, 'save_results': True, 'skip': False, 'suffix': None, 'search_output_file': True, 'input_dir': '/Users/kmurray/lrs_nOPS7-OTB-20191216_simulation'}\n",
      "2021-07-12 13:54:28,743 - stpipe.Detector1Pipeline.linearity - INFO - Using Linearity reference file /grp/crds/cache/references/jwst/jwst_miri_linearity_0024.fits\n",
      "2021-07-12 13:54:37,844 - stpipe.Detector1Pipeline.linearity - INFO - Saved model in mirisimv2.3sim_correctdither/detector1/miri_lrs_slit_pt_nod2_v2.3_linearity.fits\n",
      "2021-07-12 13:54:37,845 - stpipe.Detector1Pipeline.linearity - INFO - Step linearity done\n",
      "2021-07-12 13:54:37,915 - stpipe.Detector1Pipeline.rscd - INFO - Step rscd running with args (<RampModel(2, 10, 1024, 1032) from miri_lrs_slit_pt_nod2_v2.3_linearity.fits>,).\n",
      "2021-07-12 13:54:37,916 - stpipe.Detector1Pipeline.rscd - INFO - Step rscd parameters are: {'pre_hooks': [], 'post_hooks': [], 'output_file': None, 'output_dir': None, 'output_ext': '.fits', 'output_use_model': False, 'output_use_index': True, 'save_results': True, 'skip': False, 'suffix': None, 'search_output_file': True, 'input_dir': '/Users/kmurray/lrs_nOPS7-OTB-20191216_simulation', 'type': 'baseline'}\n",
      "2021-07-12 13:54:37,996 - stpipe.Detector1Pipeline.rscd - INFO - Using RSCD reference file /grp/crds/cache/references/jwst/jwst_miri_rscd_0010.fits\n",
      "2021-07-12 13:54:38,739 - stpipe.Detector1Pipeline.rscd - INFO - Saved model in mirisimv2.3sim_correctdither/detector1/miri_lrs_slit_pt_nod2_v2.3_rscd.fits\n",
      "2021-07-12 13:54:38,740 - stpipe.Detector1Pipeline.rscd - INFO - Step rscd done\n",
      "2021-07-12 13:54:38,806 - stpipe.Detector1Pipeline.dark_current - INFO - Step dark_current running with args (<RampModel(2, 10, 1024, 1032) from miri_lrs_slit_pt_nod2_v2.3_rscd.fits>,).\n",
      "2021-07-12 13:54:38,808 - stpipe.Detector1Pipeline.dark_current - INFO - Step dark_current parameters are: {'pre_hooks': [], 'post_hooks': [], 'output_file': None, 'output_dir': 'mirisimv2.3sim_correctdither/detector1/', 'output_ext': '.fits', 'output_use_model': False, 'output_use_index': True, 'save_results': True, 'skip': False, 'suffix': None, 'search_output_file': True, 'input_dir': '/Users/kmurray/lrs_nOPS7-OTB-20191216_simulation', 'dark_output': None}\n",
      "2021-07-12 13:54:38,896 - stpipe.Detector1Pipeline.dark_current - INFO - Using DARK reference file /grp/crds/cache/references/jwst/jwst_miri_dark_0058.fits\n",
      "2021-07-12 13:54:46,215 - stpipe.Detector1Pipeline.dark_current - INFO - Science data nints=2, ngroups=10, nframes=1, groupgap=0\n",
      "2021-07-12 13:54:46,216 - stpipe.Detector1Pipeline.dark_current - INFO - Dark data nints=2, ngroups=200, nframes=1, groupgap=0\n",
      "2021-07-12 13:54:47,167 - stpipe.Detector1Pipeline.dark_current - INFO - Saved model in mirisimv2.3sim_correctdither/detector1/miri_lrs_slit_pt_nod2_v2.3_dark_current.fits\n",
      "2021-07-12 13:54:47,168 - stpipe.Detector1Pipeline.dark_current - INFO - Step dark_current done\n",
      "2021-07-12 13:54:47,408 - stpipe.Detector1Pipeline.refpix - INFO - Step refpix running with args (<RampModel(2, 10, 1024, 1032) from miri_lrs_slit_pt_nod2_v2.3_dark_current.fits>,).\n",
      "2021-07-12 13:54:47,410 - stpipe.Detector1Pipeline.refpix - INFO - Step refpix parameters are: {'pre_hooks': [], 'post_hooks': [], 'output_file': None, 'output_dir': None, 'output_ext': '.fits', 'output_use_model': False, 'output_use_index': True, 'save_results': True, 'skip': False, 'suffix': None, 'search_output_file': True, 'input_dir': '/Users/kmurray/lrs_nOPS7-OTB-20191216_simulation', 'odd_even_columns': True, 'use_side_ref_pixels': True, 'side_smoothing_length': 11, 'side_gain': 1.0, 'odd_even_rows': True}\n",
      "2021-07-12 13:54:47,420 - stpipe.Detector1Pipeline.refpix - INFO - use_side_ref_pixels = True\n",
      "2021-07-12 13:54:47,420 - stpipe.Detector1Pipeline.refpix - INFO - odd_even_columns = True\n",
      "2021-07-12 13:54:47,421 - stpipe.Detector1Pipeline.refpix - INFO - side_smoothing_length = 11\n",
      "2021-07-12 13:54:47,421 - stpipe.Detector1Pipeline.refpix - INFO - side_gain = 1.000000\n",
      "2021-07-12 13:54:47,422 - stpipe.Detector1Pipeline.refpix - INFO - odd_even_rows = True\n",
      "2021-07-12 13:54:47,473 - stpipe.Detector1Pipeline.refpix - INFO - Subtracting initial read from each integration\n",
      "2021-07-12 13:54:47,667 - stpipe.Detector1Pipeline.refpix - INFO - Adding initial read back in\n",
      "2021-07-12 13:54:48,278 - stpipe.Detector1Pipeline.refpix - INFO - Saved model in mirisimv2.3sim_correctdither/detector1/miri_lrs_slit_pt_nod2_v2.3_refpix.fits\n",
      "2021-07-12 13:54:48,279 - stpipe.Detector1Pipeline.refpix - INFO - Step refpix done\n",
      "2021-07-12 13:54:48,343 - stpipe.Detector1Pipeline.jump - INFO - Step jump running with args (<RampModel(2, 10, 1024, 1032) from miri_lrs_slit_pt_nod2_v2.3_refpix.fits>,).\n",
      "2021-07-12 13:54:48,345 - stpipe.Detector1Pipeline.jump - INFO - Step jump parameters are: {'pre_hooks': [], 'post_hooks': [], 'output_file': None, 'output_dir': None, 'output_ext': '.fits', 'output_use_model': False, 'output_use_index': True, 'save_results': True, 'skip': False, 'suffix': None, 'search_output_file': True, 'input_dir': '/Users/kmurray/lrs_nOPS7-OTB-20191216_simulation', 'rejection_threshold': 4.0, 'maximum_cores': 'none', 'flag_4_neighbors': True, 'max_jump_to_flag_neighbors': 200.0, 'min_jump_to_flag_neighbors': 10.0}\n",
      "2021-07-12 13:54:48,357 - stpipe.Detector1Pipeline.jump - INFO - CR rejection threshold = 4 sigma\n",
      "2021-07-12 13:54:48,423 - stpipe.Detector1Pipeline.jump - INFO - Using GAIN reference file: /grp/crds/cache/references/jwst/jwst_miri_gain_0008.fits\n",
      "2021-07-12 13:54:49,455 - stpipe.Detector1Pipeline.jump - INFO - Using READNOISE reference file: /grp/crds/cache/references/jwst/jwst_miri_readnoise_0057.fits\n",
      "2021-07-12 13:54:50,223 - stpipe.Detector1Pipeline.jump - INFO - Found 16 possible cores to use for jump detection \n",
      "2021-07-12 13:54:50,304 - stpipe.Detector1Pipeline.jump - INFO - Executing two-point difference method\n",
      "2021-07-12 13:54:50,618 - stpipe.Detector1Pipeline.jump - INFO - Working on integration 1:\n",
      "2021-07-12 13:54:50,935 - stpipe.Detector1Pipeline.jump - INFO - From highest outlier Two-point found 42518 pixels with at least one CR\n",
      "2021-07-12 13:54:52,017 - stpipe.Detector1Pipeline.jump - INFO - Working on integration 2:\n",
      "2021-07-12 13:54:52,262 - stpipe.Detector1Pipeline.jump - INFO - From highest outlier Two-point found 12767 pixels with at least one CR\n",
      "2021-07-12 13:54:52,643 - stpipe.Detector1Pipeline.jump - INFO - Total elapsed time = 2.33805 sec\n",
      "2021-07-12 13:54:52,644 - stpipe.Detector1Pipeline.jump - INFO - The execution time in seconds: 4.286801\n",
      "2021-07-12 13:54:53,228 - stpipe.Detector1Pipeline.jump - INFO - Saved model in mirisimv2.3sim_correctdither/detector1/miri_lrs_slit_pt_nod2_v2.3_jump.fits\n",
      "2021-07-12 13:54:53,229 - stpipe.Detector1Pipeline.jump - INFO - Step jump done\n",
      "2021-07-12 13:54:53,292 - stpipe.Detector1Pipeline.ramp_fit - INFO - Step ramp_fit running with args (<RampModel(2, 10, 1024, 1032) from miri_lrs_slit_pt_nod2_v2.3_jump.fits>,).\n",
      "2021-07-12 13:54:53,294 - stpipe.Detector1Pipeline.ramp_fit - INFO - Step ramp_fit parameters are: {'pre_hooks': [], 'post_hooks': [], 'output_file': None, 'output_dir': 'mirisimv2.3sim_correctdither/detector1/', 'output_ext': '.fits', 'output_use_model': False, 'output_use_index': True, 'save_results': True, 'skip': False, 'suffix': None, 'search_output_file': True, 'input_dir': '/Users/kmurray/lrs_nOPS7-OTB-20191216_simulation', 'int_name': '', 'save_opt': False, 'opt_name': '', 'maximum_cores': 'none'}\n",
      "2021-07-12 13:54:53,361 - stpipe.Detector1Pipeline.ramp_fit - INFO - Using READNOISE reference file: /grp/crds/cache/references/jwst/jwst_miri_readnoise_0057.fits\n"
     ]
    },
    {
     "name": "stderr",
     "output_type": "stream",
     "text": [
      "2021-07-12 13:54:53,411 - stpipe.Detector1Pipeline.ramp_fit - INFO - Using GAIN reference file: /grp/crds/cache/references/jwst/jwst_miri_gain_0008.fits\n",
      "2021-07-12 13:54:53,463 - stpipe.Detector1Pipeline.ramp_fit - INFO - Using algorithm = ols\n",
      "2021-07-12 13:54:53,464 - stpipe.Detector1Pipeline.ramp_fit - INFO - Using weighting = optimal\n",
      "2021-07-12 13:54:53,539 - stpipe.Detector1Pipeline.ramp_fit - INFO - Number of leading groups that are flagged as DO_NOT_USE: 1\n",
      "2021-07-12 13:54:53,541 - stpipe.Detector1Pipeline.ramp_fit - INFO - MIRI dataset has all pixels in the final group flagged as DO_NOT_USE.\n",
      "2021-07-12 13:55:10,252 - stpipe.Detector1Pipeline.ramp_fit - INFO - Number of groups per integration: 10\n",
      "2021-07-12 13:55:10,252 - stpipe.Detector1Pipeline.ramp_fit - INFO - Number of integrations: 2\n",
      "2021-07-12 13:55:10,411 - stpipe.Detector1Pipeline.ramp_fit - INFO - Saved model in mirisimv2.3sim_correctdither/detector1/miri_lrs_slit_pt_nod2_v2.3_0_ramp_fit.fits\n",
      "2021-07-12 13:55:10,620 - stpipe.Detector1Pipeline.ramp_fit - INFO - Saved model in mirisimv2.3sim_correctdither/detector1/miri_lrs_slit_pt_nod2_v2.3_1_ramp_fit.fits\n",
      "2021-07-12 13:55:10,620 - stpipe.Detector1Pipeline.ramp_fit - INFO - Step ramp_fit done\n",
      "2021-07-12 13:55:10,691 - stpipe.Detector1Pipeline.gain_scale - INFO - Step gain_scale running with args (<ImageModel(1024, 1032) from miri_lrs_slit_pt_nod2_v2.3_0_ramp_fit.fits>,).\n",
      "2021-07-12 13:55:10,693 - stpipe.Detector1Pipeline.gain_scale - INFO - Step gain_scale parameters are: {'pre_hooks': [], 'post_hooks': [], 'output_file': None, 'output_dir': None, 'output_ext': '.fits', 'output_use_model': False, 'output_use_index': True, 'save_results': True, 'skip': False, 'suffix': 'gain_scale', 'search_output_file': True, 'input_dir': '/Users/kmurray/lrs_nOPS7-OTB-20191216_simulation'}\n",
      "2021-07-12 13:55:10,789 - stpipe.Detector1Pipeline.gain_scale - INFO - GAINFACT not found in gain reference file\n",
      "2021-07-12 13:55:10,790 - stpipe.Detector1Pipeline.gain_scale - INFO - Step will be skipped\n",
      "2021-07-12 13:55:10,898 - stpipe.Detector1Pipeline.gain_scale - INFO - Saved model in mirisimv2.3sim_correctdither/detector1/miri_lrs_slit_pt_nod2_v2.3_gain_scale.fits\n",
      "2021-07-12 13:55:10,898 - stpipe.Detector1Pipeline.gain_scale - INFO - Step gain_scale done\n",
      "2021-07-12 13:55:10,955 - stpipe.Detector1Pipeline.gain_scale - INFO - Step gain_scale running with args (<CubeModel(2, 1024, 1032) from miri_lrs_slit_pt_nod2_v2.3_1_ramp_fit.fits>,).\n",
      "2021-07-12 13:55:10,957 - stpipe.Detector1Pipeline.gain_scale - INFO - Step gain_scale parameters are: {'pre_hooks': [], 'post_hooks': [], 'output_file': None, 'output_dir': None, 'output_ext': '.fits', 'output_use_model': False, 'output_use_index': True, 'save_results': True, 'skip': False, 'suffix': 'gain_scaleints', 'search_output_file': True, 'input_dir': '/Users/kmurray/lrs_nOPS7-OTB-20191216_simulation'}\n",
      "2021-07-12 13:55:11,050 - stpipe.Detector1Pipeline.gain_scale - INFO - GAINFACT not found in gain reference file\n",
      "2021-07-12 13:55:11,051 - stpipe.Detector1Pipeline.gain_scale - INFO - Step will be skipped\n",
      "2021-07-12 13:55:11,239 - stpipe.Detector1Pipeline.gain_scale - INFO - Saved model in mirisimv2.3sim_correctdither/detector1/miri_lrs_slit_pt_nod2_v2.3_gain_scaleints.fits\n",
      "2021-07-12 13:55:11,239 - stpipe.Detector1Pipeline.gain_scale - INFO - Step gain_scale done\n",
      "2021-07-12 13:55:11,240 - stpipe.Detector1Pipeline - INFO - ... ending calwebb_detector1\n",
      "2021-07-12 13:55:11,241 - stpipe.Detector1Pipeline - INFO - Step Detector1Pipeline done\n"
     ]
    }
   ],
   "source": [
    "det_nod1 = Detector1Pipeline.call(Slitfile1, config_file='configfiles/calwebb_detector1.cfg', output_dir='mirisimv2.3sim_correctdither/detector1/')\n",
    "det_nod2 = Detector1Pipeline.call(Slitfile2, config_file='configfiles/calwebb_detector1.cfg', output_dir='mirisimv2.3sim_correctdither/detector1/')"
   ]
  },
  {
   "cell_type": "code",
   "execution_count": 4,
   "metadata": {},
   "outputs": [
    {
     "name": "stderr",
     "output_type": "stream",
     "text": [
      "2021-07-12 13:55:11,246 - stpipe - WARNING - /Users/kmurray/anaconda3/envs/jwst7.7.1/lib/python3.9/site-packages/ipykernel/ipkernel.py:283: DeprecationWarning: `should_run_async` will not call `transform_cell` automatically in the future. Please pass the result to `transformed_cell` argument and any exception that happen during thetransform in `preprocessing_exc_tuple` in IPython 7.17 and above.\n",
      "  and should_run_async(code)\n",
      "\n",
      "2021-07-12 13:55:11,417 - stpipe.Spec2Pipeline - INFO - Spec2Pipeline instance created.\n",
      "2021-07-12 13:55:11,418 - stpipe.Spec2Pipeline.bkg_subtract - INFO - BackgroundStep instance created.\n",
      "2021-07-12 13:55:11,420 - stpipe.Spec2Pipeline.assign_wcs - INFO - AssignWcsStep instance created.\n",
      "2021-07-12 13:55:11,421 - stpipe.Spec2Pipeline.imprint_subtract - INFO - ImprintStep instance created.\n",
      "2021-07-12 13:55:11,423 - stpipe.Spec2Pipeline.msa_flagging - INFO - MSAFlagOpenStep instance created.\n",
      "2021-07-12 13:55:11,424 - stpipe.Spec2Pipeline.extract_2d - INFO - Extract2dStep instance created.\n",
      "2021-07-12 13:55:11,429 - stpipe.Spec2Pipeline.master_background - INFO - MasterBackgroundNrsSlitsStep instance created.\n",
      "2021-07-12 13:55:11,430 - stpipe.Spec2Pipeline.master_background.flat_field - INFO - FlatFieldStep instance created.\n",
      "2021-07-12 13:55:11,432 - stpipe.Spec2Pipeline.master_background.pathloss - INFO - PathLossStep instance created.\n",
      "2021-07-12 13:55:11,433 - stpipe.Spec2Pipeline.master_background.barshadow - INFO - BarShadowStep instance created.\n",
      "2021-07-12 13:55:11,435 - stpipe.Spec2Pipeline.master_background.photom - INFO - PhotomStep instance created.\n",
      "2021-07-12 13:55:11,436 - stpipe.Spec2Pipeline.wavecorr - INFO - WavecorrStep instance created.\n",
      "2021-07-12 13:55:11,438 - stpipe.Spec2Pipeline.flat_field - INFO - FlatFieldStep instance created.\n",
      "2021-07-12 13:55:11,439 - stpipe.Spec2Pipeline.srctype - INFO - SourceTypeStep instance created.\n",
      "2021-07-12 13:55:11,440 - stpipe.Spec2Pipeline.straylight - INFO - StraylightStep instance created.\n",
      "2021-07-12 13:55:11,442 - stpipe.Spec2Pipeline.fringe - INFO - FringeStep instance created.\n",
      "2021-07-12 13:55:11,443 - stpipe.Spec2Pipeline.pathloss - INFO - PathLossStep instance created.\n",
      "2021-07-12 13:55:11,444 - stpipe.Spec2Pipeline.barshadow - INFO - BarShadowStep instance created.\n",
      "2021-07-12 13:55:11,445 - stpipe.Spec2Pipeline.photom - INFO - PhotomStep instance created.\n",
      "2021-07-12 13:55:11,447 - stpipe.Spec2Pipeline.resample_spec - INFO - ResampleSpecStep instance created.\n",
      "2021-07-12 13:55:11,449 - stpipe.Spec2Pipeline.cube_build - INFO - CubeBuildStep instance created.\n",
      "2021-07-12 13:55:11,451 - stpipe.Spec2Pipeline.extract_1d - INFO - Extract1dStep instance created.\n",
      "2021-07-12 13:55:11,516 - stpipe.Spec2Pipeline - INFO - Step Spec2Pipeline running with args (<ImageModel(1024, 1032) from miri_lrs_slit_pt_nod1_v2.3_gain_scale.fits>,).\n",
      "2021-07-12 13:55:11,532 - stpipe.Spec2Pipeline - INFO - Step Spec2Pipeline parameters are: {'pre_hooks': [], 'post_hooks': [], 'output_file': None, 'output_dir': None, 'output_ext': '.fits', 'output_use_model': False, 'output_use_index': True, 'save_results': True, 'skip': False, 'suffix': None, 'search_output_file': True, 'input_dir': '', 'save_bsub': False, 'fail_on_exception': True, 'steps': {'bkg_subtract': {'pre_hooks': [], 'post_hooks': [], 'output_file': None, 'output_dir': None, 'output_ext': '.fits', 'output_use_model': False, 'output_use_index': True, 'save_results': False, 'skip': False, 'suffix': None, 'search_output_file': True, 'input_dir': '', 'sigma': 3.0, 'maxiters': None}, 'assign_wcs': {'pre_hooks': [], 'post_hooks': [], 'output_file': None, 'output_dir': None, 'output_ext': '.fits', 'output_use_model': False, 'output_use_index': True, 'save_results': False, 'skip': False, 'suffix': None, 'search_output_file': True, 'input_dir': '', 'sip_approx': True, 'sip_max_pix_error': 0.25, 'sip_degree': None, 'sip_max_inv_pix_error': 0.25, 'sip_inv_degree': None, 'sip_npoints': 32, 'slit_y_low': -0.55, 'slit_y_high': 0.55}, 'imprint_subtract': {'pre_hooks': [], 'post_hooks': [], 'output_file': None, 'output_dir': None, 'output_ext': '.fits', 'output_use_model': False, 'output_use_index': True, 'save_results': False, 'skip': False, 'suffix': None, 'search_output_file': True, 'input_dir': ''}, 'msa_flagging': {'pre_hooks': [], 'post_hooks': [], 'output_file': None, 'output_dir': None, 'output_ext': '.fits', 'output_use_model': False, 'output_use_index': True, 'save_results': False, 'skip': False, 'suffix': None, 'search_output_file': True, 'input_dir': ''}, 'extract_2d': {'pre_hooks': [], 'post_hooks': [], 'output_file': None, 'output_dir': None, 'output_ext': '.fits', 'output_use_model': False, 'output_use_index': True, 'save_results': False, 'skip': False, 'suffix': None, 'search_output_file': True, 'input_dir': '', 'slit_name': None, 'extract_orders': None, 'tsgrism_extract_height': None, 'wfss_extract_half_height': 5, 'grism_objects': None, 'mmag_extract': 99.0}, 'master_background': {'pre_hooks': [], 'post_hooks': [], 'output_file': None, 'output_dir': None, 'output_ext': '.fits', 'output_use_model': True, 'output_use_index': True, 'save_results': False, 'skip': False, 'suffix': None, 'search_output_file': True, 'input_dir': '', 'force_subtract': False, 'save_background': False, 'user_background': None, 'inverse': False, 'steps': {'flat_field': {'pre_hooks': [], 'post_hooks': [], 'output_file': None, 'output_dir': None, 'output_ext': '.fits', 'output_use_model': False, 'output_use_index': True, 'save_results': False, 'skip': False, 'suffix': None, 'search_output_file': True, 'input_dir': '', 'save_interpolated_flat': False, 'user_supplied_flat': None, 'inverse': False}, 'pathloss': {'pre_hooks': [], 'post_hooks': [], 'output_file': None, 'output_dir': None, 'output_ext': '.fits', 'output_use_model': False, 'output_use_index': True, 'save_results': False, 'skip': False, 'suffix': None, 'search_output_file': True, 'input_dir': '', 'inverse': False, 'source_type': None}, 'barshadow': {'pre_hooks': [], 'post_hooks': [], 'output_file': None, 'output_dir': None, 'output_ext': '.fits', 'output_use_model': False, 'output_use_index': True, 'save_results': False, 'skip': False, 'suffix': None, 'search_output_file': True, 'input_dir': '', 'inverse': False, 'source_type': None}, 'photom': {'pre_hooks': [], 'post_hooks': [], 'output_file': None, 'output_dir': None, 'output_ext': '.fits', 'output_use_model': False, 'output_use_index': True, 'save_results': False, 'skip': False, 'suffix': None, 'search_output_file': True, 'input_dir': '', 'inverse': False, 'source_type': None}}}, 'wavecorr': {'pre_hooks': [], 'post_hooks': [], 'output_file': None, 'output_dir': None, 'output_ext': '.fits', 'output_use_model': False, 'output_use_index': True, 'save_results': False, 'skip': False, 'suffix': None, 'search_output_file': True, 'input_dir': ''}, 'flat_field': {'pre_hooks': [], 'post_hooks': [], 'output_file': None, 'output_dir': None, 'output_ext': '.fits', 'output_use_model': False, 'output_use_index': True, 'save_results': False, 'skip': False, 'suffix': None, 'search_output_file': True, 'input_dir': '', 'save_interpolated_flat': False, 'user_supplied_flat': None, 'inverse': False}, 'srctype': {'pre_hooks': [], 'post_hooks': [], 'output_file': None, 'output_dir': None, 'output_ext': '.fits', 'output_use_model': False, 'output_use_index': True, 'save_results': False, 'skip': False, 'suffix': None, 'search_output_file': True, 'input_dir': ''}, 'straylight': {'pre_hooks': [], 'post_hooks': [], 'output_file': None, 'output_dir': None, 'output_ext': '.fits', 'output_use_model': False, 'output_use_index': True, 'save_results': False, 'skip': False, 'suffix': None, 'search_output_file': True, 'input_dir': '', 'method': 'ModShepard', 'roi': 50, 'power': 1.0}, 'fringe': {'pre_hooks': [], 'post_hooks': [], 'output_file': None, 'output_dir': None, 'output_ext': '.fits', 'output_use_model': False, 'output_use_index': True, 'save_results': False, 'skip': False, 'suffix': None, 'search_output_file': True, 'input_dir': ''}, 'pathloss': {'pre_hooks': [], 'post_hooks': [], 'output_file': None, 'output_dir': None, 'output_ext': '.fits', 'output_use_model': False, 'output_use_index': True, 'save_results': False, 'skip': False, 'suffix': None, 'search_output_file': True, 'input_dir': '', 'inverse': False, 'source_type': None}, 'barshadow': {'pre_hooks': [], 'post_hooks': [], 'output_file': None, 'output_dir': None, 'output_ext': '.fits', 'output_use_model': False, 'output_use_index': True, 'save_results': False, 'skip': False, 'suffix': None, 'search_output_file': True, 'input_dir': '', 'inverse': False, 'source_type': None}, 'photom': {'pre_hooks': [], 'post_hooks': [], 'output_file': None, 'output_dir': None, 'output_ext': '.fits', 'output_use_model': False, 'output_use_index': True, 'save_results': False, 'skip': False, 'suffix': None, 'search_output_file': True, 'input_dir': '', 'inverse': False, 'source_type': None}, 'resample_spec': {'pre_hooks': [], 'post_hooks': [], 'output_file': None, 'output_dir': None, 'output_ext': '.fits', 'output_use_model': False, 'output_use_index': True, 'save_results': False, 'skip': False, 'suffix': None, 'search_output_file': True, 'input_dir': '', 'pixfrac': 1.0, 'kernel': 'square', 'fillval': 'INDEF', 'weight_type': 'ivm', 'pixel_scale_ratio': 1.0, 'single': False, 'blendheaders': True, 'allowed_memory': None}, 'cube_build': {'pre_hooks': [], 'post_hooks': [], 'output_file': None, 'output_dir': None, 'output_ext': '.fits', 'output_use_model': True, 'output_use_index': True, 'save_results': False, 'skip': False, 'suffix': None, 'search_output_file': False, 'input_dir': '', 'channel': 'all', 'band': 'all', 'grating': 'all', 'filter': 'all', 'output_type': 'band', 'scale1': 0.0, 'scale2': 0.0, 'scalew': 0.0, 'weighting': 'emsm', 'coord_system': 'skyalign', 'rois': 0.0, 'roiw': 0.0, 'weight_power': 2.0, 'wavemin': None, 'wavemax': None, 'single': False, 'xdebug': None, 'ydebug': None, 'zdebug': None, 'skip_dqflagging': False}, 'extract_1d': {'pre_hooks': [], 'post_hooks': [], 'output_file': None, 'output_dir': None, 'output_ext': '.fits', 'output_use_model': False, 'output_use_index': True, 'save_results': False, 'skip': False, 'suffix': None, 'search_output_file': True, 'input_dir': '', 'smoothing_length': None, 'bkg_fit': 'poly', 'bkg_order': None, 'bkg_sigma_clip': 3.0, 'log_increment': 50, 'subtract_background': None, 'use_source_posn': None, 'apply_apcorr': True}}}\n"
     ]
    },
    {
     "name": "stderr",
     "output_type": "stream",
     "text": [
      "2021-07-12 13:55:11,543 - stpipe.Spec2Pipeline - INFO - Prefetching reference files for dataset: 'miri_lrs_slit_pt_nod1_v2.3_gain_scale.fits' reftypes = ['apcorr', 'area', 'barshadow', 'camera', 'collimator', 'cubepar', 'dflat', 'disperser', 'distortion', 'drizpars', 'extract1d', 'fflat', 'filteroffset', 'flat', 'fore', 'fpa', 'fringe', 'ifufore', 'ifupost', 'ifuslicer', 'msa', 'msaoper', 'ote', 'pathloss', 'photom', 'regions', 'resol', 'sflat', 'specwcs', 'wavecorr', 'wavelengthrange', 'wfssbkg']\n",
      "2021-07-12 13:55:11,673 - stpipe.Spec2Pipeline - INFO - Prefetch for APCORR reference file is '/grp/crds/cache/references/jwst/jwst_miri_apcorr_0007.fits'.\n",
      "2021-07-12 13:55:11,705 - stpipe.Spec2Pipeline - INFO - Prefetch for AREA reference file is 'N/A'.\n",
      "2021-07-12 13:55:11,706 - stpipe.Spec2Pipeline - INFO - Prefetch for BARSHADOW reference file is 'N/A'.\n",
      "2021-07-12 13:55:11,707 - stpipe.Spec2Pipeline - INFO - Prefetch for CAMERA reference file is 'N/A'.\n",
      "2021-07-12 13:55:11,707 - stpipe.Spec2Pipeline - INFO - Prefetch for COLLIMATOR reference file is 'N/A'.\n",
      "2021-07-12 13:55:11,708 - stpipe.Spec2Pipeline - INFO - Prefetch for CUBEPAR reference file is 'N/A'.\n",
      "2021-07-12 13:55:11,708 - stpipe.Spec2Pipeline - INFO - Prefetch for DFLAT reference file is 'N/A'.\n",
      "2021-07-12 13:55:11,709 - stpipe.Spec2Pipeline - INFO - Prefetch for DISPERSER reference file is 'N/A'.\n",
      "2021-07-12 13:55:11,709 - stpipe.Spec2Pipeline - INFO - Prefetch for DISTORTION reference file is '/grp/crds/cache/references/jwst/jwst_miri_distortion_0028.asdf'.\n",
      "2021-07-12 13:55:11,746 - stpipe.Spec2Pipeline - INFO - Prefetch for DRIZPARS reference file is '/grp/crds/cache/references/jwst/jwst_miri_drizpars_0001.fits'.\n",
      "2021-07-12 13:55:11,779 - stpipe.Spec2Pipeline - INFO - Prefetch for EXTRACT1D reference file is '/grp/crds/cache/references/jwst/jwst_miri_extract1d_0004.json'.\n",
      "2021-07-12 13:55:11,812 - stpipe.Spec2Pipeline - INFO - Prefetch for FFLAT reference file is 'N/A'.\n",
      "2021-07-12 13:55:11,812 - stpipe.Spec2Pipeline - INFO - Prefetch for FILTEROFFSET reference file is 'N/A'.\n",
      "2021-07-12 13:55:11,813 - stpipe.Spec2Pipeline - INFO - Prefetch for FLAT reference file is '/grp/crds/cache/references/jwst/jwst_miri_flat_0472.fits'.\n",
      "2021-07-12 13:55:11,850 - stpipe.Spec2Pipeline - INFO - Prefetch for FORE reference file is 'N/A'.\n",
      "2021-07-12 13:55:11,850 - stpipe.Spec2Pipeline - INFO - Prefetch for FPA reference file is 'N/A'.\n",
      "2021-07-12 13:55:11,851 - stpipe.Spec2Pipeline - INFO - Prefetch for FRINGE reference file is 'N/A'.\n",
      "2021-07-12 13:55:11,851 - stpipe.Spec2Pipeline - INFO - Prefetch for IFUFORE reference file is 'N/A'.\n",
      "2021-07-12 13:55:11,852 - stpipe.Spec2Pipeline - INFO - Prefetch for IFUPOST reference file is 'N/A'.\n",
      "2021-07-12 13:55:11,852 - stpipe.Spec2Pipeline - INFO - Prefetch for IFUSLICER reference file is 'N/A'.\n",
      "2021-07-12 13:55:11,853 - stpipe.Spec2Pipeline - INFO - Prefetch for MSA reference file is 'N/A'.\n",
      "2021-07-12 13:55:11,853 - stpipe.Spec2Pipeline - INFO - Prefetch for MSAOPER reference file is 'N/A'.\n",
      "2021-07-12 13:55:11,854 - stpipe.Spec2Pipeline - INFO - Prefetch for OTE reference file is 'N/A'.\n",
      "2021-07-12 13:55:11,855 - stpipe.Spec2Pipeline - INFO - Prefetch for PATHLOSS reference file is 'N/A'.\n",
      "2021-07-12 13:55:11,855 - stpipe.Spec2Pipeline - INFO - Prefetch for PHOTOM reference file is '/grp/crds/cache/references/jwst/jwst_miri_photom_0072.fits'.\n",
      "2021-07-12 13:55:11,891 - stpipe.Spec2Pipeline - INFO - Prefetch for REGIONS reference file is 'N/A'.\n",
      "2021-07-12 13:55:11,891 - stpipe.Spec2Pipeline - INFO - Prefetch for RESOL reference file is 'N/A'.\n",
      "2021-07-12 13:55:11,892 - stpipe.Spec2Pipeline - INFO - Prefetch for SFLAT reference file is 'N/A'.\n",
      "2021-07-12 13:55:11,892 - stpipe.Spec2Pipeline - INFO - Prefetch for SPECWCS reference file is '/grp/crds/cache/references/jwst/jwst_miri_specwcs_0003.fits'.\n",
      "2021-07-12 13:55:11,926 - stpipe.Spec2Pipeline - INFO - Prefetch for WAVECORR reference file is 'N/A'.\n",
      "2021-07-12 13:55:11,927 - stpipe.Spec2Pipeline - INFO - Prefetch for WAVELENGTHRANGE reference file is 'N/A'.\n",
      "2021-07-12 13:55:11,927 - stpipe.Spec2Pipeline - INFO - Prefetch for WFSSBKG reference file is 'N/A'.\n",
      "2021-07-12 13:55:11,927 - stpipe.Spec2Pipeline - INFO - Starting calwebb_spec2 ...\n",
      "2021-07-12 13:55:11,949 - stpipe.Spec2Pipeline - INFO - Processing product miri_lrs_slit_pt_nod1_v2.3_gain_scale\n",
      "2021-07-12 13:55:11,950 - stpipe.Spec2Pipeline - INFO - Working on input <ImageModel(1024, 1032) from miri_lrs_slit_pt_nod1_v2.3_gain_scale.fits> ...\n",
      "2021-07-12 13:55:12,006 - stpipe.Spec2Pipeline.assign_wcs - INFO - Step assign_wcs running with args (<ImageModel(1024, 1032) from miri_lrs_slit_pt_nod1_v2.3_gain_scale.fits>,).\n",
      "2021-07-12 13:55:12,008 - stpipe.Spec2Pipeline.assign_wcs - INFO - Step assign_wcs parameters are: {'pre_hooks': [], 'post_hooks': [], 'output_file': None, 'output_dir': None, 'output_ext': '.fits', 'output_use_model': False, 'output_use_index': True, 'save_results': False, 'skip': False, 'suffix': None, 'search_output_file': True, 'input_dir': '', 'sip_approx': True, 'sip_max_pix_error': 0.25, 'sip_degree': None, 'sip_max_inv_pix_error': 0.25, 'sip_inv_degree': None, 'sip_npoints': 32, 'slit_y_low': -0.55, 'slit_y_high': 0.55}\n",
      "2021-07-12 13:55:13,424 - stpipe.Spec2Pipeline.assign_wcs - INFO - Created a MIRI mir_lrs-fixedslit pipeline with references {'distortion': '/grp/crds/cache/references/jwst/jwst_miri_distortion_0028.asdf', 'filteroffset': None, 'specwcs': '/grp/crds/cache/references/jwst/jwst_miri_specwcs_0003.fits', 'regions': None, 'wavelengthrange': None, 'camera': None, 'collimator': None, 'disperser': None, 'fore': None, 'fpa': None, 'msa': None, 'ote': None, 'ifupost': None, 'ifufore': None, 'ifuslicer': None}\n",
      "2021-07-12 13:55:13,488 - stpipe.Spec2Pipeline.assign_wcs - WARNING - /Users/kmurray/anaconda3/envs/jwst7.7.1/lib/python3.9/site-packages/gwcs/utils.py:72: DeprecationWarning: `np.int` is a deprecated alias for the builtin `int`. To silence this warning, use `int` by itself. Doing this will not modify any behavior and is safe. When replacing `np.int`, you may wish to use e.g. `np.int64` or `np.int32` to specify the precision. If you wish to review your current use, check the release note link for additional information.\n",
      "Deprecated in NumPy 1.20; for more details and guidance: https://numpy.org/devdocs/release/1.20.0-notes.html#deprecations\n",
      "  indx = np.asarray(np.floor(np.asarray(value) + 0.5), dtype=np.int)\n",
      "\n",
      "2021-07-12 13:55:13,493 - stpipe.Spec2Pipeline.assign_wcs - INFO - Update S_REGION to POLYGON ICRS  0.000379612 -0.000035778 0.000379612 0.000080412 359.999082432 0.000080412 359.999082432 -0.000035778\n",
      "2021-07-12 13:55:13,494 - stpipe.Spec2Pipeline.assign_wcs - INFO - assign_wcs updated S_REGION to POLYGON ICRS  0.000379612 -0.000035778 0.000379612 0.000080412 359.999082432 0.000080412 359.999082432 -0.000035778\n",
      "2021-07-12 13:55:13,494 - stpipe.Spec2Pipeline.assign_wcs - INFO - COMPLETED assign_wcs\n",
      "2021-07-12 13:55:13,499 - stpipe.Spec2Pipeline.assign_wcs - INFO - Step assign_wcs done\n",
      "2021-07-12 13:55:13,560 - stpipe.Spec2Pipeline.bkg_subtract - INFO - Step bkg_subtract running with args (<ImageModel(1024, 1032) from miri_lrs_slit_pt_nod1_v2.3_gain_scale.fits>, []).\n",
      "2021-07-12 13:55:13,562 - stpipe.Spec2Pipeline.bkg_subtract - INFO - Step bkg_subtract parameters are: {'pre_hooks': [], 'post_hooks': [], 'output_file': None, 'output_dir': None, 'output_ext': '.fits', 'output_use_model': False, 'output_use_index': True, 'save_results': False, 'skip': True, 'suffix': None, 'search_output_file': True, 'input_dir': '', 'sigma': 3.0, 'maxiters': None}\n",
      "2021-07-12 13:55:13,562 - stpipe.Spec2Pipeline.bkg_subtract - INFO - Step skipped.\n",
      "2021-07-12 13:55:13,563 - stpipe.Spec2Pipeline.bkg_subtract - INFO - Step bkg_subtract done\n",
      "2021-07-12 13:55:13,623 - stpipe.Spec2Pipeline.imprint_subtract - INFO - Step imprint_subtract running with args (<ImageModel(1024, 1032) from miri_lrs_slit_pt_nod1_v2.3_gain_scale.fits>, []).\n",
      "2021-07-12 13:55:13,625 - stpipe.Spec2Pipeline.imprint_subtract - INFO - Step imprint_subtract parameters are: {'pre_hooks': [], 'post_hooks': [], 'output_file': None, 'output_dir': None, 'output_ext': '.fits', 'output_use_model': False, 'output_use_index': True, 'save_results': False, 'skip': True, 'suffix': None, 'search_output_file': True, 'input_dir': ''}\n"
     ]
    },
    {
     "name": "stderr",
     "output_type": "stream",
     "text": [
      "2021-07-12 13:55:13,625 - stpipe.Spec2Pipeline.imprint_subtract - INFO - Step skipped.\n",
      "2021-07-12 13:55:13,626 - stpipe.Spec2Pipeline.imprint_subtract - INFO - Step imprint_subtract done\n",
      "2021-07-12 13:55:13,687 - stpipe.Spec2Pipeline.msa_flagging - INFO - Step msa_flagging running with args (<ImageModel(1024, 1032) from miri_lrs_slit_pt_nod1_v2.3_gain_scale.fits>,).\n",
      "2021-07-12 13:55:13,689 - stpipe.Spec2Pipeline.msa_flagging - INFO - Step msa_flagging parameters are: {'pre_hooks': [], 'post_hooks': [], 'output_file': None, 'output_dir': None, 'output_ext': '.fits', 'output_use_model': False, 'output_use_index': True, 'save_results': False, 'skip': True, 'suffix': None, 'search_output_file': True, 'input_dir': ''}\n",
      "2021-07-12 13:55:13,690 - stpipe.Spec2Pipeline.msa_flagging - INFO - Step skipped.\n",
      "2021-07-12 13:55:13,691 - stpipe.Spec2Pipeline.msa_flagging - INFO - Step msa_flagging done\n",
      "2021-07-12 13:55:13,754 - stpipe.Spec2Pipeline.srctype - INFO - Step srctype running with args (<ImageModel(1024, 1032) from miri_lrs_slit_pt_nod1_v2.3_gain_scale.fits>,).\n",
      "2021-07-12 13:55:13,755 - stpipe.Spec2Pipeline.srctype - INFO - Step srctype parameters are: {'pre_hooks': [], 'post_hooks': [], 'output_file': None, 'output_dir': None, 'output_ext': '.fits', 'output_use_model': False, 'output_use_index': True, 'save_results': False, 'skip': False, 'suffix': None, 'search_output_file': True, 'input_dir': ''}\n",
      "2021-07-12 13:55:13,766 - stpipe.Spec2Pipeline.srctype - INFO - Input EXP_TYPE is MIR_LRS-FIXEDSLIT\n",
      "2021-07-12 13:55:13,767 - stpipe.Spec2Pipeline.srctype - INFO - Input SRCTYAPT = None\n",
      "2021-07-12 13:55:13,767 - stpipe.Spec2Pipeline.srctype - WARNING - SRCTYAPT keyword not found in input; using SRCTYPE instead\n",
      "2021-07-12 13:55:13,768 - stpipe.Spec2Pipeline.srctype - INFO - Input source type is unknown; setting default SRCTYPE = POINT\n",
      "2021-07-12 13:55:13,769 - stpipe.Spec2Pipeline.srctype - INFO - Step srctype done\n",
      "2021-07-12 13:55:13,831 - stpipe.Spec2Pipeline.flat_field - INFO - Step flat_field running with args (<ImageModel(1024, 1032) from miri_lrs_slit_pt_nod1_v2.3_gain_scale.fits>,).\n",
      "2021-07-12 13:55:13,832 - stpipe.Spec2Pipeline.flat_field - INFO - Step flat_field parameters are: {'pre_hooks': [], 'post_hooks': [], 'output_file': None, 'output_dir': None, 'output_ext': '.fits', 'output_use_model': False, 'output_use_index': True, 'save_results': False, 'skip': False, 'suffix': None, 'search_output_file': True, 'input_dir': '', 'save_interpolated_flat': False, 'user_supplied_flat': None, 'inverse': False}\n",
      "2021-07-12 13:55:17,013 - stpipe.Spec2Pipeline.flat_field - WARNING - Keyword CDP_PARTIAL_DATA does not correspond to an existing DQ mnemonic, so will be ignored\n",
      "2021-07-12 13:55:17,014 - stpipe.Spec2Pipeline.flat_field - WARNING - Keyword CDP_LOW_QUAL does not correspond to an existing DQ mnemonic, so will be ignored\n",
      "2021-07-12 13:55:17,014 - stpipe.Spec2Pipeline.flat_field - WARNING - Keyword CDP_UNRELIABLE_ERROR does not correspond to an existing DQ mnemonic, so will be ignored\n",
      "2021-07-12 13:55:17,035 - stpipe.Spec2Pipeline.flat_field - WARNING - Keyword DIFF_PATTERN does not correspond to an existing DQ mnemonic, so will be ignored\n",
      "2021-07-12 13:55:17,146 - stpipe.Spec2Pipeline.flat_field - INFO - Step flat_field done\n",
      "2021-07-12 13:55:17,208 - stpipe.Spec2Pipeline.straylight - INFO - Step straylight running with args (<ImageModel(1024, 1032) from miri_lrs_slit_pt_nod1_v2.3_gain_scale.fits>,).\n",
      "2021-07-12 13:55:17,210 - stpipe.Spec2Pipeline.straylight - INFO - Step straylight parameters are: {'pre_hooks': [], 'post_hooks': [], 'output_file': None, 'output_dir': None, 'output_ext': '.fits', 'output_use_model': False, 'output_use_index': True, 'save_results': False, 'skip': True, 'suffix': None, 'search_output_file': True, 'input_dir': '', 'method': 'ModShepard', 'roi': 50, 'power': 1.0}\n",
      "2021-07-12 13:55:17,211 - stpipe.Spec2Pipeline.straylight - INFO - Step skipped.\n",
      "2021-07-12 13:55:17,212 - stpipe.Spec2Pipeline.straylight - INFO - Step straylight done\n",
      "2021-07-12 13:55:17,275 - stpipe.Spec2Pipeline.fringe - INFO - Step fringe running with args (<ImageModel(1024, 1032) from miri_lrs_slit_pt_nod1_v2.3_gain_scale.fits>,).\n",
      "2021-07-12 13:55:17,277 - stpipe.Spec2Pipeline.fringe - INFO - Step fringe parameters are: {'pre_hooks': [], 'post_hooks': [], 'output_file': None, 'output_dir': None, 'output_ext': '.fits', 'output_use_model': False, 'output_use_index': True, 'save_results': False, 'skip': True, 'suffix': None, 'search_output_file': True, 'input_dir': ''}\n",
      "2021-07-12 13:55:17,278 - stpipe.Spec2Pipeline.fringe - INFO - Step skipped.\n",
      "2021-07-12 13:55:17,279 - stpipe.Spec2Pipeline.fringe - INFO - Step fringe done\n",
      "2021-07-12 13:55:17,339 - stpipe.Spec2Pipeline.pathloss - INFO - Step pathloss running with args (<ImageModel(1024, 1032) from miri_lrs_slit_pt_nod1_v2.3_gain_scale.fits>,).\n",
      "2021-07-12 13:55:17,341 - stpipe.Spec2Pipeline.pathloss - INFO - Step pathloss parameters are: {'pre_hooks': [], 'post_hooks': [], 'output_file': None, 'output_dir': None, 'output_ext': '.fits', 'output_use_model': False, 'output_use_index': True, 'save_results': False, 'skip': True, 'suffix': None, 'search_output_file': True, 'input_dir': '', 'inverse': False, 'source_type': None}\n",
      "2021-07-12 13:55:17,342 - stpipe.Spec2Pipeline.pathloss - INFO - Step skipped.\n",
      "2021-07-12 13:55:17,343 - stpipe.Spec2Pipeline.pathloss - INFO - Step pathloss done\n",
      "2021-07-12 13:55:17,402 - stpipe.Spec2Pipeline.barshadow - INFO - Step barshadow running with args (<ImageModel(1024, 1032) from miri_lrs_slit_pt_nod1_v2.3_gain_scale.fits>,).\n",
      "2021-07-12 13:55:17,404 - stpipe.Spec2Pipeline.barshadow - INFO - Step barshadow parameters are: {'pre_hooks': [], 'post_hooks': [], 'output_file': None, 'output_dir': None, 'output_ext': '.fits', 'output_use_model': False, 'output_use_index': True, 'save_results': False, 'skip': True, 'suffix': None, 'search_output_file': True, 'input_dir': '', 'inverse': False, 'source_type': None}\n",
      "2021-07-12 13:55:17,405 - stpipe.Spec2Pipeline.barshadow - INFO - Step skipped.\n",
      "2021-07-12 13:55:17,405 - stpipe.Spec2Pipeline.barshadow - INFO - Step barshadow done\n",
      "2021-07-12 13:55:17,465 - stpipe.Spec2Pipeline.photom - INFO - Step photom running with args (<ImageModel(1024, 1032) from miri_lrs_slit_pt_nod1_v2.3_gain_scale.fits>,).\n",
      "2021-07-12 13:55:17,467 - stpipe.Spec2Pipeline.photom - INFO - Step photom parameters are: {'pre_hooks': [], 'post_hooks': [], 'output_file': None, 'output_dir': None, 'output_ext': '.fits', 'output_use_model': False, 'output_use_index': True, 'save_results': False, 'skip': False, 'suffix': None, 'search_output_file': True, 'input_dir': '', 'inverse': False, 'source_type': None}\n",
      "2021-07-12 13:55:17,527 - stpipe.Spec2Pipeline.photom - INFO - Using photom reference file: /grp/crds/cache/references/jwst/jwst_miri_photom_0072.fits\n",
      "2021-07-12 13:55:17,528 - stpipe.Spec2Pipeline.photom - INFO - Using area reference file: N/A\n",
      "2021-07-12 13:55:17,600 - stpipe.Spec2Pipeline.photom - INFO - Using instrument: MIRI\n",
      "2021-07-12 13:55:17,600 - stpipe.Spec2Pipeline.photom - INFO -  detector: MIRIMAGE\n",
      "2021-07-12 13:55:17,601 - stpipe.Spec2Pipeline.photom - INFO -  exp_type: MIR_LRS-FIXEDSLIT\n",
      "2021-07-12 13:55:17,601 - stpipe.Spec2Pipeline.photom - INFO -  filter: P750L\n",
      "2021-07-12 13:55:17,711 - stpipe.Spec2Pipeline.photom - INFO -  subarray: FULL\n",
      "2021-07-12 13:55:17,712 - stpipe.Spec2Pipeline.photom - INFO - PHOTMJSR value: 60.567\n",
      "2021-07-12 13:55:17,789 - stpipe.Spec2Pipeline.photom - INFO - Step photom done\n",
      "2021-07-12 13:55:17,850 - stpipe.Spec2Pipeline.resample_spec - INFO - Step resample_spec running with args (<ImageModel(1024, 1032) from miri_lrs_slit_pt_nod1_v2_cal.fits>,).\n",
      "2021-07-12 13:55:17,851 - stpipe.Spec2Pipeline.resample_spec - INFO - Step resample_spec parameters are: {'pre_hooks': [], 'post_hooks': [], 'output_file': None, 'output_dir': None, 'output_ext': '.fits', 'output_use_model': False, 'output_use_index': True, 'save_results': True, 'skip': False, 'suffix': 's2d', 'search_output_file': True, 'input_dir': '', 'pixfrac': 1.0, 'kernel': 'square', 'fillval': 'INDEF', 'weight_type': 'ivm', 'pixel_scale_ratio': 1.0, 'single': False, 'blendheaders': True, 'allowed_memory': None}\n"
     ]
    },
    {
     "name": "stderr",
     "output_type": "stream",
     "text": [
      "2021-07-12 13:55:18,030 - stpipe.Spec2Pipeline.resample_spec - INFO - Drizpars reference file: /grp/crds/cache/references/jwst/jwst_miri_drizpars_0001.fits\n",
      "2021-07-12 13:55:18,207 - stpipe.Spec2Pipeline.resample_spec - WARNING - /Users/kmurray/anaconda3/envs/jwst7.7.1/lib/python3.9/site-packages/jwst/resample/resample_utils.py:153: RuntimeWarning: var_rnoise array not available.  Setting drizzle weight map to 1\n",
      "  warnings.warn(\"var_rnoise array not available.  Setting drizzle weight map to 1\",\n",
      "\n",
      "2021-07-12 13:55:18,210 - stpipe.Spec2Pipeline.resample_spec - INFO - Resampling slit None (387, 44)\n",
      "2021-07-12 13:55:18,642 - stpipe.Spec2Pipeline.resample_spec - INFO - Drizzling (1024, 1032) --> (387, 44)\n",
      "2021-07-12 13:55:18,661 - stpipe.Spec2Pipeline.resample_spec - INFO - Update S_REGION to POLYGON ICRS  179.999087909 -0.000075806 180.000404817 -0.000075806 180.000404817 0.000033658 179.999087909 0.000033658\n",
      "2021-07-12 13:55:18,733 - stpipe.Spec2Pipeline.resample_spec - INFO - Saved model in miri_lrs_slit_pt_nod1_v2_s2d.fits\n",
      "2021-07-12 13:55:18,733 - stpipe.Spec2Pipeline.resample_spec - INFO - Step resample_spec done\n",
      "2021-07-12 13:55:18,795 - stpipe.Spec2Pipeline.extract_1d - INFO - Step extract_1d running with args (<SlitModel(387, 44) from miri_lrs_slit_pt_nod1_v2_s2d.fits>,).\n",
      "2021-07-12 13:55:18,797 - stpipe.Spec2Pipeline.extract_1d - INFO - Step extract_1d parameters are: {'pre_hooks': [], 'post_hooks': [], 'output_file': None, 'output_dir': None, 'output_ext': '.fits', 'output_use_model': False, 'output_use_index': True, 'save_results': True, 'skip': False, 'suffix': 'x1d', 'search_output_file': True, 'input_dir': '', 'smoothing_length': None, 'bkg_fit': 'poly', 'bkg_order': None, 'bkg_sigma_clip': 3.0, 'log_increment': 50, 'subtract_background': None, 'use_source_posn': None, 'apply_apcorr': True}\n",
      "2021-07-12 13:55:18,876 - stpipe.Spec2Pipeline.extract_1d - INFO - Using EXTRACT1D reference file /grp/crds/cache/references/jwst/jwst_miri_extract1d_0004.json\n",
      "2021-07-12 13:55:18,921 - stpipe.Spec2Pipeline.extract_1d - INFO - Using APCORR file /grp/crds/cache/references/jwst/jwst_miri_apcorr_0007.fits\n",
      "2021-07-12 13:55:19,113 - stpipe.Spec2Pipeline.extract_1d - INFO - Turning on source position correction for exp_type = MIR_LRS-FIXEDSLIT\n",
      "2021-07-12 13:55:19,114 - stpipe.Spec2Pipeline.extract_1d - WARNING - spectral_order is None; using 1\n",
      "2021-07-12 13:55:19,114 - stpipe.Spec2Pipeline.extract_1d - INFO - Processing spectral order 1\n",
      "2021-07-12 13:55:19,124 - stpipe.Spec2Pipeline.extract_1d - INFO - Applying position offset of -8.28 to xstart and xstop\n",
      "2021-07-12 13:55:19,125 - stpipe.Spec2Pipeline.extract_1d - INFO - Using extraction limits: \n",
      "2021-07-12 13:55:19,125 - stpipe.Spec2Pipeline.extract_1d - INFO - xstart=8.217715601436794, xstop=18.217715601436794, ystart=0, ystop=386\n",
      "2021-07-12 13:55:19,175 - stpipe.Spec2Pipeline.extract_1d - INFO - Applying Aperture correction.\n",
      "2021-07-12 13:55:19,356 - stpipe.Spec2Pipeline.extract_1d - INFO - Saved model in miri_lrs_slit_pt_nod1_v2_x1d.fits\n",
      "2021-07-12 13:55:19,357 - stpipe.Spec2Pipeline.extract_1d - INFO - Step extract_1d done\n",
      "2021-07-12 13:55:19,358 - stpipe.Spec2Pipeline - INFO - Finished processing product miri_lrs_slit_pt_nod1_v2.3_gain_scale\n",
      "2021-07-12 13:55:19,358 - stpipe.Spec2Pipeline - INFO - Ending calwebb_spec2\n",
      "2021-07-12 13:55:19,546 - stpipe.Spec2Pipeline - INFO - Saved model in miri_lrs_slit_pt_nod1_v2_cal.fits\n",
      "2021-07-12 13:55:19,547 - stpipe.Spec2Pipeline - INFO - Step Spec2Pipeline done\n",
      "2021-07-12 13:55:19,722 - stpipe.Spec2Pipeline - INFO - Spec2Pipeline instance created.\n",
      "2021-07-12 13:55:19,723 - stpipe.Spec2Pipeline.bkg_subtract - INFO - BackgroundStep instance created.\n",
      "2021-07-12 13:55:19,724 - stpipe.Spec2Pipeline.assign_wcs - INFO - AssignWcsStep instance created.\n",
      "2021-07-12 13:55:19,726 - stpipe.Spec2Pipeline.imprint_subtract - INFO - ImprintStep instance created.\n",
      "2021-07-12 13:55:19,727 - stpipe.Spec2Pipeline.msa_flagging - INFO - MSAFlagOpenStep instance created.\n",
      "2021-07-12 13:55:19,728 - stpipe.Spec2Pipeline.extract_2d - INFO - Extract2dStep instance created.\n",
      "2021-07-12 13:55:19,731 - stpipe.Spec2Pipeline.master_background - INFO - MasterBackgroundNrsSlitsStep instance created.\n",
      "2021-07-12 13:55:19,732 - stpipe.Spec2Pipeline.master_background.flat_field - INFO - FlatFieldStep instance created.\n",
      "2021-07-12 13:55:19,734 - stpipe.Spec2Pipeline.master_background.pathloss - INFO - PathLossStep instance created.\n",
      "2021-07-12 13:55:19,735 - stpipe.Spec2Pipeline.master_background.barshadow - INFO - BarShadowStep instance created.\n",
      "2021-07-12 13:55:19,737 - stpipe.Spec2Pipeline.master_background.photom - INFO - PhotomStep instance created.\n",
      "2021-07-12 13:55:19,738 - stpipe.Spec2Pipeline.wavecorr - INFO - WavecorrStep instance created.\n",
      "2021-07-12 13:55:19,740 - stpipe.Spec2Pipeline.flat_field - INFO - FlatFieldStep instance created.\n",
      "2021-07-12 13:55:19,741 - stpipe.Spec2Pipeline.srctype - INFO - SourceTypeStep instance created.\n",
      "2021-07-12 13:55:19,742 - stpipe.Spec2Pipeline.straylight - INFO - StraylightStep instance created.\n",
      "2021-07-12 13:55:19,743 - stpipe.Spec2Pipeline.fringe - INFO - FringeStep instance created.\n",
      "2021-07-12 13:55:19,744 - stpipe.Spec2Pipeline.pathloss - INFO - PathLossStep instance created.\n",
      "2021-07-12 13:55:19,745 - stpipe.Spec2Pipeline.barshadow - INFO - BarShadowStep instance created.\n",
      "2021-07-12 13:55:19,746 - stpipe.Spec2Pipeline.photom - INFO - PhotomStep instance created.\n",
      "2021-07-12 13:55:19,747 - stpipe.Spec2Pipeline.resample_spec - INFO - ResampleSpecStep instance created.\n",
      "2021-07-12 13:55:19,749 - stpipe.Spec2Pipeline.cube_build - INFO - CubeBuildStep instance created.\n",
      "2021-07-12 13:55:19,751 - stpipe.Spec2Pipeline.extract_1d - INFO - Extract1dStep instance created.\n",
      "2021-07-12 13:55:19,815 - stpipe.Spec2Pipeline - INFO - Step Spec2Pipeline running with args (<ImageModel(1024, 1032) from miri_lrs_slit_pt_nod2_v2.3_gain_scale.fits>,).\n",
      "2021-07-12 13:55:19,834 - stpipe.Spec2Pipeline - INFO - Step Spec2Pipeline parameters are: {'pre_hooks': [], 'post_hooks': [], 'output_file': None, 'output_dir': None, 'output_ext': '.fits', 'output_use_model': False, 'output_use_index': True, 'save_results': True, 'skip': False, 'suffix': None, 'search_output_file': True, 'input_dir': '', 'save_bsub': False, 'fail_on_exception': True, 'steps': {'bkg_subtract': {'pre_hooks': [], 'post_hooks': [], 'output_file': None, 'output_dir': None, 'output_ext': '.fits', 'output_use_model': False, 'output_use_index': True, 'save_results': False, 'skip': False, 'suffix': None, 'search_output_file': True, 'input_dir': '', 'sigma': 3.0, 'maxiters': None}, 'assign_wcs': {'pre_hooks': [], 'post_hooks': [], 'output_file': None, 'output_dir': None, 'output_ext': '.fits', 'output_use_model': False, 'output_use_index': True, 'save_results': False, 'skip': False, 'suffix': None, 'search_output_file': True, 'input_dir': '', 'sip_approx': True, 'sip_max_pix_error': 0.25, 'sip_degree': None, 'sip_max_inv_pix_error': 0.25, 'sip_inv_degree': None, 'sip_npoints': 32, 'slit_y_low': -0.55, 'slit_y_high': 0.55}, 'imprint_subtract': {'pre_hooks': [], 'post_hooks': [], 'output_file': None, 'output_dir': None, 'output_ext': '.fits', 'output_use_model': False, 'output_use_index': True, 'save_results': False, 'skip': False, 'suffix': None, 'search_output_file': True, 'input_dir': ''}, 'msa_flagging': {'pre_hooks': [], 'post_hooks': [], 'output_file': None, 'output_dir': None, 'output_ext': '.fits', 'output_use_model': False, 'output_use_index': True, 'save_results': False, 'skip': False, 'suffix': None, 'search_output_file': True, 'input_dir': ''}, 'extract_2d': {'pre_hooks': [], 'post_hooks': [], 'output_file': None, 'output_dir': None, 'output_ext': '.fits', 'output_use_model': False, 'output_use_index': True, 'save_results': False, 'skip': False, 'suffix': None, 'search_output_file': True, 'input_dir': '', 'slit_name': None, 'extract_orders': None, 'tsgrism_extract_height': None, 'wfss_extract_half_height': 5, 'grism_objects': None, 'mmag_extract': 99.0}, 'master_background': {'pre_hooks': [], 'post_hooks': [], 'output_file': None, 'output_dir': None, 'output_ext': '.fits', 'output_use_model': True, 'output_use_index': True, 'save_results': False, 'skip': False, 'suffix': None, 'search_output_file': True, 'input_dir': '', 'force_subtract': False, 'save_background': False, 'user_background': None, 'inverse': False, 'steps': {'flat_field': {'pre_hooks': [], 'post_hooks': [], 'output_file': None, 'output_dir': None, 'output_ext': '.fits', 'output_use_model': False, 'output_use_index': True, 'save_results': False, 'skip': False, 'suffix': None, 'search_output_file': True, 'input_dir': '', 'save_interpolated_flat': False, 'user_supplied_flat': None, 'inverse': False}, 'pathloss': {'pre_hooks': [], 'post_hooks': [], 'output_file': None, 'output_dir': None, 'output_ext': '.fits', 'output_use_model': False, 'output_use_index': True, 'save_results': False, 'skip': False, 'suffix': None, 'search_output_file': True, 'input_dir': '', 'inverse': False, 'source_type': None}, 'barshadow': {'pre_hooks': [], 'post_hooks': [], 'output_file': None, 'output_dir': None, 'output_ext': '.fits', 'output_use_model': False, 'output_use_index': True, 'save_results': False, 'skip': False, 'suffix': None, 'search_output_file': True, 'input_dir': '', 'inverse': False, 'source_type': None}, 'photom': {'pre_hooks': [], 'post_hooks': [], 'output_file': None, 'output_dir': None, 'output_ext': '.fits', 'output_use_model': False, 'output_use_index': True, 'save_results': False, 'skip': False, 'suffix': None, 'search_output_file': True, 'input_dir': '', 'inverse': False, 'source_type': None}}}, 'wavecorr': {'pre_hooks': [], 'post_hooks': [], 'output_file': None, 'output_dir': None, 'output_ext': '.fits', 'output_use_model': False, 'output_use_index': True, 'save_results': False, 'skip': False, 'suffix': None, 'search_output_file': True, 'input_dir': ''}, 'flat_field': {'pre_hooks': [], 'post_hooks': [], 'output_file': None, 'output_dir': None, 'output_ext': '.fits', 'output_use_model': False, 'output_use_index': True, 'save_results': False, 'skip': False, 'suffix': None, 'search_output_file': True, 'input_dir': '', 'save_interpolated_flat': False, 'user_supplied_flat': None, 'inverse': False}, 'srctype': {'pre_hooks': [], 'post_hooks': [], 'output_file': None, 'output_dir': None, 'output_ext': '.fits', 'output_use_model': False, 'output_use_index': True, 'save_results': False, 'skip': False, 'suffix': None, 'search_output_file': True, 'input_dir': ''}, 'straylight': {'pre_hooks': [], 'post_hooks': [], 'output_file': None, 'output_dir': None, 'output_ext': '.fits', 'output_use_model': False, 'output_use_index': True, 'save_results': False, 'skip': False, 'suffix': None, 'search_output_file': True, 'input_dir': '', 'method': 'ModShepard', 'roi': 50, 'power': 1.0}, 'fringe': {'pre_hooks': [], 'post_hooks': [], 'output_file': None, 'output_dir': None, 'output_ext': '.fits', 'output_use_model': False, 'output_use_index': True, 'save_results': False, 'skip': False, 'suffix': None, 'search_output_file': True, 'input_dir': ''}, 'pathloss': {'pre_hooks': [], 'post_hooks': [], 'output_file': None, 'output_dir': None, 'output_ext': '.fits', 'output_use_model': False, 'output_use_index': True, 'save_results': False, 'skip': False, 'suffix': None, 'search_output_file': True, 'input_dir': '', 'inverse': False, 'source_type': None}, 'barshadow': {'pre_hooks': [], 'post_hooks': [], 'output_file': None, 'output_dir': None, 'output_ext': '.fits', 'output_use_model': False, 'output_use_index': True, 'save_results': False, 'skip': False, 'suffix': None, 'search_output_file': True, 'input_dir': '', 'inverse': False, 'source_type': None}, 'photom': {'pre_hooks': [], 'post_hooks': [], 'output_file': None, 'output_dir': None, 'output_ext': '.fits', 'output_use_model': False, 'output_use_index': True, 'save_results': False, 'skip': False, 'suffix': None, 'search_output_file': True, 'input_dir': '', 'inverse': False, 'source_type': None}, 'resample_spec': {'pre_hooks': [], 'post_hooks': [], 'output_file': None, 'output_dir': None, 'output_ext': '.fits', 'output_use_model': False, 'output_use_index': True, 'save_results': False, 'skip': False, 'suffix': None, 'search_output_file': True, 'input_dir': '', 'pixfrac': 1.0, 'kernel': 'square', 'fillval': 'INDEF', 'weight_type': 'ivm', 'pixel_scale_ratio': 1.0, 'single': False, 'blendheaders': True, 'allowed_memory': None}, 'cube_build': {'pre_hooks': [], 'post_hooks': [], 'output_file': None, 'output_dir': None, 'output_ext': '.fits', 'output_use_model': True, 'output_use_index': True, 'save_results': False, 'skip': False, 'suffix': None, 'search_output_file': False, 'input_dir': '', 'channel': 'all', 'band': 'all', 'grating': 'all', 'filter': 'all', 'output_type': 'band', 'scale1': 0.0, 'scale2': 0.0, 'scalew': 0.0, 'weighting': 'emsm', 'coord_system': 'skyalign', 'rois': 0.0, 'roiw': 0.0, 'weight_power': 2.0, 'wavemin': None, 'wavemax': None, 'single': False, 'xdebug': None, 'ydebug': None, 'zdebug': None, 'skip_dqflagging': False}, 'extract_1d': {'pre_hooks': [], 'post_hooks': [], 'output_file': None, 'output_dir': None, 'output_ext': '.fits', 'output_use_model': False, 'output_use_index': True, 'save_results': False, 'skip': False, 'suffix': None, 'search_output_file': True, 'input_dir': '', 'smoothing_length': None, 'bkg_fit': 'poly', 'bkg_order': None, 'bkg_sigma_clip': 3.0, 'log_increment': 50, 'subtract_background': None, 'use_source_posn': None, 'apply_apcorr': True}}}\n"
     ]
    },
    {
     "name": "stderr",
     "output_type": "stream",
     "text": [
      "2021-07-12 13:55:19,844 - stpipe.Spec2Pipeline - INFO - Prefetching reference files for dataset: 'miri_lrs_slit_pt_nod2_v2.3_gain_scale.fits' reftypes = ['apcorr', 'area', 'barshadow', 'camera', 'collimator', 'cubepar', 'dflat', 'disperser', 'distortion', 'drizpars', 'extract1d', 'fflat', 'filteroffset', 'flat', 'fore', 'fpa', 'fringe', 'ifufore', 'ifupost', 'ifuslicer', 'msa', 'msaoper', 'ote', 'pathloss', 'photom', 'regions', 'resol', 'sflat', 'specwcs', 'wavecorr', 'wavelengthrange', 'wfssbkg']\n",
      "2021-07-12 13:55:19,880 - stpipe.Spec2Pipeline - INFO - Prefetch for APCORR reference file is '/grp/crds/cache/references/jwst/jwst_miri_apcorr_0007.fits'.\n",
      "2021-07-12 13:55:19,898 - stpipe.Spec2Pipeline - INFO - Prefetch for AREA reference file is 'N/A'.\n",
      "2021-07-12 13:55:19,899 - stpipe.Spec2Pipeline - INFO - Prefetch for BARSHADOW reference file is 'N/A'.\n",
      "2021-07-12 13:55:19,900 - stpipe.Spec2Pipeline - INFO - Prefetch for CAMERA reference file is 'N/A'.\n",
      "2021-07-12 13:55:19,900 - stpipe.Spec2Pipeline - INFO - Prefetch for COLLIMATOR reference file is 'N/A'.\n",
      "2021-07-12 13:55:19,901 - stpipe.Spec2Pipeline - INFO - Prefetch for CUBEPAR reference file is 'N/A'.\n",
      "2021-07-12 13:55:19,901 - stpipe.Spec2Pipeline - INFO - Prefetch for DFLAT reference file is 'N/A'.\n",
      "2021-07-12 13:55:19,901 - stpipe.Spec2Pipeline - INFO - Prefetch for DISPERSER reference file is 'N/A'.\n",
      "2021-07-12 13:55:19,902 - stpipe.Spec2Pipeline - INFO - Prefetch for DISTORTION reference file is '/grp/crds/cache/references/jwst/jwst_miri_distortion_0028.asdf'.\n",
      "2021-07-12 13:55:19,922 - stpipe.Spec2Pipeline - INFO - Prefetch for DRIZPARS reference file is '/grp/crds/cache/references/jwst/jwst_miri_drizpars_0001.fits'.\n",
      "2021-07-12 13:55:19,941 - stpipe.Spec2Pipeline - INFO - Prefetch for EXTRACT1D reference file is '/grp/crds/cache/references/jwst/jwst_miri_extract1d_0004.json'.\n",
      "2021-07-12 13:55:19,959 - stpipe.Spec2Pipeline - INFO - Prefetch for FFLAT reference file is 'N/A'.\n",
      "2021-07-12 13:55:19,959 - stpipe.Spec2Pipeline - INFO - Prefetch for FILTEROFFSET reference file is 'N/A'.\n",
      "2021-07-12 13:55:19,960 - stpipe.Spec2Pipeline - INFO - Prefetch for FLAT reference file is '/grp/crds/cache/references/jwst/jwst_miri_flat_0472.fits'.\n",
      "2021-07-12 13:55:19,977 - stpipe.Spec2Pipeline - INFO - Prefetch for FORE reference file is 'N/A'.\n",
      "2021-07-12 13:55:19,978 - stpipe.Spec2Pipeline - INFO - Prefetch for FPA reference file is 'N/A'.\n",
      "2021-07-12 13:55:19,979 - stpipe.Spec2Pipeline - INFO - Prefetch for FRINGE reference file is 'N/A'.\n",
      "2021-07-12 13:55:19,980 - stpipe.Spec2Pipeline - INFO - Prefetch for IFUFORE reference file is 'N/A'.\n",
      "2021-07-12 13:55:19,981 - stpipe.Spec2Pipeline - INFO - Prefetch for IFUPOST reference file is 'N/A'.\n",
      "2021-07-12 13:55:19,981 - stpipe.Spec2Pipeline - INFO - Prefetch for IFUSLICER reference file is 'N/A'.\n",
      "2021-07-12 13:55:19,982 - stpipe.Spec2Pipeline - INFO - Prefetch for MSA reference file is 'N/A'.\n",
      "2021-07-12 13:55:19,983 - stpipe.Spec2Pipeline - INFO - Prefetch for MSAOPER reference file is 'N/A'.\n",
      "2021-07-12 13:55:19,983 - stpipe.Spec2Pipeline - INFO - Prefetch for OTE reference file is 'N/A'.\n",
      "2021-07-12 13:55:19,984 - stpipe.Spec2Pipeline - INFO - Prefetch for PATHLOSS reference file is 'N/A'.\n",
      "2021-07-12 13:55:19,984 - stpipe.Spec2Pipeline - INFO - Prefetch for PHOTOM reference file is '/grp/crds/cache/references/jwst/jwst_miri_photom_0072.fits'.\n",
      "2021-07-12 13:55:20,001 - stpipe.Spec2Pipeline - INFO - Prefetch for REGIONS reference file is 'N/A'.\n",
      "2021-07-12 13:55:20,001 - stpipe.Spec2Pipeline - INFO - Prefetch for RESOL reference file is 'N/A'.\n",
      "2021-07-12 13:55:20,002 - stpipe.Spec2Pipeline - INFO - Prefetch for SFLAT reference file is 'N/A'.\n",
      "2021-07-12 13:55:20,002 - stpipe.Spec2Pipeline - INFO - Prefetch for SPECWCS reference file is '/grp/crds/cache/references/jwst/jwst_miri_specwcs_0003.fits'.\n",
      "2021-07-12 13:55:20,019 - stpipe.Spec2Pipeline - INFO - Prefetch for WAVECORR reference file is 'N/A'.\n",
      "2021-07-12 13:55:20,019 - stpipe.Spec2Pipeline - INFO - Prefetch for WAVELENGTHRANGE reference file is 'N/A'.\n",
      "2021-07-12 13:55:20,020 - stpipe.Spec2Pipeline - INFO - Prefetch for WFSSBKG reference file is 'N/A'.\n",
      "2021-07-12 13:55:20,020 - stpipe.Spec2Pipeline - INFO - Starting calwebb_spec2 ...\n",
      "2021-07-12 13:55:20,040 - stpipe.Spec2Pipeline - INFO - Processing product miri_lrs_slit_pt_nod2_v2.3_gain_scale\n",
      "2021-07-12 13:55:20,041 - stpipe.Spec2Pipeline - INFO - Working on input <ImageModel(1024, 1032) from miri_lrs_slit_pt_nod2_v2.3_gain_scale.fits> ...\n",
      "2021-07-12 13:55:20,106 - stpipe.Spec2Pipeline.assign_wcs - INFO - Step assign_wcs running with args (<ImageModel(1024, 1032) from miri_lrs_slit_pt_nod2_v2.3_gain_scale.fits>,).\n",
      "2021-07-12 13:55:20,108 - stpipe.Spec2Pipeline.assign_wcs - INFO - Step assign_wcs parameters are: {'pre_hooks': [], 'post_hooks': [], 'output_file': None, 'output_dir': None, 'output_ext': '.fits', 'output_use_model': False, 'output_use_index': True, 'save_results': False, 'skip': False, 'suffix': None, 'search_output_file': True, 'input_dir': '', 'sip_approx': True, 'sip_max_pix_error': 0.25, 'sip_degree': None, 'sip_max_inv_pix_error': 0.25, 'sip_inv_degree': None, 'sip_npoints': 32, 'slit_y_low': -0.55, 'slit_y_high': 0.55}\n",
      "2021-07-12 13:55:21,403 - stpipe.Spec2Pipeline.assign_wcs - INFO - Created a MIRI mir_lrs-fixedslit pipeline with references {'distortion': '/grp/crds/cache/references/jwst/jwst_miri_distortion_0028.asdf', 'filteroffset': None, 'specwcs': '/grp/crds/cache/references/jwst/jwst_miri_specwcs_0003.fits', 'regions': None, 'wavelengthrange': None, 'camera': None, 'collimator': None, 'disperser': None, 'fore': None, 'fpa': None, 'msa': None, 'ote': None, 'ifupost': None, 'ifufore': None, 'ifuslicer': None}\n",
      "2021-07-12 13:55:21,443 - stpipe.Spec2Pipeline.assign_wcs - WARNING - /Users/kmurray/anaconda3/envs/jwst7.7.1/lib/python3.9/site-packages/gwcs/utils.py:72: DeprecationWarning: `np.int` is a deprecated alias for the builtin `int`. To silence this warning, use `int` by itself. Doing this will not modify any behavior and is safe. When replacing `np.int`, you may wish to use e.g. `np.int64` or `np.int32` to specify the precision. If you wish to review your current use, check the release note link for additional information.\n",
      "Deprecated in NumPy 1.20; for more details and guidance: https://numpy.org/devdocs/release/1.20.0-notes.html#deprecations\n",
      "  indx = np.asarray(np.floor(np.asarray(value) + 0.5), dtype=np.int)\n",
      "\n",
      "2021-07-12 13:55:21,448 - stpipe.Spec2Pipeline.assign_wcs - INFO - Update S_REGION to POLYGON ICRS  0.000903013 -0.000079284 0.000903013 0.000036907 359.999605833 0.000036907 359.999605833 -0.000079284\n",
      "2021-07-12 13:55:21,448 - stpipe.Spec2Pipeline.assign_wcs - INFO - assign_wcs updated S_REGION to POLYGON ICRS  0.000903013 -0.000079284 0.000903013 0.000036907 359.999605833 0.000036907 359.999605833 -0.000079284\n",
      "2021-07-12 13:55:21,449 - stpipe.Spec2Pipeline.assign_wcs - INFO - COMPLETED assign_wcs\n",
      "2021-07-12 13:55:21,452 - stpipe.Spec2Pipeline.assign_wcs - INFO - Step assign_wcs done\n",
      "2021-07-12 13:55:21,509 - stpipe.Spec2Pipeline.bkg_subtract - INFO - Step bkg_subtract running with args (<ImageModel(1024, 1032) from miri_lrs_slit_pt_nod2_v2.3_gain_scale.fits>, []).\n",
      "2021-07-12 13:55:21,511 - stpipe.Spec2Pipeline.bkg_subtract - INFO - Step bkg_subtract parameters are: {'pre_hooks': [], 'post_hooks': [], 'output_file': None, 'output_dir': None, 'output_ext': '.fits', 'output_use_model': False, 'output_use_index': True, 'save_results': False, 'skip': True, 'suffix': None, 'search_output_file': True, 'input_dir': '', 'sigma': 3.0, 'maxiters': None}\n",
      "2021-07-12 13:55:21,512 - stpipe.Spec2Pipeline.bkg_subtract - INFO - Step skipped.\n",
      "2021-07-12 13:55:21,513 - stpipe.Spec2Pipeline.bkg_subtract - INFO - Step bkg_subtract done\n",
      "2021-07-12 13:55:21,571 - stpipe.Spec2Pipeline.imprint_subtract - INFO - Step imprint_subtract running with args (<ImageModel(1024, 1032) from miri_lrs_slit_pt_nod2_v2.3_gain_scale.fits>, []).\n",
      "2021-07-12 13:55:21,573 - stpipe.Spec2Pipeline.imprint_subtract - INFO - Step imprint_subtract parameters are: {'pre_hooks': [], 'post_hooks': [], 'output_file': None, 'output_dir': None, 'output_ext': '.fits', 'output_use_model': False, 'output_use_index': True, 'save_results': False, 'skip': True, 'suffix': None, 'search_output_file': True, 'input_dir': ''}\n"
     ]
    },
    {
     "name": "stderr",
     "output_type": "stream",
     "text": [
      "2021-07-12 13:55:21,573 - stpipe.Spec2Pipeline.imprint_subtract - INFO - Step skipped.\n",
      "2021-07-12 13:55:21,574 - stpipe.Spec2Pipeline.imprint_subtract - INFO - Step imprint_subtract done\n",
      "2021-07-12 13:55:21,633 - stpipe.Spec2Pipeline.msa_flagging - INFO - Step msa_flagging running with args (<ImageModel(1024, 1032) from miri_lrs_slit_pt_nod2_v2.3_gain_scale.fits>,).\n",
      "2021-07-12 13:55:21,635 - stpipe.Spec2Pipeline.msa_flagging - INFO - Step msa_flagging parameters are: {'pre_hooks': [], 'post_hooks': [], 'output_file': None, 'output_dir': None, 'output_ext': '.fits', 'output_use_model': False, 'output_use_index': True, 'save_results': False, 'skip': True, 'suffix': None, 'search_output_file': True, 'input_dir': ''}\n",
      "2021-07-12 13:55:21,636 - stpipe.Spec2Pipeline.msa_flagging - INFO - Step skipped.\n",
      "2021-07-12 13:55:21,636 - stpipe.Spec2Pipeline.msa_flagging - INFO - Step msa_flagging done\n",
      "2021-07-12 13:55:21,695 - stpipe.Spec2Pipeline.srctype - INFO - Step srctype running with args (<ImageModel(1024, 1032) from miri_lrs_slit_pt_nod2_v2.3_gain_scale.fits>,).\n",
      "2021-07-12 13:55:21,697 - stpipe.Spec2Pipeline.srctype - INFO - Step srctype parameters are: {'pre_hooks': [], 'post_hooks': [], 'output_file': None, 'output_dir': None, 'output_ext': '.fits', 'output_use_model': False, 'output_use_index': True, 'save_results': False, 'skip': False, 'suffix': None, 'search_output_file': True, 'input_dir': ''}\n",
      "2021-07-12 13:55:21,707 - stpipe.Spec2Pipeline.srctype - INFO - Input EXP_TYPE is MIR_LRS-FIXEDSLIT\n",
      "2021-07-12 13:55:21,707 - stpipe.Spec2Pipeline.srctype - INFO - Input SRCTYAPT = None\n",
      "2021-07-12 13:55:21,708 - stpipe.Spec2Pipeline.srctype - WARNING - SRCTYAPT keyword not found in input; using SRCTYPE instead\n",
      "2021-07-12 13:55:21,709 - stpipe.Spec2Pipeline.srctype - INFO - Input source type is unknown; setting default SRCTYPE = POINT\n",
      "2021-07-12 13:55:21,710 - stpipe.Spec2Pipeline.srctype - INFO - Step srctype done\n",
      "2021-07-12 13:55:21,769 - stpipe.Spec2Pipeline.flat_field - INFO - Step flat_field running with args (<ImageModel(1024, 1032) from miri_lrs_slit_pt_nod2_v2.3_gain_scale.fits>,).\n",
      "2021-07-12 13:55:21,771 - stpipe.Spec2Pipeline.flat_field - INFO - Step flat_field parameters are: {'pre_hooks': [], 'post_hooks': [], 'output_file': None, 'output_dir': None, 'output_ext': '.fits', 'output_use_model': False, 'output_use_index': True, 'save_results': False, 'skip': False, 'suffix': None, 'search_output_file': True, 'input_dir': '', 'save_interpolated_flat': False, 'user_supplied_flat': None, 'inverse': False}\n",
      "2021-07-12 13:55:21,942 - stpipe.Spec2Pipeline.flat_field - WARNING - Keyword CDP_PARTIAL_DATA does not correspond to an existing DQ mnemonic, so will be ignored\n",
      "2021-07-12 13:55:21,943 - stpipe.Spec2Pipeline.flat_field - WARNING - Keyword CDP_LOW_QUAL does not correspond to an existing DQ mnemonic, so will be ignored\n",
      "2021-07-12 13:55:21,943 - stpipe.Spec2Pipeline.flat_field - WARNING - Keyword CDP_UNRELIABLE_ERROR does not correspond to an existing DQ mnemonic, so will be ignored\n",
      "2021-07-12 13:55:21,962 - stpipe.Spec2Pipeline.flat_field - WARNING - Keyword DIFF_PATTERN does not correspond to an existing DQ mnemonic, so will be ignored\n",
      "2021-07-12 13:55:22,066 - stpipe.Spec2Pipeline.flat_field - INFO - Step flat_field done\n",
      "2021-07-12 13:55:22,133 - stpipe.Spec2Pipeline.straylight - INFO - Step straylight running with args (<ImageModel(1024, 1032) from miri_lrs_slit_pt_nod2_v2.3_gain_scale.fits>,).\n",
      "2021-07-12 13:55:22,134 - stpipe.Spec2Pipeline.straylight - INFO - Step straylight parameters are: {'pre_hooks': [], 'post_hooks': [], 'output_file': None, 'output_dir': None, 'output_ext': '.fits', 'output_use_model': False, 'output_use_index': True, 'save_results': False, 'skip': True, 'suffix': None, 'search_output_file': True, 'input_dir': '', 'method': 'ModShepard', 'roi': 50, 'power': 1.0}\n",
      "2021-07-12 13:55:22,135 - stpipe.Spec2Pipeline.straylight - INFO - Step skipped.\n",
      "2021-07-12 13:55:22,136 - stpipe.Spec2Pipeline.straylight - INFO - Step straylight done\n",
      "2021-07-12 13:55:22,198 - stpipe.Spec2Pipeline.fringe - INFO - Step fringe running with args (<ImageModel(1024, 1032) from miri_lrs_slit_pt_nod2_v2.3_gain_scale.fits>,).\n",
      "2021-07-12 13:55:22,200 - stpipe.Spec2Pipeline.fringe - INFO - Step fringe parameters are: {'pre_hooks': [], 'post_hooks': [], 'output_file': None, 'output_dir': None, 'output_ext': '.fits', 'output_use_model': False, 'output_use_index': True, 'save_results': False, 'skip': True, 'suffix': None, 'search_output_file': True, 'input_dir': ''}\n",
      "2021-07-12 13:55:22,200 - stpipe.Spec2Pipeline.fringe - INFO - Step skipped.\n",
      "2021-07-12 13:55:22,201 - stpipe.Spec2Pipeline.fringe - INFO - Step fringe done\n",
      "2021-07-12 13:55:22,261 - stpipe.Spec2Pipeline.pathloss - INFO - Step pathloss running with args (<ImageModel(1024, 1032) from miri_lrs_slit_pt_nod2_v2.3_gain_scale.fits>,).\n",
      "2021-07-12 13:55:22,263 - stpipe.Spec2Pipeline.pathloss - INFO - Step pathloss parameters are: {'pre_hooks': [], 'post_hooks': [], 'output_file': None, 'output_dir': None, 'output_ext': '.fits', 'output_use_model': False, 'output_use_index': True, 'save_results': False, 'skip': True, 'suffix': None, 'search_output_file': True, 'input_dir': '', 'inverse': False, 'source_type': None}\n",
      "2021-07-12 13:55:22,264 - stpipe.Spec2Pipeline.pathloss - INFO - Step skipped.\n",
      "2021-07-12 13:55:22,265 - stpipe.Spec2Pipeline.pathloss - INFO - Step pathloss done\n",
      "2021-07-12 13:55:22,325 - stpipe.Spec2Pipeline.barshadow - INFO - Step barshadow running with args (<ImageModel(1024, 1032) from miri_lrs_slit_pt_nod2_v2.3_gain_scale.fits>,).\n",
      "2021-07-12 13:55:22,327 - stpipe.Spec2Pipeline.barshadow - INFO - Step barshadow parameters are: {'pre_hooks': [], 'post_hooks': [], 'output_file': None, 'output_dir': None, 'output_ext': '.fits', 'output_use_model': False, 'output_use_index': True, 'save_results': False, 'skip': True, 'suffix': None, 'search_output_file': True, 'input_dir': '', 'inverse': False, 'source_type': None}\n",
      "2021-07-12 13:55:22,328 - stpipe.Spec2Pipeline.barshadow - INFO - Step skipped.\n",
      "2021-07-12 13:55:22,329 - stpipe.Spec2Pipeline.barshadow - INFO - Step barshadow done\n",
      "2021-07-12 13:55:22,394 - stpipe.Spec2Pipeline.photom - INFO - Step photom running with args (<ImageModel(1024, 1032) from miri_lrs_slit_pt_nod2_v2.3_gain_scale.fits>,).\n",
      "2021-07-12 13:55:22,396 - stpipe.Spec2Pipeline.photom - INFO - Step photom parameters are: {'pre_hooks': [], 'post_hooks': [], 'output_file': None, 'output_dir': None, 'output_ext': '.fits', 'output_use_model': False, 'output_use_index': True, 'save_results': False, 'skip': False, 'suffix': None, 'search_output_file': True, 'input_dir': '', 'inverse': False, 'source_type': None}\n",
      "2021-07-12 13:55:22,451 - stpipe.Spec2Pipeline.photom - INFO - Using photom reference file: /grp/crds/cache/references/jwst/jwst_miri_photom_0072.fits\n",
      "2021-07-12 13:55:22,451 - stpipe.Spec2Pipeline.photom - INFO - Using area reference file: N/A\n",
      "2021-07-12 13:55:22,522 - stpipe.Spec2Pipeline.photom - INFO - Using instrument: MIRI\n",
      "2021-07-12 13:55:22,523 - stpipe.Spec2Pipeline.photom - INFO -  detector: MIRIMAGE\n",
      "2021-07-12 13:55:22,523 - stpipe.Spec2Pipeline.photom - INFO -  exp_type: MIR_LRS-FIXEDSLIT\n",
      "2021-07-12 13:55:22,524 - stpipe.Spec2Pipeline.photom - INFO -  filter: P750L\n",
      "2021-07-12 13:55:22,575 - stpipe.Spec2Pipeline.photom - INFO -  subarray: FULL\n",
      "2021-07-12 13:55:22,576 - stpipe.Spec2Pipeline.photom - INFO - PHOTMJSR value: 60.567\n",
      "2021-07-12 13:55:22,642 - stpipe.Spec2Pipeline.photom - INFO - Step photom done\n",
      "2021-07-12 13:55:22,717 - stpipe.Spec2Pipeline.resample_spec - INFO - Step resample_spec running with args (<ImageModel(1024, 1032) from miri_lrs_slit_pt_nod2_v2_cal.fits>,).\n",
      "2021-07-12 13:55:22,719 - stpipe.Spec2Pipeline.resample_spec - INFO - Step resample_spec parameters are: {'pre_hooks': [], 'post_hooks': [], 'output_file': None, 'output_dir': None, 'output_ext': '.fits', 'output_use_model': False, 'output_use_index': True, 'save_results': True, 'skip': False, 'suffix': 's2d', 'search_output_file': True, 'input_dir': '', 'pixfrac': 1.0, 'kernel': 'square', 'fillval': 'INDEF', 'weight_type': 'ivm', 'pixel_scale_ratio': 1.0, 'single': False, 'blendheaders': True, 'allowed_memory': None}\n"
     ]
    },
    {
     "name": "stderr",
     "output_type": "stream",
     "text": [
      "2021-07-12 13:55:22,890 - stpipe.Spec2Pipeline.resample_spec - INFO - Drizpars reference file: /grp/crds/cache/references/jwst/jwst_miri_drizpars_0001.fits\n",
      "2021-07-12 13:55:23,018 - stpipe.Spec2Pipeline.resample_spec - WARNING - /Users/kmurray/anaconda3/envs/jwst7.7.1/lib/python3.9/site-packages/jwst/resample/resample_utils.py:153: RuntimeWarning: var_rnoise array not available.  Setting drizzle weight map to 1\n",
      "  warnings.warn(\"var_rnoise array not available.  Setting drizzle weight map to 1\",\n",
      "\n",
      "2021-07-12 13:55:23,024 - stpipe.Spec2Pipeline.resample_spec - INFO - Resampling slit None (387, 44)\n",
      "2021-07-12 13:55:23,490 - stpipe.Spec2Pipeline.resample_spec - INFO - Drizzling (1024, 1032) --> (387, 44)\n",
      "2021-07-12 13:55:23,508 - stpipe.Spec2Pipeline.resample_spec - INFO - Update S_REGION to POLYGON ICRS  179.999611282 -0.000032303 180.000928190 -0.000032303 180.000928190 0.000077161 179.999611282 0.000077161\n",
      "2021-07-12 13:55:23,577 - stpipe.Spec2Pipeline.resample_spec - INFO - Saved model in miri_lrs_slit_pt_nod2_v2_s2d.fits\n",
      "2021-07-12 13:55:23,577 - stpipe.Spec2Pipeline.resample_spec - INFO - Step resample_spec done\n",
      "2021-07-12 13:55:23,636 - stpipe.Spec2Pipeline.extract_1d - INFO - Step extract_1d running with args (<SlitModel(387, 44) from miri_lrs_slit_pt_nod2_v2_s2d.fits>,).\n",
      "2021-07-12 13:55:23,638 - stpipe.Spec2Pipeline.extract_1d - INFO - Step extract_1d parameters are: {'pre_hooks': [], 'post_hooks': [], 'output_file': None, 'output_dir': None, 'output_ext': '.fits', 'output_use_model': False, 'output_use_index': True, 'save_results': True, 'skip': False, 'suffix': 'x1d', 'search_output_file': True, 'input_dir': '', 'smoothing_length': None, 'bkg_fit': 'poly', 'bkg_order': None, 'bkg_sigma_clip': 3.0, 'log_increment': 50, 'subtract_background': None, 'use_source_posn': None, 'apply_apcorr': True}\n",
      "2021-07-12 13:55:23,718 - stpipe.Spec2Pipeline.extract_1d - INFO - Using EXTRACT1D reference file /grp/crds/cache/references/jwst/jwst_miri_extract1d_0004.json\n",
      "2021-07-12 13:55:23,764 - stpipe.Spec2Pipeline.extract_1d - INFO - Using APCORR file /grp/crds/cache/references/jwst/jwst_miri_apcorr_0007.fits\n",
      "2021-07-12 13:55:23,850 - stpipe.Spec2Pipeline.extract_1d - INFO - Turning on source position correction for exp_type = MIR_LRS-FIXEDSLIT\n",
      "2021-07-12 13:55:23,851 - stpipe.Spec2Pipeline.extract_1d - WARNING - spectral_order is None; using 1\n",
      "2021-07-12 13:55:23,851 - stpipe.Spec2Pipeline.extract_1d - INFO - Processing spectral order 1\n",
      "2021-07-12 13:55:23,861 - stpipe.Spec2Pipeline.extract_1d - INFO - Applying position offset of 8.81 to xstart and xstop\n",
      "2021-07-12 13:55:23,862 - stpipe.Spec2Pipeline.extract_1d - INFO - Using extraction limits: \n",
      "2021-07-12 13:55:23,862 - stpipe.Spec2Pipeline.extract_1d - INFO - xstart=25.308181886386592, xstop=35.30818188638659, ystart=0, ystop=386\n",
      "2021-07-12 13:55:23,905 - stpipe.Spec2Pipeline.extract_1d - INFO - Applying Aperture correction.\n",
      "2021-07-12 13:55:24,103 - stpipe.Spec2Pipeline.extract_1d - INFO - Saved model in miri_lrs_slit_pt_nod2_v2_x1d.fits\n",
      "2021-07-12 13:55:24,103 - stpipe.Spec2Pipeline.extract_1d - INFO - Step extract_1d done\n",
      "2021-07-12 13:55:24,104 - stpipe.Spec2Pipeline - INFO - Finished processing product miri_lrs_slit_pt_nod2_v2.3_gain_scale\n",
      "2021-07-12 13:55:24,104 - stpipe.Spec2Pipeline - INFO - Ending calwebb_spec2\n",
      "2021-07-12 13:55:24,286 - stpipe.Spec2Pipeline - INFO - Saved model in miri_lrs_slit_pt_nod2_v2_cal.fits\n",
      "2021-07-12 13:55:24,286 - stpipe.Spec2Pipeline - INFO - Step Spec2Pipeline done\n"
     ]
    }
   ],
   "source": [
    "spec1 = Spec2Pipeline.call(det_nod1, save_results=True)\n",
    "spec2 = Spec2Pipeline.call(det_nod2, save_results=True)"
   ]
  },
  {
   "cell_type": "code",
   "execution_count": 204,
   "metadata": {},
   "outputs": [
    {
     "name": "stdout",
     "output_type": "stream",
     "text": [
      "['miri_lrs_slit_pt_nod2_v2_cal.fits', 'miri_lrs_slit_pt_nod1_v2_cal.fits']\n"
     ]
    }
   ],
   "source": [
    "cal_files = glob.glob('*_cal.fits')\n",
    "print(cal_files)\n",
    "\n",
    "spec1file = datamodels.open(spec1)\n",
    "#asn3 = asn_from_list(cal_files, rule=DMS_Level3_Base,product_name='combine_dithers_exposures')"
   ]
  },
  {
   "cell_type": "code",
   "execution_count": 167,
   "metadata": {},
   "outputs": [
    {
     "name": "stdout",
     "output_type": "stream",
     "text": [
      "<array (unloaded) shape: [1024, 1032] dtype: >f4>\n"
     ]
    }
   ],
   "source": [
    "#with open('sp3-lrs-slit-test_asn.json', 'w') as fp:\n",
    "    #fp.write(asn3.dump()[1])\n",
    "    \n",
    "spec2_file1 = datamodels.open(cal_files[0])\n",
    "spec2_file2 = datamodels.open(cal_files[1])\n",
    "print(spec2_file1.data)"
   ]
  },
  {
   "cell_type": "code",
   "execution_count": 117,
   "metadata": {},
   "outputs": [
    {
     "name": "stderr",
     "output_type": "stream",
     "text": [
      "2021-07-16 14:59:10,016 - stpipe - WARNING - /Users/kmurray/anaconda3/envs/jwst7.7.1/lib/python3.9/site-packages/ipykernel/ipkernel.py:283: DeprecationWarning: `should_run_async` will not call `transform_cell` automatically in the future. Please pass the result to `transformed_cell` argument and any exception that happen during thetransform in `preprocessing_exc_tuple` in IPython 7.17 and above.\n",
      "  and should_run_async(code)\n",
      "\n"
     ]
    },
    {
     "name": "stdout",
     "output_type": "stream",
     "text": [
      "346.5\n",
      "Model bbox (nod 1)= ((302.5, 346.5), (6.5, 396.5)) \n",
      "Model: Height x width of bounding box (nod 1) = 390.0 x 44.0 pixels\n",
      "302 346 6 396\n"
     ]
    }
   ],
   "source": [
    "print(spec2_file1.meta.wcs.bounding_box[0][1]), spec2_file1.meta.wcs.bounding_box[0][0], spec2_file1.meta.wcs.bounding_box[1][1], spec2_file1.meta.wcs.bounding_box[1][0]\n",
    "bbox_w = spec2_file1.meta.wcs.bounding_box[0][1] - spec2_file1.meta.wcs.bounding_box[0][0]\n",
    "bbox_ht = spec2_file1.meta.wcs.bounding_box[1][1] - spec2_file1.meta.wcs.bounding_box[1][0]\n",
    "left = int(spec2_file1.meta.wcs.bounding_box[0][0])\n",
    "right = int(spec2_file1.meta.wcs.bounding_box[0][1])\n",
    "down = int(spec2_file1.meta.wcs.bounding_box[1][0])\n",
    "up = int(spec2_file1.meta.wcs.bounding_box[1][1])\n",
    "print('Model bbox (nod 1)= {0} '.format(spec2_file1.meta.wcs.bounding_box))\n",
    "print('Model: Height x width of bounding box (nod 1) = {0} x {1} pixels'.format(bbox_ht, bbox_w))\n",
    "print(left, right, down, up)"
   ]
  },
  {
   "cell_type": "code",
   "execution_count": 93,
   "metadata": {},
   "outputs": [
    {
     "name": "stdout",
     "output_type": "stream",
     "text": [
      "[341, 289]\n"
     ]
    }
   ],
   "source": [
    "pixloc = []\n",
    "pixlocorder = []\n",
    "pixloc2 = []\n",
    "pixlocorder2 = []\n",
    "for i in range(len(asn3_files)):\n",
    "    pixloc.append([random.randint(left,right),random.randint(down,up)])\n",
    "    pixloc.append([random.randint(left,right),random.randint(down,up)])\n",
    "    pixloc2.append([random.randint(left,right),random.randint(down,up)])\n",
    "    pixloc2.append([random.randint(left,right),random.randint(down,up)])\n",
    "    \n",
    "pixlocorder = np.array(pixloc)\n",
    "pixlocorder2 = np.array(pixloc2)\n",
    "print(pixloc[0])"
   ]
  },
  {
   "cell_type": "code",
   "execution_count": 195,
   "metadata": {},
   "outputs": [
    {
     "data": {
      "image/png": "[encoded data removed]",
      "text/plain": [
       "<Figure size 432x288 with 2 Axes>"
      ]
     },
     "metadata": {
      "needs_background": "light"
     },
     "output_type": "display_data"
    },
    {
     "name": "stdout",
     "output_type": "stream",
     "text": [
      "20872.355\n"
     ]
    }
   ],
   "source": [
    "#print(spec2_file1.data[0,pixloc[3]])\n",
    "plt.imshow(spec2_file1.data)\n",
    "plt.xlim(left,right)\n",
    "plt.ylim(down,up)\n",
    "x,y = pixlocorder.T\n",
    "plt.scatter(x,y)\n",
    "plt.colorbar()\n",
    "plt.show()\n",
    "print(spec2_file1.data[382, 334])"
   ]
  },
  {
   "cell_type": "code",
   "execution_count": 190,
   "metadata": {},
   "outputs": [
    {
     "name": "stdout",
     "output_type": "stream",
     "text": [
      "394558\n"
     ]
    },
    {
     "data": {
      "text/plain": [
       "(382, 334)"
      ]
     },
     "execution_count": 190,
     "metadata": {},
     "output_type": "execute_result"
    }
   ],
   "source": [
    "maxindex = spec2_file1.data.argmax()\n",
    "print(maxindex)\n",
    "np.unravel_index(spec2_file1.data.argmax(), spec2_file1.data.shape)"
   ]
  },
  {
   "cell_type": "code",
   "execution_count": 196,
   "metadata": {},
   "outputs": [
    {
     "name": "stdout",
     "output_type": "stream",
     "text": [
      "-0.0\n",
      "20872.355\n",
      "20872.355\n"
     ]
    },
    {
     "data": {
      "text/plain": [
       "'./spec2_file1_outlier.fits'"
      ]
     },
     "execution_count": 196,
     "metadata": {},
     "output_type": "execute_result"
    }
   ],
   "source": [
    "print(spec2_file1.data[pixloc[3][0],pixloc[3][1]])\n",
    "spec2_file1.data[pixloc[0][0],pixloc[0][1]] = outliervalue\n",
    "spec2_file1.data[pixloc[1][0],pixloc[1][1]] = outliervalue\n",
    "spec2_file1.data[pixloc[2][0],pixloc[2][1]] = outliervalue\n",
    "spec2_file1.data[pixloc[3][0],pixloc[3][1]] = outliervalue\n",
    "print(spec2_file1.data[pixloc[3][0],pixloc[3][1]])\n",
    "print(spec2_file1.data[382, 334])\n",
    "spec2_file1.save('./spec2_file1_outlier.fits')"
   ]
  },
  {
   "cell_type": "code",
   "execution_count": 197,
   "metadata": {},
   "outputs": [
    {
     "name": "stderr",
     "output_type": "stream",
     "text": [
      "2021-07-16 16:53:05,767 - stpipe - WARNING - /Users/kmurray/anaconda3/envs/jwst7.7.1/lib/python3.9/site-packages/ipykernel/ipkernel.py:283: DeprecationWarning: `should_run_async` will not call `transform_cell` automatically in the future. Please pass the result to `transformed_cell` argument and any exception that happen during thetransform in `preprocessing_exc_tuple` in IPython 7.17 and above.\n",
      "  and should_run_async(code)\n",
      "\n"
     ]
    },
    {
     "name": "stdout",
     "output_type": "stream",
     "text": [
      "<ImageModel(1024, 1032) from spec2_file1_outlier.fits>\n",
      "20872.355\n",
      "20872.355\n"
     ]
    },
    {
     "data": {
      "text/plain": [
       "(6.0, 396.0)"
      ]
     },
     "execution_count": 197,
     "metadata": {},
     "output_type": "execute_result"
    },
    {
     "data": {
      "image/png": "[encoded data removed]",
      "text/plain": [
       "<Figure size 432x288 with 1 Axes>"
      ]
     },
     "metadata": {
      "needs_background": "light"
     },
     "output_type": "display_data"
    }
   ],
   "source": [
    "sanitycheck = datamodels.open('./spec2_file1_outlier.fits')\n",
    "print(sanitycheck)\n",
    "print(sanitycheck.data[pixloc[3][0],pixloc[3][1]])\n",
    "print(sanitycheck.data[382, 334])\n",
    "plt.imshow(sanitycheck.data)\n",
    "plt.xlim(left,right)\n",
    "plt.ylim(down,up)\n",
    "#plt.xlim(x[0]-5, x[0]+5)\n",
    "#plt.ylim(y[0]-5, y[0]+5)"
   ]
  },
  {
   "cell_type": "code",
   "execution_count": 198,
   "metadata": {},
   "outputs": [
    {
     "name": "stderr",
     "output_type": "stream",
     "text": [
      "2021-07-16 16:53:50,187 - stpipe - WARNING - /Users/kmurray/anaconda3/envs/jwst7.7.1/lib/python3.9/site-packages/ipykernel/ipkernel.py:283: DeprecationWarning: `should_run_async` will not call `transform_cell` automatically in the future. Please pass the result to `transformed_cell` argument and any exception that happen during thetransform in `preprocessing_exc_tuple` in IPython 7.17 and above.\n",
      "  and should_run_async(code)\n",
      "\n"
     ]
    },
    {
     "data": {
      "text/plain": [
       "(284.0, 294.0)"
      ]
     },
     "execution_count": 198,
     "metadata": {},
     "output_type": "execute_result"
    },
    {
     "data": {
      "image/png": "[encoded data removed]",
      "text/plain": [
       "<Figure size 432x288 with 1 Axes>"
      ]
     },
     "metadata": {
      "needs_background": "light"
     },
     "output_type": "display_data"
    }
   ],
   "source": [
    "plt.imshow(sanitycheck.data)\n",
    "plt.xlim(x[0]-5, x[0]+5)\n",
    "plt.ylim(y[0]-5, y[0]+5)"
   ]
  },
  {
   "cell_type": "code",
   "execution_count": 199,
   "metadata": {},
   "outputs": [
    {
     "name": "stdout",
     "output_type": "stream",
     "text": [
      "-0.0\n",
      "20872.355\n",
      "-12.235362\n"
     ]
    },
    {
     "data": {
      "text/plain": [
       "'./spec2_file2_outlier.fits'"
      ]
     },
     "execution_count": 199,
     "metadata": {},
     "output_type": "execute_result"
    }
   ],
   "source": [
    "print(spec2_file2.data[pixloc[3][0],pixloc[3][1]])\n",
    "spec2_file2.data[pixloc2[0][0],pixloc2[0][1]] = outliervalue\n",
    "spec2_file2.data[pixloc2[1][0],pixloc2[1][1]] = outliervalue\n",
    "spec2_file2.data[pixloc2[2][0],pixloc2[2][1]] = outliervalue\n",
    "spec2_file2.data[pixloc2[3][0],pixloc2[3][1]] = outliervalue\n",
    "print(spec2_file2.data[pixloc2[3][0],pixloc2[3][1]])\n",
    "print(spec2_file2.data[382, 334])\n",
    "spec2_file2.save('./spec2_file2_outlier.fits')"
   ]
  },
  {
   "cell_type": "code",
   "execution_count": 208,
   "metadata": {},
   "outputs": [
    {
     "name": "stdout",
     "output_type": "stream",
     "text": [
      "['spec2_file2_outlier.fits', 'spec2_file1_outlier.fits']\n"
     ]
    }
   ],
   "source": [
    "asn3_files = glob.glob('*_outlier.fits')\n",
    "print(asn3_files)\n",
    "asn3 = asn_from_list(asn3_files, rule=DMS_Level3_Base,product_name='combine_dithers_exposures')\n",
    "#asn3.save('./lrs-slit-spec3.json')"
   ]
  },
  {
   "cell_type": "code",
   "execution_count": 205,
   "metadata": {},
   "outputs": [
    {
     "ename": "ValueError",
     "evalue": "Can't initialize datamodel using <class 'jwst.associations.lib.rules_level3_base.DMS_Level3_Base'>",
     "output_type": "error",
     "traceback": [
      "\u001b[0;31m---------------------------------------------------------------------------\u001b[0m",
      "\u001b[0;31mValueError\u001b[0m                                Traceback (most recent call last)",
      "\u001b[0;32m<ipython-input-205-a9a72b95d0f7>\u001b[0m in \u001b[0;36m<module>\u001b[0;34m\u001b[0m\n\u001b[0;32m----> 1\u001b[0;31m \u001b[0mSpec3Pipeline\u001b[0m\u001b[0;34m.\u001b[0m\u001b[0mcall\u001b[0m\u001b[0;34m(\u001b[0m\u001b[0masn3\u001b[0m\u001b[0;34m,\u001b[0m \u001b[0msave_results\u001b[0m\u001b[0;34m=\u001b[0m\u001b[0;32mTrue\u001b[0m\u001b[0;34m)\u001b[0m\u001b[0;34m\u001b[0m\u001b[0;34m\u001b[0m\u001b[0m\n\u001b[0m",
      "\u001b[0;32m~/anaconda3/envs/jwst7.7.1/lib/python3.9/site-packages/stpipe/step.py\u001b[0m in \u001b[0;36mcall\u001b[0;34m(cls, *args, **kwargs)\u001b[0m\n\u001b[1;32m    566\u001b[0m         \u001b[0;32mif\u001b[0m \u001b[0mlen\u001b[0m\u001b[0;34m(\u001b[0m\u001b[0margs\u001b[0m\u001b[0;34m)\u001b[0m \u001b[0;34m>\u001b[0m \u001b[0;36m0\u001b[0m\u001b[0;34m:\u001b[0m\u001b[0;34m\u001b[0m\u001b[0;34m\u001b[0m\u001b[0m\n\u001b[1;32m    567\u001b[0m             \u001b[0mfilename\u001b[0m \u001b[0;34m=\u001b[0m \u001b[0margs\u001b[0m\u001b[0;34m[\u001b[0m\u001b[0;36m0\u001b[0m\u001b[0;34m]\u001b[0m\u001b[0;34m\u001b[0m\u001b[0;34m\u001b[0m\u001b[0m\n\u001b[0;32m--> 568\u001b[0;31m             \u001b[0mcrds_config\u001b[0m \u001b[0;34m=\u001b[0m \u001b[0mcls\u001b[0m\u001b[0;34m.\u001b[0m\u001b[0mget_config_from_reference\u001b[0m\u001b[0;34m(\u001b[0m\u001b[0mfilename\u001b[0m\u001b[0;34m)\u001b[0m\u001b[0;34m\u001b[0m\u001b[0;34m\u001b[0m\u001b[0m\n\u001b[0m\u001b[1;32m    569\u001b[0m         \u001b[0;32melse\u001b[0m\u001b[0;34m:\u001b[0m\u001b[0;34m\u001b[0m\u001b[0;34m\u001b[0m\u001b[0m\n\u001b[1;32m    570\u001b[0m             \u001b[0mlog_cls\u001b[0m\u001b[0;34m.\u001b[0m\u001b[0minfo\u001b[0m\u001b[0;34m(\u001b[0m\u001b[0;34m\"No filename given, cannot retrieve config from CRDS\"\u001b[0m\u001b[0;34m)\u001b[0m\u001b[0;34m\u001b[0m\u001b[0;34m\u001b[0m\u001b[0m\n",
      "\u001b[0;32m~/anaconda3/envs/jwst7.7.1/lib/python3.9/site-packages/stpipe/pipeline.py\u001b[0m in \u001b[0;36mget_config_from_reference\u001b[0;34m(cls, dataset, disable)\u001b[0m\n\u001b[1;32m    162\u001b[0m         \u001b[0;31m#\u001b[0m\u001b[0;34m\u001b[0m\u001b[0;34m\u001b[0m\u001b[0;34m\u001b[0m\u001b[0m\n\u001b[1;32m    163\u001b[0m         \u001b[0;31m# Iterate over the steps in the pipeline\u001b[0m\u001b[0;34m\u001b[0m\u001b[0;34m\u001b[0m\u001b[0;34m\u001b[0m\u001b[0m\n\u001b[0;32m--> 164\u001b[0;31m         \u001b[0;32mwith\u001b[0m \u001b[0mcls\u001b[0m\u001b[0;34m.\u001b[0m\u001b[0m_datamodels_open\u001b[0m\u001b[0;34m(\u001b[0m\u001b[0mdataset\u001b[0m\u001b[0;34m,\u001b[0m \u001b[0masn_n_members\u001b[0m\u001b[0;34m=\u001b[0m\u001b[0;36m1\u001b[0m\u001b[0;34m)\u001b[0m \u001b[0;32mas\u001b[0m \u001b[0mmodel\u001b[0m\u001b[0;34m:\u001b[0m\u001b[0;34m\u001b[0m\u001b[0;34m\u001b[0m\u001b[0m\n\u001b[0m\u001b[1;32m    165\u001b[0m             \u001b[0;32mfor\u001b[0m \u001b[0mcal_step\u001b[0m \u001b[0;32min\u001b[0m \u001b[0mcls\u001b[0m\u001b[0;34m.\u001b[0m\u001b[0mstep_defs\u001b[0m\u001b[0;34m.\u001b[0m\u001b[0mkeys\u001b[0m\u001b[0;34m(\u001b[0m\u001b[0;34m)\u001b[0m\u001b[0;34m:\u001b[0m\u001b[0;34m\u001b[0m\u001b[0;34m\u001b[0m\u001b[0m\n\u001b[1;32m    166\u001b[0m                 \u001b[0mcal_step_class\u001b[0m \u001b[0;34m=\u001b[0m \u001b[0mcls\u001b[0m\u001b[0;34m.\u001b[0m\u001b[0mstep_defs\u001b[0m\u001b[0;34m[\u001b[0m\u001b[0mcal_step\u001b[0m\u001b[0;34m]\u001b[0m\u001b[0;34m\u001b[0m\u001b[0;34m\u001b[0m\u001b[0m\n",
      "\u001b[0;32m~/anaconda3/envs/jwst7.7.1/lib/python3.9/site-packages/jwst/stpipe/core.py\u001b[0m in \u001b[0;36m_datamodels_open\u001b[0;34m(cls, init, **kwargs)\u001b[0m\n\u001b[1;32m     22\u001b[0m     \u001b[0;34m@\u001b[0m\u001b[0mclassmethod\u001b[0m\u001b[0;34m\u001b[0m\u001b[0;34m\u001b[0m\u001b[0m\n\u001b[1;32m     23\u001b[0m     \u001b[0;32mdef\u001b[0m \u001b[0m_datamodels_open\u001b[0m\u001b[0;34m(\u001b[0m\u001b[0mcls\u001b[0m\u001b[0;34m,\u001b[0m \u001b[0minit\u001b[0m\u001b[0;34m,\u001b[0m \u001b[0;34m**\u001b[0m\u001b[0mkwargs\u001b[0m\u001b[0;34m)\u001b[0m\u001b[0;34m:\u001b[0m\u001b[0;34m\u001b[0m\u001b[0;34m\u001b[0m\u001b[0m\n\u001b[0;32m---> 24\u001b[0;31m         \u001b[0;32mreturn\u001b[0m \u001b[0mdatamodels\u001b[0m\u001b[0;34m.\u001b[0m\u001b[0mopen\u001b[0m\u001b[0;34m(\u001b[0m\u001b[0minit\u001b[0m\u001b[0;34m,\u001b[0m \u001b[0;34m**\u001b[0m\u001b[0mkwargs\u001b[0m\u001b[0;34m)\u001b[0m\u001b[0;34m\u001b[0m\u001b[0;34m\u001b[0m\u001b[0m\n\u001b[0m\u001b[1;32m     25\u001b[0m \u001b[0;34m\u001b[0m\u001b[0m\n\u001b[1;32m     26\u001b[0m     \u001b[0;32mdef\u001b[0m \u001b[0mload_as_level2_asn\u001b[0m\u001b[0;34m(\u001b[0m\u001b[0mself\u001b[0m\u001b[0;34m,\u001b[0m \u001b[0mobj\u001b[0m\u001b[0;34m)\u001b[0m\u001b[0;34m:\u001b[0m\u001b[0;34m\u001b[0m\u001b[0;34m\u001b[0m\u001b[0m\n",
      "\u001b[0;32m~/anaconda3/envs/jwst7.7.1/lib/python3.9/site-packages/jwst/datamodels/util.py\u001b[0m in \u001b[0;36mopen\u001b[0;34m(init, memmap, **kwargs)\u001b[0m\n\u001b[1;32m    191\u001b[0m \u001b[0;34m\u001b[0m\u001b[0m\n\u001b[1;32m    192\u001b[0m     \u001b[0;31m# Actually open the model\u001b[0m\u001b[0;34m\u001b[0m\u001b[0;34m\u001b[0m\u001b[0;34m\u001b[0m\u001b[0m\n\u001b[0;32m--> 193\u001b[0;31m     \u001b[0mmodel\u001b[0m \u001b[0;34m=\u001b[0m \u001b[0mnew_class\u001b[0m\u001b[0;34m(\u001b[0m\u001b[0minit\u001b[0m\u001b[0;34m,\u001b[0m \u001b[0;34m**\u001b[0m\u001b[0mkwargs\u001b[0m\u001b[0;34m)\u001b[0m\u001b[0;34m\u001b[0m\u001b[0;34m\u001b[0m\u001b[0m\n\u001b[0m\u001b[1;32m    194\u001b[0m \u001b[0;34m\u001b[0m\u001b[0m\n\u001b[1;32m    195\u001b[0m     \u001b[0;31m# Close the hdulist if we opened it\u001b[0m\u001b[0;34m\u001b[0m\u001b[0;34m\u001b[0m\u001b[0;34m\u001b[0m\u001b[0m\n",
      "\u001b[0;32m~/anaconda3/envs/jwst7.7.1/lib/python3.9/site-packages/stdatamodels/model_base.py\u001b[0m in \u001b[0;36m__init__\u001b[0;34m(self, init, schema, memmap, pass_invalid_values, strict_validation, validate_on_assignment, ignore_missing_extensions, **kwargs)\u001b[0m\n\u001b[1;32m    244\u001b[0m \u001b[0;34m\u001b[0m\u001b[0m\n\u001b[1;32m    245\u001b[0m         \u001b[0;32melse\u001b[0m\u001b[0;34m:\u001b[0m\u001b[0;34m\u001b[0m\u001b[0;34m\u001b[0m\u001b[0m\n\u001b[0;32m--> 246\u001b[0;31m             raise ValueError(\n\u001b[0m\u001b[1;32m    247\u001b[0m                 \"Can't initialize datamodel using {0}\".format(str(type(init))))\n\u001b[1;32m    248\u001b[0m \u001b[0;34m\u001b[0m\u001b[0m\n",
      "\u001b[0;31mValueError\u001b[0m: Can't initialize datamodel using <class 'jwst.associations.lib.rules_level3_base.DMS_Level3_Base'>"
     ]
    }
   ],
   "source": [
    "Spec3Pipeline.call(asn3, save_results=True)"
   ]
  },
  {
   "cell_type": "code",
   "execution_count": 8,
   "metadata": {},
   "outputs": [
    {
     "name": "stderr",
     "output_type": "stream",
     "text": [
      "2021-07-12 13:55:31,701 - stpipe - WARNING - /Users/kmurray/anaconda3/envs/jwst7.7.1/lib/python3.9/site-packages/ipykernel/ipkernel.py:283: DeprecationWarning: `should_run_async` will not call `transform_cell` automatically in the future. Please pass the result to `transformed_cell` argument and any exception that happen during thetransform in `preprocessing_exc_tuple` in IPython 7.17 and above.\n",
      "  and should_run_async(code)\n",
      "\n"
     ]
    }
   ],
   "source": [
    "outlier_detect1 = datamodels.open('combine_dithers_exposures_s2d.fits')"
   ]
  },
  {
   "cell_type": "code",
   "execution_count": 14,
   "metadata": {},
   "outputs": [
    {
     "name": "stdout",
     "output_type": "stream",
     "text": [
      "4.5\n",
      "Model bbox (nod 1)= ((-0.5, 4.5), (-0.5, 386.5)) \n",
      "Model: Height x width of bounding box (nod 1) = 387.0 x 5.0 pixels\n",
      "-0.5 4.5 -0.5 386.5\n"
     ]
    }
   ],
   "source": [
    "print(outlier_detect1.meta.wcs.bounding_box[0][1]) #, outlier_detect.meta.wcs.bounding_box[0][0],outlier_detect.meta.wcs.bounding_box[1][1],outlier_detect.meta.wcs.bounding_box[1][0])\n",
    "bbox_w = outlier_detect1.meta.wcs.bounding_box[0][1] - outlier_detect1.meta.wcs.bounding_box[0][0]\n",
    "bbox_ht = outlier_detect1.meta.wcs.bounding_box[1][1] - outlier_detect1.meta.wcs.bounding_box[1][0]\n",
    "left = outlier_detect1.meta.wcs.bounding_box[0][0]\n",
    "right = outlier_detect1.meta.wcs.bounding_box[0][1]\n",
    "down = outlier_detect1.meta.wcs.bounding_box[1][0]\n",
    "up = outlier_detect1.meta.wcs.bounding_box[1][1]\n",
    "print('Model bbox (nod 1)= {0} '.format(outlier_detect1.meta.wcs.bounding_box))\n",
    "print('Model: Height x width of bounding box (nod 1) = {0} x {1} pixels'.format(bbox_ht, bbox_w))\n",
    "print(left, right, down, up)"
   ]
  },
  {
   "cell_type": "code",
   "execution_count": 16,
   "metadata": {},
   "outputs": [
    {
     "name": "stdout",
     "output_type": "stream",
     "text": [
      "[[4, 204], [1, 94], [1, 205], [0, 12]]\n"
     ]
    }
   ],
   "source": [
    "pixloc = []\n",
    "pixloc.append([random.randint(int(left),int(right)),random.randint(int(down),int(up))])\n",
    "pixloc.append([random.randint(int(left),int(right)),random.randint(int(down),int(up))])\n",
    "pixloc.append([random.randint(int(left),int(right)),random.randint(int(down),int(up))])\n",
    "pixloc.append([random.randint(int(left),int(right)),random.randint(int(down),int(up))])\n",
    "#print(pixloc)"
   ]
  },
  {
   "cell_type": "code",
   "execution_count": null,
   "metadata": {},
   "outputs": [],
   "source": []
  }
 ],
 "metadata": {
  "kernelspec": {
   "display_name": "jwst7.7.1",
   "language": "python",
   "name": "jwst7.7.1"
  },
  "language_info": {
   "codemirror_mode": {
    "name": "ipython",
    "version": 3
   },
   "file_extension": ".py",
   "mimetype": "text/x-python",
   "name": "python",
   "nbconvert_exporter": "python",
   "pygments_lexer": "ipython3",
   "version": "3.9.2"
  }
 },
 "nbformat": 4,
 "nbformat_minor": 4
}
